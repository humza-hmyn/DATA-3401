{
 "cells": [
  {
   "cell_type": "markdown",
   "id": "8c5f772d",
   "metadata": {},
   "source": [
    "# <center>Lab 4 &ndash; DATA 3401 (Fall 2022)</center>\n",
    "\n",
    "## Humza Humayun\n",
    "\n",
    "## Lab Description\n",
    "The purpose of this lab is for you to have more practice with functions, loops, and conditionals in Python"
   ]
  },
  {
   "cell_type": "markdown",
   "id": "fbebca18",
   "metadata": {},
   "source": [
    "## Exercise 1\n",
    "Write a function that takes in a list and outputs a list with the elements in reverse order **without using a command like `lst[::-1]`**.  "
   ]
  },
  {
   "cell_type": "code",
   "execution_count": 13,
   "id": "77c803ee",
   "metadata": {},
   "outputs": [
    {
     "ename": "IndexError",
     "evalue": "list assignment index out of range",
     "output_type": "error",
     "traceback": [
      "\u001b[0;31m---------------------------------------------------------------------------\u001b[0m",
      "\u001b[0;31mIndexError\u001b[0m                                Traceback (most recent call last)",
      "Cell \u001b[0;32mIn [13], line 10\u001b[0m\n\u001b[1;32m      7\u001b[0m         out_lst[i]\u001b[38;5;241m=\u001b[39minp_list[i]\n\u001b[1;32m      8\u001b[0m     \u001b[38;5;28mprint\u001b[39m(out_lst)\n\u001b[0;32m---> 10\u001b[0m \u001b[43mrev_list\u001b[49m\u001b[43m(\u001b[49m\u001b[43minp_list\u001b[49m\u001b[43m)\u001b[49m\n",
      "Cell \u001b[0;32mIn [13], line 7\u001b[0m, in \u001b[0;36mrev_list\u001b[0;34m(in_lst)\u001b[0m\n\u001b[1;32m      5\u001b[0m in_len\u001b[38;5;241m=\u001b[39m\u001b[38;5;28mlen\u001b[39m(in_lst)\n\u001b[1;32m      6\u001b[0m \u001b[38;5;28;01mfor\u001b[39;00m i \u001b[38;5;129;01min\u001b[39;00m \u001b[38;5;28mrange\u001b[39m(in_len):\n\u001b[0;32m----> 7\u001b[0m     \u001b[43mout_lst\u001b[49m\u001b[43m[\u001b[49m\u001b[43mi\u001b[49m\u001b[43m]\u001b[49m\u001b[38;5;241m=\u001b[39minp_list[i]\n\u001b[1;32m      8\u001b[0m \u001b[38;5;28mprint\u001b[39m(out_lst)\n",
      "\u001b[0;31mIndexError\u001b[0m: list assignment index out of range"
     ]
    }
   ],
   "source": [
    "inp_list = [1,2,3,4,5]\n",
    "inp_list2 = ['apples','oranges','bananas','pears']\n",
    "def rev_list(in_lst):\n",
    "    out_lst=[]\n",
    "    in_len=len(in_lst)\n",
    "    for i in range(in_len):\n",
    "        out_lst[i]=inp_list[i]\n",
    "    print(out_lst)\n",
    "    \n",
    "rev_list(inp_list)\n",
    "#rev_list(inp_list2)"
   ]
  },
  {
   "cell_type": "code",
   "execution_count": null,
   "id": "92004b0e",
   "metadata": {},
   "outputs": [],
   "source": [
    "# Test your function here\n"
   ]
  },
  {
   "cell_type": "markdown",
   "id": "16b720a3",
   "metadata": {},
   "source": [
    "## Exercise 2\n",
    "\n",
    "Write a function that takes in a string `str` and **without using string manipulation like `str[::-1]`** outputs a string with the characters of `str` in reverse order.  For example, if the input is `Hello`, then the output should be `olleH`.\n",
    "\n",
    "There are many ways to do this, but you may find the command `list('Hello')` (change Hello to any string) useful. You may also find your solution to Exercise 1 helpful."
   ]
  },
  {
   "cell_type": "code",
   "execution_count": null,
   "id": "780071c0",
   "metadata": {},
   "outputs": [],
   "source": [
    "# Write your function here\n"
   ]
  },
  {
   "cell_type": "code",
   "execution_count": null,
   "id": "0f71d85f",
   "metadata": {},
   "outputs": [],
   "source": [
    "# Test your function here\n"
   ]
  },
  {
   "cell_type": "markdown",
   "id": "3cabf70d",
   "metadata": {},
   "source": [
    "## Exercise 3\n",
    "Write a function that computes the first $n$ *twin primes* for a given positive integer $n$.  Twin primes are consecutive prime numbers separated by 2. The first few twin primes are (3,5) (5,7) (11,13), (17,19), and so on.\n",
    "Test your function for $n = 4, 10,$ and $20$."
   ]
  },
  {
   "cell_type": "code",
   "execution_count": null,
   "id": "07f14562",
   "metadata": {},
   "outputs": [],
   "source": [
    "# Write your function here\n"
   ]
  },
  {
   "cell_type": "code",
   "execution_count": null,
   "id": "a9b32035",
   "metadata": {},
   "outputs": [],
   "source": [
    "# Test your function here\n"
   ]
  },
  {
   "cell_type": "markdown",
   "id": "28274b1b",
   "metadata": {},
   "source": [
    "## Exercise 4\n",
    "Write a function that takes in a list of lists (such as `[[1,2,3],[0,1,0],[4,2,4]]`) where each sublist has the same number of elements, then draws a board like the one below, but where each empty space has the corresponding element of the list.  \n",
    "\n",
    "The list above would result in the following:\n",
    "```\n",
    "   --- --- --- \n",
    "  | 1 | 2 | 3 | \n",
    "   --- --- ---  \n",
    "  | 0 | 1 | 0 | \n",
    "   --- --- ---  \n",
    "  | 4 | 2 | 4 | \n",
    "   --- --- --- \n",
    "   ```"
   ]
  },
  {
   "cell_type": "code",
   "execution_count": null,
   "id": "10131aee",
   "metadata": {},
   "outputs": [],
   "source": [
    "# Write your function here\n"
   ]
  },
  {
   "cell_type": "code",
   "execution_count": null,
   "id": "3e49136c",
   "metadata": {},
   "outputs": [],
   "source": [
    "# Test your function here\n"
   ]
  },
  {
   "cell_type": "markdown",
   "id": "b8d58656",
   "metadata": {},
   "source": [
    "## Exercise 5\n",
    "Write a function that takes in a list of lists of size $n\\times n$ and checks if the diagonal consists of all the same number.  For example, `[[2,2,3],[0,2,1],[1,1,2]]` would yield a result of `True`, whereas the array in Exercise 4 would produce a result of `False`"
   ]
  },
  {
   "cell_type": "code",
   "execution_count": null,
   "id": "9f9dd241",
   "metadata": {},
   "outputs": [],
   "source": [
    "# Write your function here\n"
   ]
  },
  {
   "cell_type": "code",
   "execution_count": null,
   "id": "d118586d",
   "metadata": {},
   "outputs": [],
   "source": [
    "# Test your function here\n"
   ]
  },
  {
   "cell_type": "markdown",
   "id": "bbb601e3",
   "metadata": {},
   "source": [
    "## Exercise 6\n",
    "Write 3 functions that take in a list of lists of size $n\\times n$ with each entry being either 0 or 1. \n",
    "1. The first function `row_winner()` will return `True` if any row has all the same entries (for example `[[1,1,1],[1,0,1],[0,0,0]]` and `False` otherwise.\n",
    "1. The second function `col_winner()` will return `True` if any column has all the same entries and `False` otherwise.\n",
    "1. The third function `diagonal_winner()` will return `True` if the diagonal or anti-diagonal has all the same entries and `False` otherwise. (For example `[[1,0,1],[0,1,1],[1,0,0]]` has an anti-diagonal of all 1s."
   ]
  },
  {
   "cell_type": "code",
   "execution_count": null,
   "id": "1a7ccd49",
   "metadata": {},
   "outputs": [],
   "source": [
    "# Write your functions here\n"
   ]
  },
  {
   "cell_type": "code",
   "execution_count": null,
   "id": "bd898c44",
   "metadata": {},
   "outputs": [],
   "source": [
    "# Test your functions here\n"
   ]
  }
 ],
 "metadata": {
  "kernelspec": {
   "display_name": "Python 3 (ipykernel)",
   "language": "python",
   "name": "python3"
  },
  "language_info": {
   "codemirror_mode": {
    "name": "ipython",
    "version": 3
   },
   "file_extension": ".py",
   "mimetype": "text/x-python",
   "name": "python",
   "nbconvert_exporter": "python",
   "pygments_lexer": "ipython3",
   "version": "3.8.10"
  }
 },
 "nbformat": 4,
 "nbformat_minor": 5
}
