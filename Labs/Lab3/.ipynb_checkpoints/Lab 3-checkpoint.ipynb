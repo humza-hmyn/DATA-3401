{
 "cells": [
  {
   "cell_type": "markdown",
   "id": "1531ff13",
   "metadata": {},
   "source": [
    "LAB 3 - DATA 3401 - HUMZA HUMAYUN"
   ]
  },
  {
   "cell_type": "markdown",
   "id": "82d554a4",
   "metadata": {},
   "source": [
    "\n",
    "**Problem 1:\n",
    "\n",
    "Write a function/script that reads takes a string and returns True if the string is a palindrome. (A palindrome is a string that reads the same forwards and backwards, like 'racecar' or 'tacocat'.)\n"
   ]
  },
  {
   "cell_type": "code",
   "execution_count": null,
   "id": "dbc07859",
   "metadata": {},
   "outputs": [],
   "source": [
    "def palid_func(given_str):\n",
    "    rev_str=given_str[::-1]\n",
    "    if (rev_str==given_str):\n",
    "        return True\n",
    "    else:\n",
    "        return False\n"
   ]
  },
  {
   "cell_type": "code",
   "execution_count": null,
   "id": "6162a1ef",
   "metadata": {},
   "outputs": [],
   "source": [
    "palid_func(input())"
   ]
  },
  {
   "cell_type": "code",
   "execution_count": null,
   "id": "d01ed854",
   "metadata": {},
   "outputs": [],
   "source": [
    "palid_func(input())"
   ]
  },
  {
   "cell_type": "markdown",
   "id": "4a127d33",
   "metadata": {},
   "source": [
    "**Problem 2:\n",
    "\n",
    "Write a function/script that takes an integer input between 1 and 10. If the input is 4, 5, or 6, then display a message 'Congratulations, you win the prize!'. If the input is less than 4 or greater than 6, then display a mesage 'Sorry, try again.' If the input is less than 1, greater than 10, or not an integer, display a message 'Invalid input, please input an integer between 1 and 10'.\n"
   ]
  },
  {
   "cell_type": "code",
   "execution_count": null,
   "id": "a13ce5b9",
   "metadata": {},
   "outputs": [],
   "source": [
    "def numgame(numselect):\n",
    "    if numselect>1 and numselect<10:\n",
    "            if numselect>4 and numselect<6:\n",
    "                print(\"Congratulations, you win the prize!\")\n",
    "            elif numselect<4 or numselect>6:\n",
    "                print(\"Sorry, try again.\")\n",
    "            else:\n",
    "                print(\"Invalid input, please input an integer between 1 and 10\")"
   ]
  },
  {
   "cell_type": "code",
   "execution_count": null,
   "id": "a340481c",
   "metadata": {},
   "outputs": [],
   "source": [
    "numgame(int(input()))"
   ]
  },
  {
   "cell_type": "markdown",
   "id": "6926b6c8",
   "metadata": {},
   "source": [
    "**Problem 3:\n",
    "\n",
    "Write two functions even(x) and odd(x) (or scripts; these do not need to be named) that test if an integer x is even (or odd), and returns True if x is even (or odd) and False otherwise. Test both of your functions for correctness in the second and third cells below"
   ]
  },
  {
   "cell_type": "code",
   "execution_count": 9,
   "id": "ec94e16c",
   "metadata": {},
   "outputs": [],
   "source": [
    "def parity(x):\n",
    "    if x%2==0:\n",
    "        print(\"Even\")\n",
    "    else:\n",
    "        print(\"Odd\")"
   ]
  },
  {
   "cell_type": "code",
   "execution_count": 10,
   "id": "077069dc",
   "metadata": {},
   "outputs": [
    {
     "name": "stdout",
     "output_type": "stream",
     "text": [
      "6\n",
      "Even\n"
     ]
    }
   ],
   "source": [
    "parity(int(input()))"
   ]
  },
  {
   "cell_type": "code",
   "execution_count": 11,
   "id": "51951ac9",
   "metadata": {},
   "outputs": [
    {
     "name": "stdout",
     "output_type": "stream",
     "text": [
      "3\n",
      "Odd\n"
     ]
    }
   ],
   "source": [
    "parity(int(input()))"
   ]
  },
  {
   "cell_type": "markdown",
   "id": "e10b074d",
   "metadata": {},
   "source": [
    "**Problem 4:\n",
    "\n",
    "Write a function/script that takes in a list of numbers, and outputs the maximum number in the list."
   ]
  },
  {
   "cell_type": "code",
   "execution_count": 15,
   "id": "af3295ad",
   "metadata": {},
   "outputs": [
    {
     "name": "stdout",
     "output_type": "stream",
     "text": [
      "Enter number of list elements: 5\n",
      "Enter list entry number 5: 1\n",
      "Enter list entry number 4: 2\n",
      "Enter list entry number 3: 3\n",
      "Enter list entry number 2: 5\n",
      "Enter list entry number 1: 3\n",
      "[1, 2, 3, 5, 3]\n",
      "5is the max value of the inputted list\n"
     ]
    }
   ],
   "source": [
    "usr_list=[]\n",
    "n = int(input(\"Enter number of list elements: \"))\n",
    "for i in range (0,n):\n",
    "    listprompt = (\"Enter list entry number \"+str(n)+\": \")\n",
    "    ele = int(input(listprompt))\n",
    "    usr_list.append(ele)\n",
    "    n=n-1\n",
    "print(usr_list)\n",
    "print(str(max(usr_list))+\" is the max value of the inputted list\")"
   ]
  },
  {
   "cell_type": "markdown",
   "id": "f198a7e3",
   "metadata": {},
   "source": [
    "**Problem 5:\n",
    "\n",
    "Write a function/script that takes a list of numbers as input and returns a list of the subset of elements that are less that 10. Test your solution."
   ]
  },
  {
   "cell_type": "code",
   "execution_count": 33,
   "id": "ce8126af",
   "metadata": {},
   "outputs": [
    {
     "name": "stdout",
     "output_type": "stream",
     "text": [
      "Enter number of list elements: 7\n",
      "Enter list entry number 7: 1\n",
      "Enter list entry number 6: 8\n",
      "Enter list entry number 5: 90\n",
      "Enter list entry number 4: 25\n",
      "Enter list entry number 3: 7\n",
      "Enter list entry number 2: 12\n",
      "Enter list entry number 1: 22\n",
      "\n",
      "The list of values lower than 10: \n",
      "[1, 8, 7]\n"
     ]
    }
   ],
   "source": [
    "newlist=[]\n",
    "lowerlist=[]\n",
    "n = int(input(\"Enter number of list elements: \"))\n",
    "for i in range (0,n):\n",
    "    listprompt = (\"Enter list entry number \"+str(n)+\": \")\n",
    "    ele = int(input(listprompt))\n",
    "    newlist.append(ele)\n",
    "    n=n-1\n",
    "iter_range=len(newlist)\n",
    "for k in range(iter_range):\n",
    "    if newlist[k]<10:\n",
    "        #set the value to be sent to the lowerlist[]\n",
    "        low_val=newlist[k]\n",
    "        lowerlist.append(low_val)\n",
    "print(\"\\n\"+\"The list of values lower than 10: \")\n",
    "print(lowerlist)"
   ]
  },
  {
   "cell_type": "markdown",
   "id": "0310c2c0",
   "metadata": {},
   "source": [
    "**Problem 6:\n",
    "\n",
    "Write a function/script that takes a number x_max as input and returns a function that performs the same task as Problem 5, but for x_max instead of 10."
   ]
  },
  {
   "cell_type": "code",
   "execution_count": 37,
   "id": "085eba6d",
   "metadata": {},
   "outputs": [
    {
     "name": "stdout",
     "output_type": "stream",
     "text": [
      "Enter a max value:4\n",
      "Enter number of list elements: 6\n",
      "Enter list entry number 6: 7\n",
      "Enter list entry number 5: 5\n",
      "Enter list entry number 4: 2\n",
      "Enter list entry number 3: 1\n",
      "Enter list entry number 2: 3\n",
      "Enter list entry number 1: 49\n",
      "\n",
      "The list of values lower than 4: \n",
      "[2, 1, 3]\n"
     ]
    }
   ],
   "source": [
    "newlist=[]\n",
    "lowerlist=[]\n",
    "x_max=int(input(\"Enter a max value:\"))\n",
    "n = int(input(\"Enter number of list elements: \"))\n",
    "for i in range (0,n):\n",
    "    listprompt = (\"Enter list entry number \"+str(n)+\": \")\n",
    "    ele = int(input(listprompt))\n",
    "    newlist.append(ele)\n",
    "    n=n-1\n",
    "iter_range=len(newlist)\n",
    "for k in range(iter_range):\n",
    "    if newlist[k]<x_max:\n",
    "        #set the value to be sent to the lowerlist[]\n",
    "        low_val=newlist[k]\n",
    "        lowerlist.append(low_val)\n",
    "print(\"\\n\"+\"The list of values lower than \"+str(x_max)+\": \")\n",
    "print(lowerlist)"
   ]
  },
  {
   "cell_type": "markdown",
   "id": "a85c1522",
   "metadata": {},
   "source": [
    "**Problem 7:\n",
    "\n",
    "Write a function/script that takes an integer and returns all its divisors (for example, the divisors of 18 are 1, 2, 3, 6, 9, and 18)"
   ]
  },
  {
   "cell_type": "code",
   "execution_count": 42,
   "id": "839d3828",
   "metadata": {},
   "outputs": [
    {
     "name": "stdout",
     "output_type": "stream",
     "text": [
      "Enter a number to find divisors of:18\n",
      "[1, 2, 3, 6, 9, 18]\n"
     ]
    }
   ],
   "source": [
    "return_list=[]\n",
    "div_int=int(input(\"Enter a number to find divisors of:\"))\n",
    "for i in range(1,div_int+1):\n",
    "    if div_int%i==0:\n",
    "        curr_val=i\n",
    "        return_list.append(curr_val)\n",
    "print(return_list)"
   ]
  },
  {
   "cell_type": "markdown",
   "id": "cfb4f30e",
   "metadata": {},
   "source": [
    "**Problem 8:\n",
    "\n",
    "A recursive sequence is obtained as follows.\n",
    ", , and for a given integer n, . Write a function or script that computes for a given integer n. Note that , for example. Test your function with , , and ."
   ]
  },
  {
   "cell_type": "code",
   "execution_count": 57,
   "id": "749505d8",
   "metadata": {},
   "outputs": [
    {
     "name": "stdout",
     "output_type": "stream",
     "text": [
      "0\n",
      "Enter the value of n for which the sequence shoould run:2\n"
     ]
    },
    {
     "ename": "RecursionError",
     "evalue": "maximum recursion depth exceeded",
     "output_type": "error",
     "traceback": [
      "\u001b[0;31m---------------------------------------------------------------------------\u001b[0m",
      "\u001b[0;31mRecursionError\u001b[0m                            Traceback (most recent call last)",
      "Cell \u001b[0;32mIn [57], line 7\u001b[0m\n\u001b[1;32m      4\u001b[0m \u001b[38;5;28mprint\u001b[39m(result)\n\u001b[1;32m      6\u001b[0m n\u001b[38;5;241m=\u001b[39m\u001b[38;5;28mint\u001b[39m(\u001b[38;5;28minput\u001b[39m(\u001b[38;5;124m\"\u001b[39m\u001b[38;5;124mEnter the value of n for which the sequence shoould run:\u001b[39m\u001b[38;5;124m\"\u001b[39m))\n\u001b[0;32m----> 7\u001b[0m \u001b[43mrec_func\u001b[49m\u001b[43m(\u001b[49m\u001b[43mn\u001b[49m\u001b[43m)\u001b[49m\n",
      "Cell \u001b[0;32mIn [57], line 3\u001b[0m, in \u001b[0;36mrec_func\u001b[0;34m(n)\u001b[0m\n\u001b[1;32m      2\u001b[0m \u001b[38;5;28;01mdef\u001b[39;00m \u001b[38;5;21mrec_func\u001b[39m(n):\n\u001b[0;32m----> 3\u001b[0m     result\u001b[38;5;241m=\u001b[39m\u001b[38;5;241m2\u001b[39m\u001b[38;5;241m*\u001b[39m(\u001b[43mrec_func\u001b[49m\u001b[43m(\u001b[49m\u001b[43mn\u001b[49m\u001b[38;5;241;43m-\u001b[39;49m\u001b[38;5;241;43m1\u001b[39;49m\u001b[43m)\u001b[49m)\u001b[38;5;241m-\u001b[39m(rec_func(n\u001b[38;5;241m-\u001b[39m\u001b[38;5;241m2\u001b[39m))\n",
      "Cell \u001b[0;32mIn [57], line 3\u001b[0m, in \u001b[0;36mrec_func\u001b[0;34m(n)\u001b[0m\n\u001b[1;32m      2\u001b[0m \u001b[38;5;28;01mdef\u001b[39;00m \u001b[38;5;21mrec_func\u001b[39m(n):\n\u001b[0;32m----> 3\u001b[0m     result\u001b[38;5;241m=\u001b[39m\u001b[38;5;241m2\u001b[39m\u001b[38;5;241m*\u001b[39m(\u001b[43mrec_func\u001b[49m\u001b[43m(\u001b[49m\u001b[43mn\u001b[49m\u001b[38;5;241;43m-\u001b[39;49m\u001b[38;5;241;43m1\u001b[39;49m\u001b[43m)\u001b[49m)\u001b[38;5;241m-\u001b[39m(rec_func(n\u001b[38;5;241m-\u001b[39m\u001b[38;5;241m2\u001b[39m))\n",
      "    \u001b[0;31m[... skipping similar frames: rec_func at line 3 (2970 times)]\u001b[0m\n",
      "Cell \u001b[0;32mIn [57], line 3\u001b[0m, in \u001b[0;36mrec_func\u001b[0;34m(n)\u001b[0m\n\u001b[1;32m      2\u001b[0m \u001b[38;5;28;01mdef\u001b[39;00m \u001b[38;5;21mrec_func\u001b[39m(n):\n\u001b[0;32m----> 3\u001b[0m     result\u001b[38;5;241m=\u001b[39m\u001b[38;5;241m2\u001b[39m\u001b[38;5;241m*\u001b[39m(\u001b[43mrec_func\u001b[49m\u001b[43m(\u001b[49m\u001b[43mn\u001b[49m\u001b[38;5;241;43m-\u001b[39;49m\u001b[38;5;241;43m1\u001b[39;49m\u001b[43m)\u001b[49m)\u001b[38;5;241m-\u001b[39m(rec_func(n\u001b[38;5;241m-\u001b[39m\u001b[38;5;241m2\u001b[39m))\n",
      "\u001b[0;31mRecursionError\u001b[0m: maximum recursion depth exceeded"
     ]
    }
   ],
   "source": [
    "result=0\n",
    "def rec_func(n):\n",
    "    result=2*(rec_func(n-1))-(rec_func(n-2))\n",
    "print(result)\n",
    "\n",
    "n=int(input(\"Enter the value of n for which the sequence shoould run:\"))\n",
    "rec_func(n)"
   ]
  },
  {
   "cell_type": "markdown",
   "id": "2a5d75a6",
   "metadata": {},
   "source": [
    "**Problem 9:\n",
    "\n",
    "Write a Rock-Paper-Scissors game function/script, that takes 2 strings, the inputs of player 1 and player 2, and output 1 or 2 corresponding to which player wins, or 0 if draw. (You may find the input command useful: a = input(\"Player 1 move\"))\n",
    "\n",
    "Implement a Rock-Paper-Scissors game by soliciting input from 2 players, testing with this function.\n",
    "\n",
    "Remember the rules:\n",
    "\n",
    "    Rock beats scissors\n",
    "    Scissors beats paper\n",
    "    Paper beats rock"
   ]
  },
  {
   "cell_type": "code",
   "execution_count": 60,
   "id": "b1c8337a",
   "metadata": {},
   "outputs": [],
   "source": [
    "def rps_game():\n",
    "    game_init=1\n",
    "    user_valid=1\n",
    "    user2_valid=1\n",
    "    while game_init==1:\n",
    "        print(\"Let's play rock, paper, scissors! (This is a 2 player game)\\n\")\n",
    "        print(\"The Commands are R,P,S for each respective move. Enter Q at any time to quit!\\n\")\n",
    "        while user_valid==1:\n",
    "            p1_choice=input(\"Player 1: Enter your move!\")\n",
    "            p1_choice=p1_choice.upper()\n",
    "            if (p1_choice=='P' or p1_choice == 'S' or p1_choice=='R'):\n",
    "                print(\"Ok, you chose: \"+p1_choice)\n",
    "                user_valid=0\n",
    "                game_init=0\n",
    "            elif p1_choice=='Q':\n",
    "                quit()\n",
    "            else:\n",
    "                print(\"Thats an incorrect input, try again or quit.\")\n",
    "        while user2_valid==1:\n",
    "            p2_choice=input(\"Player 2: Enter your move!\")\n",
    "            p2_choice=p2_choice.upper()\n",
    "            if (p2_choice=='P' or p2_choice=='S'):\n",
    "                print(\"Ok, you chose: \"+p2_choice)\n",
    "                user2_valid=0\n",
    "                game_init=0\n",
    "            elif p2_choice=='Q':\n",
    "                quit()\n",
    "            else:\n",
    "                print(\"Thats an incorrect input, try again or quit.\")\n",
    "    if p1_choice == p2_choice:\n",
    "        print(\"It's a tie!\")\n",
    "    elif(p1_choice==\"R\"):\n",
    "        if(p2_choice==\"S\"):\n",
    "            print(\"Player One Wins!\")\n",
    "        else:\n",
    "            print(\"Player Two Wins\")\n",
    "    elif(p1_choice=='P'):\n",
    "        if(p2_choice=='R'):\n",
    "            print(\"Player One Wins\")\n",
    "        else:\n",
    "            print(\"Player Two Wins\")\n",
    "    elif(p1_choice==\"S\"):\n",
    "        if (p2_choice==\"P\"):\n",
    "            print(\"Player One Wins\")\n",
    "        else:\n",
    "            print(\"Player Two Wins\")"
   ]
  },
  {
   "cell_type": "code",
   "execution_count": 61,
   "id": "f9127695",
   "metadata": {},
   "outputs": [
    {
     "name": "stdout",
     "output_type": "stream",
     "text": [
      "Let's play rock, paper, scissors! (This is a 2 player game)\n",
      "\n",
      "The Commands are R,P,S for each respective move. Enter Q at any time to quit!\n",
      "\n",
      "Player 1: Enter your move!q\n",
      "Player 1: Enter your move!r\n",
      "Ok, you chose: R\n",
      "Player 2: Enter your move!s\n",
      "Ok, you chose: S\n",
      "Player One Wins!\n"
     ]
    }
   ],
   "source": [
    "rps_game()"
   ]
  },
  {
   "cell_type": "code",
   "execution_count": null,
   "id": "455a1df4",
   "metadata": {},
   "outputs": [],
   "source": []
  },
  {
   "cell_type": "code",
   "execution_count": null,
   "id": "8cf9670c",
   "metadata": {},
   "outputs": [],
   "source": []
  }
 ],
 "metadata": {
  "kernelspec": {
   "display_name": "Python 3 (ipykernel)",
   "language": "python",
   "name": "python3"
  },
  "language_info": {
   "codemirror_mode": {
    "name": "ipython",
    "version": 3
   },
   "file_extension": ".py",
   "mimetype": "text/x-python",
   "name": "python",
   "nbconvert_exporter": "python",
   "pygments_lexer": "ipython3",
   "version": "3.8.10"
  }
 },
 "nbformat": 4,
 "nbformat_minor": 5
}
