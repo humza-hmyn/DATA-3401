{
 "cells": [
  {
   "cell_type": "markdown",
   "id": "1531ff13",
   "metadata": {},
   "source": [
    "LAB 3 - DATA 3401 - HUMZA HUMAYUN"
   ]
  },
  {
   "cell_type": "markdown",
   "id": "82d554a4",
   "metadata": {},
   "source": [
    "\n",
    "**Problem 1:\n",
    "\n",
    "Write a function/script that reads takes a string and returns True if the string is a palindrome. (A palindrome is a string that reads the same forwards and backwards, like 'racecar' or 'tacocat'.)\n"
   ]
  },
  {
   "cell_type": "code",
   "execution_count": null,
   "id": "dbc07859",
   "metadata": {},
   "outputs": [],
   "source": [
    "def palid_func(given_str):\n",
    "    rev_str=given_str[::-1]\n",
    "    if (rev_str==given_str):\n",
    "        return True\n",
    "    else:\n",
    "        return False\n"
   ]
  },
  {
   "cell_type": "code",
   "execution_count": null,
   "id": "6162a1ef",
   "metadata": {},
   "outputs": [],
   "source": [
    "palid_func(input())"
   ]
  },
  {
   "cell_type": "code",
   "execution_count": null,
   "id": "d01ed854",
   "metadata": {},
   "outputs": [],
   "source": [
    "palid_func(input())"
   ]
  },
  {
   "cell_type": "markdown",
   "id": "4a127d33",
   "metadata": {},
   "source": [
    "**Problem 2:\n",
    "\n",
    "Write a function/script that takes an integer input between 1 and 10. If the input is 4, 5, or 6, then display a message 'Congratulations, you win the prize!'. If the input is less than 4 or greater than 6, then display a mesage 'Sorry, try again.' If the input is less than 1, greater than 10, or not an integer, display a message 'Invalid input, please input an integer between 1 and 10'.\n"
   ]
  },
  {
   "cell_type": "code",
   "execution_count": null,
   "id": "a13ce5b9",
   "metadata": {},
   "outputs": [],
   "source": [
    "def numgame(numselect):\n",
    "    if numselect>1 and numselect<10:\n",
    "            if numselect>4 and numselect<6:\n",
    "                print(\"Congratulations, you win the prize!\")\n",
    "            elif numselect<4 or numselect>6:\n",
    "                print(\"Sorry, try again.\")\n",
    "            else:\n",
    "                print(\"Invalid input, please input an integer between 1 and 10\")"
   ]
  },
  {
   "cell_type": "code",
   "execution_count": null,
   "id": "a340481c",
   "metadata": {},
   "outputs": [],
   "source": [
    "numgame(int(input()))"
   ]
  },
  {
   "cell_type": "markdown",
   "id": "6926b6c8",
   "metadata": {},
   "source": [
    "**Problem 3:\n",
    "\n",
    "Write two functions even(x) and odd(x) (or scripts; these do not need to be named) that test if an integer x is even (or odd), and returns True if x is even (or odd) and False otherwise. Test both of your functions for correctness in the second and third cells below"
   ]
  },
  {
   "cell_type": "code",
   "execution_count": 3,
   "id": "ec94e16c",
   "metadata": {},
   "outputs": [],
   "source": [
    "def parity(x):\n",
    "    if x%2==0:\n",
    "        print(\"Even\")\n",
    "    else:\n",
    "        print(\"Odd\")"
   ]
  },
  {
   "cell_type": "code",
   "execution_count": 4,
   "id": "077069dc",
   "metadata": {},
   "outputs": [
    {
     "name": "stdout",
     "output_type": "stream",
     "text": [
      "2\n",
      "Even\n"
     ]
    }
   ],
   "source": [
    "parity(int(input()))"
   ]
  },
  {
   "cell_type": "code",
   "execution_count": 5,
   "id": "51951ac9",
   "metadata": {},
   "outputs": [
    {
     "name": "stdout",
     "output_type": "stream",
     "text": [
      "5\n",
      "Odd\n"
     ]
    }
   ],
   "source": [
    "parity(int(input()))"
   ]
  },
  {
   "cell_type": "markdown",
   "id": "e10b074d",
   "metadata": {},
   "source": [
    "**Problem 4:\n",
    "\n",
    "Write a function/script that takes in a list of numbers, and outputs the maximum number in the list."
   ]
  },
  {
   "cell_type": "code",
   "execution_count": 14,
   "id": "af3295ad",
   "metadata": {},
   "outputs": [
    {
     "name": "stdout",
     "output_type": "stream",
     "text": [
      "Enter number of list elements: 8\n",
      "Enter list entry number 8: 1\n",
      "Enter list entry number 7: 2\n",
      "Enter list entry number 6: 3\n",
      "Enter list entry number 5: 4\n",
      "Enter list entry number 4: 5\n",
      "Enter list entry number 3: 6\n",
      "Enter list entry number 2: 7\n",
      "Enter list entry number 1: 3\n",
      "[1, 2, 3, 4, 5, 6, 7, 3]\n",
      "The max of the entered list is 7\n"
     ]
    }
   ],
   "source": [
    "usr_list=[]\n",
    "n = int(input(\"Enter number of list elements: \"))\n",
    "for i in range (0,n):\n",
    "    listprompt = (\"Enter list entry number \"+str(n)+\": \")\n",
    "    ele = int(input(listprompt))\n",
    "    usr_list.append(ele)\n",
    "    n=n-1\n",
    "print(usr_list)\n",
    "print(\"The max of the entered list is \"+str(max(usr_list)))"
   ]
  },
  {
   "cell_type": "markdown",
   "id": "b340bcd6",
   "metadata": {},
   "source": [
    "**Problem 5:\n",
    "\n",
    "Write a function/script that takes a list of numbers as input and returns a list of the subset of elements that are less that 10. Test your solution.\n"
   ]
  },
  {
   "cell_type": "code",
   "execution_count": null,
   "id": "86e3a76d",
   "metadata": {},
   "outputs": [],
   "source": []
  },
  {
   "cell_type": "code",
   "execution_count": null,
   "id": "085eba6d",
   "metadata": {},
   "outputs": [],
   "source": []
  },
  {
   "cell_type": "markdown",
   "id": "b5e0c07f",
   "metadata": {},
   "source": [
    "**Problem 6:\n",
    "\n",
    "Write a function/script that takes a number x_max as input and returns a function that performs the same task as Problem 5, but for x_max instead of 10."
   ]
  },
  {
   "cell_type": "code",
   "execution_count": null,
   "id": "38008d51",
   "metadata": {},
   "outputs": [],
   "source": []
  }
 ],
 "metadata": {
  "kernelspec": {
   "display_name": "Python 3 (ipykernel)",
   "language": "python",
   "name": "python3"
  },
  "language_info": {
   "codemirror_mode": {
    "name": "ipython",
    "version": 3
   },
   "file_extension": ".py",
   "mimetype": "text/x-python",
   "name": "python",
   "nbconvert_exporter": "python",
   "pygments_lexer": "ipython3",
   "version": "3.8.10"
  }
 },
 "nbformat": 4,
 "nbformat_minor": 5
}
