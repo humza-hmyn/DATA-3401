{
 "cells": [
  {
   "cell_type": "markdown",
   "id": "22ca1ba7",
   "metadata": {},
   "source": [
    "# Python Lists (+exercise)"
   ]
  },
  {
   "cell_type": "markdown",
   "id": "cad0bb39",
   "metadata": {},
   "source": [
    "Exercise:\n",
    "Write code where you define a list and check the following:\n",
    "1. if the first element is equal to the last element, print the last element\n",
    "2. else if the second element is 'Hello World,' print \"You won the prize!\"\n",
    "3. else if the last element of the list is not 0, print \"You lose!\"\n",
    "4. if none of the above, print a sad face or sum"
   ]
  },
  {
   "cell_type": "code",
   "execution_count": 13,
   "id": "344f9fa8",
   "metadata": {},
   "outputs": [
    {
     "name": "stdout",
     "output_type": "stream",
     "text": [
      ":(\n"
     ]
    }
   ],
   "source": [
    "# chose the list you want to test... and comment the other out...\n",
    "elist = ['Eggs','Hello World','Ribs','Naan','Orange Juice','Eggs'] #list definition INITIAL\n",
    "#elist = ['Eggs','Hello World','Ribs','Naan','Orange Juice','Eggos'] #second def to validate second case\n",
    "#elist = ['Eggs','Sprite','Ribs','Naan','Orange Juice','Eggos'] #third ver to validate third version\n",
    "#elist = ['Eggs','Coq Au Vin','Ribs','Naan','Orange Juice',0] #else final validation list\n",
    "if elist[0]==elist[-1]:\n",
    "    print(elist[-1])\n",
    "elif elist[1]=='Hello World':\n",
    "        print(\"YOU WON THE PRIZE!\")\n",
    "elif(elist[-1]!=0):\n",
    "    print(\"YOU LOSE BRUH\")\n",
    "else:\n",
    "    print(\":(\")"
   ]
  },
  {
   "cell_type": "code",
   "execution_count": 15,
   "id": "60bd03b2",
   "metadata": {},
   "outputs": [
    {
     "ename": "IndentationError",
     "evalue": "expected an indented block (3057505443.py, line 2)",
     "output_type": "error",
     "traceback": [
      "\u001b[0;36m  Cell \u001b[0;32mIn [15], line 2\u001b[0;36m\u001b[0m\n\u001b[0;31m    if input_list[0]==input_list[-1]:\u001b[0m\n\u001b[0m    ^\u001b[0m\n\u001b[0;31mIndentationError\u001b[0m\u001b[0;31m:\u001b[0m expected an indented block\n"
     ]
    }
   ],
   "source": [
    "def my_func(input_list):\n",
    "    if input_list[0]==input_list[-1]:\n",
    "        print(input_list[-1])\n",
    "    elif input_list[1]=='Hello World':\n",
    "        print(\"YOU WON THE PRIZE!\")\n",
    "    elif(input_list[-1]!=0):\n",
    "        print(\"YOU LOSE BRUH\")\n",
    "    else:\n",
    "        print(\":(\")\n",
    "\n",
    "my_list = ['Eggs','Hello World','Ribs','Naan','Orange Juice','Eggs']\n",
    "my_func(my_list) #calling te function with the input of my_list"
   ]
  },
  {
   "cell_type": "code",
   "execution_count": null,
   "id": "38678ee9",
   "metadata": {},
   "outputs": [],
   "source": []
  },
  {
   "cell_type": "code",
   "execution_count": null,
   "id": "0c61a806",
   "metadata": {},
   "outputs": [],
   "source": []
  }
 ],
 "metadata": {
  "kernelspec": {
   "display_name": "Python 3 (ipykernel)",
   "language": "python",
   "name": "python3"
  },
  "language_info": {
   "codemirror_mode": {
    "name": "ipython",
    "version": 3
   },
   "file_extension": ".py",
   "mimetype": "text/x-python",
   "name": "python",
   "nbconvert_exporter": "python",
   "pygments_lexer": "ipython3",
   "version": "3.8.10"
  }
 },
 "nbformat": 4,
 "nbformat_minor": 5
}
