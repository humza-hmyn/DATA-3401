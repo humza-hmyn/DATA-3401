{
 "cells": [
  {
   "cell_type": "markdown",
   "id": "9913d12b",
   "metadata": {},
   "source": [
    " # <center>Midterm Exam &ndash; DATA 3401 (Fall 2022)</center>\n",
    " \n",
    " ## Humza Humayun\n",
    "\n",
    "## Start Date: 10/12\n",
    "## Due Date: 10/14 (at 11:59pm))\n",
    "There will be **no Lab on Friday 10/14**\n",
    "\n",
    "## Midterm Rules\n",
    "This midterm exam is essentially like a short-term lab. Please work the exercises below **on your own**.  When you have completed the exam, you should push your completed jupyter notebook to your GitHub repo for this class in the **Exams->Midterm** folder.\n",
    "\n",
    "You may not discuss the problems with **anyone else**, including persons on an online internet forum. Consulting an outside source like this will be considered an academic integrity violation.\n",
    "\n",
    "You may use all class resources including previous labs and lectures, and anything posted on the course GitHub repo. \n",
    "\n",
    "You may not use any function that trivializes a problem. For example, if I ask you to write a `max` function that computes the maximum entry in a list, you are not allowed to use the pre-defined Python function `max`; you must write your own."
   ]
  },
  {
   "cell_type": "markdown",
   "id": "dbe7db65",
   "metadata": {},
   "source": [
    "## Exercise 1\n",
    "1. Write a script or function that asks the user to input 3 numbers (floats or ints), and output the product of the 3 numbers.\n",
    "    1. You may use the `input()` function to take user input, or you may write a function with 3 input arguments without using `input()`\n",
    "1. Your code should display an error message if one of the inputs is not a number.\n",
    "1. Test your code on the following inputs:  \n",
    "    1. (5, -10, 20.0)\n",
    "    1. (1, \"blah\", 5)"
   ]
  },
  {
   "cell_type": "code",
   "execution_count": 131,
   "id": "52bc748d",
   "metadata": {},
   "outputs": [],
   "source": [
    "## Write your code here\n",
    "def return_in():\n",
    "    x,y,z= input(\"Please enter three int or float values, seperated by spaces: \").split()\n",
    "    #it is easier to classify a float as a number rather than a float as a int - weird but validate it as float first\n",
    "    try:\n",
    "        xp=float(x)\n",
    "        yp=float(y)\n",
    "        zp=float(z)\n",
    "        print(type(x))\n",
    "        print(xp,yp,zp)\n",
    "        return (xp*yp*zp)\n",
    "    except ValueError:\n",
    "        print(\"There is a non numerical input\")"
   ]
  },
  {
   "cell_type": "code",
   "execution_count": 133,
   "id": "9c7e73ec",
   "metadata": {},
   "outputs": [
    {
     "name": "stdout",
     "output_type": "stream",
     "text": [
      "Please enter three int or float values, seperated by spaces: 5 -10 20.0\n",
      "<class 'str'>\n",
      "5.0 -10.0 20.0\n"
     ]
    },
    {
     "data": {
      "text/plain": [
       "-1000.0"
      ]
     },
     "execution_count": 133,
     "metadata": {},
     "output_type": "execute_result"
    }
   ],
   "source": [
    "## Test your code here\n",
    "return_in()"
   ]
  },
  {
   "cell_type": "code",
   "execution_count": 134,
   "id": "c6061c0b",
   "metadata": {},
   "outputs": [
    {
     "name": "stdout",
     "output_type": "stream",
     "text": [
      "Please enter three int or float values, seperated by spaces: 1 \"blah\" 5\n",
      "There is a non numerical input\n"
     ]
    }
   ],
   "source": [
    "return_in()"
   ]
  },
  {
   "cell_type": "markdown",
   "id": "78622bb6",
   "metadata": {},
   "source": [
    "## Exercise 2\n",
    "Suppose the first element of a sequence is $a_0 = 1$, the second element is $a_1 = 3$, and for every $i>1$, the $i$--th element of the sequence is defined by the recursive relation $a_i = \\frac{(a_{i-1}-a_{i-2})^2}{3}$. (So $a_2 = 4/3$)\n",
    "1. Write a function which outputs the $n$--th element of this sequence for a given positive integer $n$\n",
    "2. Test your function for $n = 1, 5, 10, 15,$ and $20$"
   ]
  },
  {
   "cell_type": "code",
   "execution_count": 153,
   "id": "586c4abe",
   "metadata": {},
   "outputs": [],
   "source": [
    "# Write your function here\n",
    "def recur(num_in):\n",
    "    if num_in == 0:\n",
    "        return 1\n",
    "    elif num_in == 1:\n",
    "        return 3\n",
    "    else:\n",
    "        return (((recur(num_in-1)-recur(num_in-2))**2)/3)"
   ]
  },
  {
   "cell_type": "code",
   "execution_count": 154,
   "id": "3e06edaf",
   "metadata": {},
   "outputs": [
    {
     "data": {
      "text/plain": [
       "1.3333333333333333"
      ]
     },
     "execution_count": 154,
     "metadata": {},
     "output_type": "execute_result"
    }
   ],
   "source": [
    "recur(2)"
   ]
  },
  {
   "cell_type": "code",
   "execution_count": 155,
   "id": "c01d73b0",
   "metadata": {},
   "outputs": [
    {
     "data": {
      "text/plain": [
       "3"
      ]
     },
     "execution_count": 155,
     "metadata": {},
     "output_type": "execute_result"
    }
   ],
   "source": [
    "# Test your function here\n",
    "recur(1)"
   ]
  },
  {
   "cell_type": "code",
   "execution_count": 156,
   "id": "8781b15f",
   "metadata": {},
   "outputs": [
    {
     "data": {
      "text/plain": [
       "0.25264753615031454"
      ]
     },
     "execution_count": 156,
     "metadata": {},
     "output_type": "execute_result"
    }
   ],
   "source": [
    "recur(5)"
   ]
  },
  {
   "cell_type": "code",
   "execution_count": 157,
   "id": "edcfaee8",
   "metadata": {},
   "outputs": [
    {
     "data": {
      "text/plain": [
       "3.986380447622439e-09"
      ]
     },
     "execution_count": 157,
     "metadata": {},
     "output_type": "execute_result"
    }
   ],
   "source": [
    "recur(10)"
   ]
  },
  {
   "cell_type": "code",
   "execution_count": 158,
   "id": "04171a7a",
   "metadata": {},
   "outputs": [
    {
     "data": {
      "text/plain": [
       "2.2496046712168145e-35"
      ]
     },
     "execution_count": 158,
     "metadata": {},
     "output_type": "execute_result"
    }
   ],
   "source": [
    "recur(15)"
   ]
  },
  {
   "cell_type": "code",
   "execution_count": 159,
   "id": "1093d30e",
   "metadata": {},
   "outputs": [
    {
     "data": {
      "text/plain": [
       "4.003939782244758e-285"
      ]
     },
     "execution_count": 159,
     "metadata": {},
     "output_type": "execute_result"
    }
   ],
   "source": [
    "recur(20)"
   ]
  },
  {
   "cell_type": "markdown",
   "id": "82b8368e",
   "metadata": {},
   "source": [
    "## Exercise 3\n",
    "1. Write a function which takes a list as input and outputs the largest **integer** entry. If there is none, return `None`.\n",
    "1. Test your function on the following lists\n",
    "    1. \\[ 1, 9, 10.2, 6, -2\\]\n",
    "    1. \\[1.2, 3/4, \"Hello World\"\\]"
   ]
  },
  {
   "cell_type": "code",
   "execution_count": 180,
   "id": "ceed43f2",
   "metadata": {},
   "outputs": [],
   "source": [
    "# Write your function here\n",
    "def largest_int(list_in):\n",
    "    largest=list_in[0]\n",
    "    for i in range (len(list_in)):\n",
    "        if isinstance(list_in[i],int):\n",
    "            if list_in[i]>largest:\n",
    "                largest=list_in[i]\n",
    "                return largest\n",
    "    return 'none'"
   ]
  },
  {
   "cell_type": "code",
   "execution_count": 181,
   "id": "734307f2",
   "metadata": {},
   "outputs": [
    {
     "data": {
      "text/plain": [
       "9"
      ]
     },
     "execution_count": 181,
     "metadata": {},
     "output_type": "execute_result"
    }
   ],
   "source": [
    "# Test your function here\n",
    "demo1=[ 1, 9, 10.2, 6, -2]\n",
    "largest_int(demo1)"
   ]
  },
  {
   "cell_type": "code",
   "execution_count": 182,
   "id": "cb105a12",
   "metadata": {},
   "outputs": [
    {
     "data": {
      "text/plain": [
       "'none'"
      ]
     },
     "execution_count": 182,
     "metadata": {},
     "output_type": "execute_result"
    }
   ],
   "source": [
    "demo2=[1.2, 3/4, \"Hello World\"]\n",
    "largest_int(demo2)"
   ]
  },
  {
   "cell_type": "markdown",
   "id": "5a9a5bdf",
   "metadata": {},
   "source": [
    "## Exercise 4\n",
    "1. Write a function that takes in a list of tuples, each of which contains three parts: `name, month, day` corresponding to a person's birthday, for example `('Tony Stark', 'March', 14)`. Your function should output `True` if any two people have the same birthday, and `False` if no two people have the same birthday.\n",
    "1. Test your function on the set of people `[('Thor', 'August',10), ('Phil Coulson','July',8),('T\\'Challa','November',29),('Peter Parker','August',10), ('Tony Stark', 'March', 14)]`\n",
    "1. Create your own list of people with all distinct birthdays and test your function on your list."
   ]
  },
  {
   "cell_type": "code",
   "execution_count": 183,
   "id": "1387950a",
   "metadata": {},
   "outputs": [],
   "source": [
    "# Write your functions here\n",
    "def bday_same(b_list):\n",
    "    for i in range (len(b_list)):\n",
    "        curr_m=b_list[i][1]\n",
    "        curr_d=b_list[i][2]\n",
    "        for j in range (len(b_list)):\n",
    "            if (j!=i) and (b_list[i][1]==b_list[j][1]) and (b_list[i][2]==b_list[j][2]):\n",
    "                return True\n",
    "    return False"
   ]
  },
  {
   "cell_type": "code",
   "execution_count": 184,
   "id": "e6036378",
   "metadata": {},
   "outputs": [
    {
     "data": {
      "text/plain": [
       "True"
      ]
     },
     "execution_count": 184,
     "metadata": {},
     "output_type": "execute_result"
    }
   ],
   "source": [
    "# Test your functions here\n",
    "demo_tup1=[('Thor', 'August',10), ('Phil Coulson','July',8),('T\\'Challa','November',29),('Peter Parker','August',10), ('Tony Stark', 'March', 14)]\n",
    "bday_same(demo_tup1)"
   ]
  },
  {
   "cell_type": "code",
   "execution_count": 185,
   "id": "6486d3f0",
   "metadata": {},
   "outputs": [
    {
     "data": {
      "text/plain": [
       "False"
      ]
     },
     "execution_count": 185,
     "metadata": {},
     "output_type": "execute_result"
    }
   ],
   "source": [
    "demo_t2=[('Humza','July',30),('Denton','June',22),('Lara','February',14),('Sam','November',17)]\n",
    "bday_same(demo_t2)"
   ]
  },
  {
   "cell_type": "markdown",
   "id": "a3e7a45b",
   "metadata": {},
   "source": [
    "## Exercise 5\n",
    "For this exercise, you are *not* allowed to use the `.replace()` function or a similar single string command to complete the exercise. For example, you could make a list of the input string and then use list manipulations to complete the task.\n",
    "\n",
    "1. Write a function or script that takes in two strings, and returns the first string minus all instances of the second string. You may assume the second string is a single character.  For example, an input of \"Hello World\" where \"l\" is removed should result in \"Heo Word\".\n",
    "1. Test your function by specifying \"i\" to be removed from \"Supercalifragilisticexpialidocious\"\n",
    "\n",
    "Bonus: Modify your function to allow the second string to be more than one characer. Test your new function by specifying \"data\" to be removed from \"data 3401 introduction to python for data science\". (This should result in ' 3401 introduction to python for  science'\n",
    "\n",
    "**Example:** if your function is called `replace_string(str1,str2)`, then for part 2 you should print `replace_string('Supercalifragilisticexpialidocious','i')` and for the bonus you should print `replace_string('data 3401 introduction to python for data science','data')`"
   ]
  },
  {
   "cell_type": "code",
   "execution_count": 186,
   "id": "6bbb5673",
   "metadata": {},
   "outputs": [],
   "source": [
    "# Write your function here\n",
    "def rem_inst(st_one,st_two):\n",
    "    #convert the first string into a list\n",
    "    list_one=[]\n",
    "    list_one=list(st_one)\n",
    "    for item in list_one:\n",
    "        if item==st_two:\n",
    "            list_one.remove(item)\n",
    "    s = ''.join(list_one)\n",
    "    print(s)"
   ]
  },
  {
   "cell_type": "code",
   "execution_count": 187,
   "id": "fbe320cb",
   "metadata": {},
   "outputs": [
    {
     "name": "stdout",
     "output_type": "stream",
     "text": [
      "Supercalfraglstcexpaldocous\n"
     ]
    }
   ],
   "source": [
    "# Test your function here\n",
    "st_one='Supercalifragilisticexpialidocious'\n",
    "st_two='i'\n",
    "rem_inst(st_one,st_two)"
   ]
  },
  {
   "cell_type": "code",
   "execution_count": 188,
   "id": "c0ad7a9b",
   "metadata": {},
   "outputs": [
    {
     "name": "stdout",
     "output_type": "stream",
     "text": [
      "Bonlss Chickn Wings ar NOT Chickn Wings\n"
     ]
    }
   ],
   "source": [
    "st_one='Boneless Chicken Wings are NOT Chicken Wings'\n",
    "st_two='e'\n",
    "rem_inst(st_one,st_two)"
   ]
  },
  {
   "cell_type": "code",
   "execution_count": 189,
   "id": "d83f6b0b",
   "metadata": {},
   "outputs": [],
   "source": [
    "#bonus\n",
    "def rem_inst(st_one,st_two):\n",
    "    #convert the first string into a list\n",
    "    list_one=[]\n",
    "    list_one=list(st_one)\n",
    "    for item in list_one:\n",
    "        if item==st_two:\n",
    "            list_one.remove(item)\n",
    "    s = ''.join(list_one)\n",
    "    print(s)"
   ]
  },
  {
   "cell_type": "code",
   "execution_count": null,
   "id": "e6dc075f",
   "metadata": {},
   "outputs": [],
   "source": []
  }
 ],
 "metadata": {
  "kernelspec": {
   "display_name": "Python 3 (ipykernel)",
   "language": "python",
   "name": "python3"
  },
  "language_info": {
   "codemirror_mode": {
    "name": "ipython",
    "version": 3
   },
   "file_extension": ".py",
   "mimetype": "text/x-python",
   "name": "python",
   "nbconvert_exporter": "python",
   "pygments_lexer": "ipython3",
   "version": "3.8.10"
  }
 },
 "nbformat": 4,
 "nbformat_minor": 5
}
