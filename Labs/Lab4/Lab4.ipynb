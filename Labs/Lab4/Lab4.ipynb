{
 "cells": [
  {
   "cell_type": "markdown",
   "id": "8c5f772d",
   "metadata": {},
   "source": [
    "# <center>Lab 4 &ndash; DATA 3401 (Fall 2022)</center>\n",
    "\n",
    "## Humza Humayun\n",
    "\n",
    "## Lab Description\n",
    "The purpose of this lab is for you to have more practice with functions, loops, and conditionals in Python"
   ]
  },
  {
   "cell_type": "markdown",
   "id": "fbebca18",
   "metadata": {},
   "source": [
    "## Exercise 1\n",
    "Write a function that takes in a list and outputs a list with the elements in reverse order **without using a command like `lst[::-1]`**.  "
   ]
  },
  {
   "cell_type": "code",
   "execution_count": 27,
   "id": "77c803ee",
   "metadata": {},
   "outputs": [],
   "source": [
    "inp_list = [1,2,3,4,5]\n",
    "inp_list2 = ['apples','oranges','bananas','pears']\n",
    "\n",
    "def rev_list(in_lst):\n",
    "    out_lst=[]\n",
    "    in_len=len(in_lst)\n",
    "    for i in range(in_len):\n",
    "        curr_vali=in_lst[i]\n",
    "        out_lst.insert(0,curr_vali)\n",
    "    #print(out_lst)\n",
    "    return out_lst"
   ]
  },
  {
   "cell_type": "code",
   "execution_count": 29,
   "id": "92004b0e",
   "metadata": {},
   "outputs": [
    {
     "data": {
      "text/plain": [
       "[5, 4, 3, 2, 1]"
      ]
     },
     "execution_count": 29,
     "metadata": {},
     "output_type": "execute_result"
    }
   ],
   "source": [
    "rev_list(inp_list)"
   ]
  },
  {
   "cell_type": "code",
   "execution_count": 30,
   "id": "9151a9ed",
   "metadata": {},
   "outputs": [
    {
     "data": {
      "text/plain": [
       "['pears', 'bananas', 'oranges', 'apples']"
      ]
     },
     "execution_count": 30,
     "metadata": {},
     "output_type": "execute_result"
    }
   ],
   "source": [
    "rev_list(inp_list2)"
   ]
  },
  {
   "cell_type": "markdown",
   "id": "16b720a3",
   "metadata": {},
   "source": [
    "## Exercise 2\n",
    "\n",
    "Write a function that takes in a string `str` and **without using string manipulation like `str[::-1]`** outputs a string with the characters of `str` in reverse order.  For example, if the input is `Hello`, then the output should be `olleH`.\n",
    "\n",
    "There are many ways to do this, but you may find the command `list('Hello')` (change Hello to any string) useful. You may also find your solution to Exercise 1 helpful."
   ]
  },
  {
   "cell_type": "code",
   "execution_count": 37,
   "id": "780071c0",
   "metadata": {},
   "outputs": [],
   "source": [
    "def rev_str(in_term):\n",
    "    conv_word=list(in_term)\n",
    "    rev_inp=rev_list(in_term) #are we allowed to refrence a function we called earlier?\n",
    "    out_fin=''.join(rev_inp)\n",
    "    print(out_fin)"
   ]
  },
  {
   "cell_type": "code",
   "execution_count": 38,
   "id": "0f71d85f",
   "metadata": {},
   "outputs": [
    {
     "name": "stdout",
     "output_type": "stream",
     "text": [
      "cat\n",
      "tac\n"
     ]
    }
   ],
   "source": [
    "rev_str(input())"
   ]
  },
  {
   "cell_type": "markdown",
   "id": "3cabf70d",
   "metadata": {},
   "source": [
    "## Exercise 3\n",
    "Write a function that computes the first $n$ *twin primes* for a given positive integer $n$.  Twin primes are consecutive prime numbers separated by 2. The first few twin primes are (3,5) (5,7) (11,13), (17,19), and so on.\n",
    "Test your function for $n = 4, 10,$ and $20$."
   ]
  },
  {
   "cell_type": "code",
   "execution_count": null,
   "id": "07f14562",
   "metadata": {},
   "outputs": [],
   "source": [
    "def twin_pr(num_in):\n",
    "    "
   ]
  },
  {
   "cell_type": "code",
   "execution_count": null,
   "id": "a9b32035",
   "metadata": {},
   "outputs": [],
   "source": [
    "# Test your function here\n"
   ]
  },
  {
   "cell_type": "markdown",
   "id": "28274b1b",
   "metadata": {},
   "source": [
    "## Exercise 4\n",
    "Write a function that takes in a list of lists (such as `[[1,2,3],[0,1,0],[4,2,4]]`) where each sublist has the same number of elements, then draws a board like the one below, but where each empty space has the corresponding element of the list.  \n",
    "\n",
    "The list above would result in the following:\n",
    "```\n",
    "   --- --- --- \n",
    "  | 1 | 2 | 3 | \n",
    "   --- --- ---  \n",
    "  | 0 | 1 | 0 | \n",
    "   --- --- ---  \n",
    "  | 4 | 2 | 4 | \n",
    "   --- --- --- \n",
    "   ```"
   ]
  },
  {
   "cell_type": "code",
   "execution_count": 60,
   "id": "10131aee",
   "metadata": {},
   "outputs": [],
   "source": [
    "# Write your function here\n",
    "ex_lst=[[1,2,3],[0,1,0],[4,2,4]]\n",
    "def make_grid(list_lst):\n",
    "    curr_inner=[]\n",
    "    print(\" --- --- ---\")\n",
    "    for i in range (len(list_lst)):\n",
    "        curr_inner=list_lst[i]\n",
    "        for j in range (len(curr_inner)):\n",
    "            print(\"|\", end = \" \")\n",
    "            print(curr_inner[j],end = \" \")\n",
    "        print(\"|\\n\")\n",
    "    print(\" --- --- ---\")"
   ]
  },
  {
   "cell_type": "code",
   "execution_count": 61,
   "id": "3e49136c",
   "metadata": {},
   "outputs": [
    {
     "name": "stdout",
     "output_type": "stream",
     "text": [
      " --- --- ---\n",
      "| 1 | 2 | 3 |\n",
      "\n",
      "| 0 | 1 | 0 |\n",
      "\n",
      "| 4 | 2 | 4 |\n",
      "\n",
      " --- --- ---\n"
     ]
    }
   ],
   "source": [
    "make_grid(ex_lstlst)"
   ]
  },
  {
   "cell_type": "markdown",
   "id": "b8d58656",
   "metadata": {},
   "source": [
    "## Exercise 5\n",
    "Write a function that takes in a list of lists of size $n\\times n$ and checks if the diagonal consists of all the same number.  For example, `[[2,2,3],[0,2,1],[1,1,2]]` would yield a result of `True`, whereas the array in Exercise 4 would produce a result of `False`"
   ]
  },
  {
   "cell_type": "code",
   "execution_count": 163,
   "id": "9f9dd241",
   "metadata": {},
   "outputs": [],
   "source": [
    "def daig_conf(in_grid):\n",
    "    prev_val=0\n",
    "    for i in range (len(in_grid)):\n",
    "        inner_list=in_grid[i]\n",
    "        j=i\n",
    "        current_val=inner_list[j]\n",
    "        if prev_val == 0:\n",
    "            prev_val=current_val\n",
    "        elif current_val!=prev_val:\n",
    "            return False\n",
    "    return True"
   ]
  },
  {
   "cell_type": "code",
   "execution_count": 164,
   "id": "d118586d",
   "metadata": {},
   "outputs": [
    {
     "data": {
      "text/plain": [
       "True"
      ]
     },
     "execution_count": 164,
     "metadata": {},
     "output_type": "execute_result"
    }
   ],
   "source": [
    "daig_conf([[2,2,3],[0,2,1],[1,1,2]]) #this should be TRUE"
   ]
  },
  {
   "cell_type": "code",
   "execution_count": 165,
   "id": "fa74ae69",
   "metadata": {},
   "outputs": [
    {
     "data": {
      "text/plain": [
       "False"
      ]
     },
     "execution_count": 165,
     "metadata": {},
     "output_type": "execute_result"
    }
   ],
   "source": [
    "daig_conf([[1,2,3],[0,2,1],[1,1,3]]) #this should be FALSE"
   ]
  },
  {
   "cell_type": "markdown",
   "id": "bbb601e3",
   "metadata": {},
   "source": [
    "## Exercise 6\n",
    "Write 3 functions that take in a list of lists of size $n\\times n$ with each entry being either 0 or 1. \n",
    "1. The first function `row_winner()` will return `True` if any row has all the same entries (for example `[[1,1,1],[1,0,1],[0,0,0]]` and `False` otherwise.\n",
    "1. The second function `col_winner()` will return `True` if any column has all the same entries and `False` otherwise.\n",
    "1. The third function `diagonal_winner()` will return `True` if the diagonal or anti-diagonal has all the same entries and `False` otherwise. (For example `[[1,0,1],[0,1,1],[1,0,0]]` has an anti-diagonal of all 1s."
   ]
  },
  {
   "cell_type": "code",
   "execution_count": 248,
   "id": "1a7ccd49",
   "metadata": {},
   "outputs": [
    {
     "ename": "SyntaxError",
     "evalue": "invalid syntax (2784379374.py, line 13)",
     "output_type": "error",
     "traceback": [
      "\u001b[0;36m  Cell \u001b[0;32mIn [248], line 13\u001b[0;36m\u001b[0m\n\u001b[0;31m    elif prev_val==fin_r_val\u001b[0m\n\u001b[0m                            ^\u001b[0m\n\u001b[0;31mSyntaxError\u001b[0m\u001b[0;31m:\u001b[0m invalid syntax\n"
     ]
    }
   ],
   "source": [
    "def  row_winner(game_lists):\n",
    "    prev_val=0\n",
    "    curr_inner=[]\n",
    "    for i in range (len(game_lists)):\n",
    "        curr_inner=game_lists[i]\n",
    "        for j in range (len(curr_inner)):\n",
    "            print(\"current row val:\"+str(curr_inner[j]))\n",
    "            curr_val_check=curr_inner[j]\n",
    "            fin_r_val = [len(curr_inner)-1]\n",
    "            if prev_val==0:\n",
    "                prev_val=curr_inner[j]\n",
    "                print(prev_val)\n",
    "            elif prev_val==fin_r_val\n",
    "                return True\n",
    "            elif curr_val_check!=prev_val:\n",
    "                print(curr_val_check)\n",
    "                return False"
   ]
  },
  {
   "cell_type": "code",
   "execution_count": 249,
   "id": "bd898c44",
   "metadata": {},
   "outputs": [
    {
     "name": "stdout",
     "output_type": "stream",
     "text": [
      "current row val:1\n",
      "1\n",
      "current row val:1\n",
      "current row val:1\n",
      "current row val:1\n",
      "current row val:0\n",
      "0\n"
     ]
    },
    {
     "data": {
      "text/plain": [
       "False"
      ]
     },
     "execution_count": 249,
     "metadata": {},
     "output_type": "execute_result"
    }
   ],
   "source": [
    "# Test your functions here\n",
    "row_winner([[1,1,1],[1,0,1],[0,0,0]])"
   ]
  },
  {
   "cell_type": "code",
   "execution_count": null,
   "id": "18a0da9a",
   "metadata": {},
   "outputs": [],
   "source": []
  }
 ],
 "metadata": {
  "kernelspec": {
   "display_name": "Python 3 (ipykernel)",
   "language": "python",
   "name": "python3"
  },
  "language_info": {
   "codemirror_mode": {
    "name": "ipython",
    "version": 3
   },
   "file_extension": ".py",
   "mimetype": "text/x-python",
   "name": "python",
   "nbconvert_exporter": "python",
   "pygments_lexer": "ipython3",
   "version": "3.8.10"
  }
 },
 "nbformat": 4,
 "nbformat_minor": 5
}
