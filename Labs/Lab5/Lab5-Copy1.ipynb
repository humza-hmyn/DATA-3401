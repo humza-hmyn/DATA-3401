{
 "cells": [
  {
   "cell_type": "markdown",
   "id": "22ba222c",
   "metadata": {},
   "source": [
    "# <center>Lab 5 &ndash; DATA 3401 (Fall 2022)</center>\n",
    "\n",
    "## Humza Hashmi Humayun\n",
    "\n",
    "## Lab Dates: 9/30 and 10/7\n",
    "## Due Date: *Tuesday(!!)* 10/11 (by 11:59pm)\n",
    "\n",
    "## Lab Description\n",
    "The purpose of this lab is for you to build a tic-tac-toe game. I will be building a checkers game in lecture, which should help you along the way of making tic-tac-toe."
   ]
  },
  {
   "cell_type": "markdown",
   "id": "2b6823d3",
   "metadata": {},
   "source": [
    "## Special Instructions\n",
    "At the end of this lab you should have a functioning tic-tac-toe game. I will show you mine at the beginning of lab as an example, and the Exercises below provide a scaffolding to help you make the game.\n",
    "\n",
    "**However**, if your game works and is designed differently than the instructions below, **that is acceptable** as long as you don't use any tools that trivialize the problem (e.g., any ready-made tool to play the game, or something that allows you to not code the logic of the game itself). If you want to do the game an alternate way, I suggest you tell me your idea so that we can discuss it and I will give you feedback.\n",
    "\n",
    "This is a **1.5-week** lab, and it will **most likely take you 1.5 weeks** to do it! Please work consistently over that time. If you leave it all until a day or two before the deadline, you will most likely not finish."
   ]
  },
  {
   "cell_type": "markdown",
   "id": "e334683a",
   "metadata": {},
   "source": [
    "## Tic-Tac-Toe\n",
    "Tic-Tac-Toe is a game between 2 players on an $n\\times n$ board. Player 1 uses `X` as their piece and Player 2 uses `O` as their piece. Players successively place down their pieces at one board square until one player's pieces either fills an entire column, entire row, or the entire diagonal of the board.  If the board is filled and there is no player, then the game is a draw.  For more information, see https://en.wikipedia.org/wiki/Tic-tac-toe.\n"
   ]
  },
  {
   "cell_type": "markdown",
   "id": "a6ee807c",
   "metadata": {},
   "source": [
    "## Exercise 1\n",
    "As in my checkers game, use the conventions below for players, empty space, and player pieces, and write a function that makes an empty $n\\times n$ Tic-Tac-Toe board for a given input argument $n$."
   ]
  },
  {
   "cell_type": "code",
   "execution_count": 3,
   "id": "8800538b",
   "metadata": {},
   "outputs": [],
   "source": [
    "# Abstract representation of players and empty space -- an empty board will be a list of lists of 0s (empty)\n",
    "player_1 = 1\n",
    "player_2 = 2\n",
    "empty = 0\n",
    "\n",
    "# When we start drawing the board, we will place \"pieces\" down for each player. Player 1 will put down \"X\", \n",
    "# Player 2 will put down \"O\", and an empty space will be drawn as a space character\n",
    "player_1_piece = \"X\"\n",
    "player_2_piece = \"O\"\n",
    "empty_space = \" \"\n",
    "\n",
    "# This dictionary will be used to draw the game board in Exercise 2.\n",
    "space_character = {player_1: player_1_piece,\n",
    "                  player_2: player_2_piece,\n",
    "                  empty: empty_space}\n",
    "\n",
    "# Set size of the board to draw\n",
    "#num_rows = len(board)\n",
    "#num_cols = num_rows"
   ]
  },
  {
   "cell_type": "code",
   "execution_count": 4,
   "id": "25cc14e8",
   "metadata": {},
   "outputs": [],
   "source": [
    "## Write your board initialization function here\n",
    "board=[]\n",
    "def make_board(n_dim):\n",
    "    board.clear()\n",
    "    for i in range(n_dim):\n",
    "        row_list=[]\n",
    "        for j in range(n_dim):\n",
    "            row_list.append(0)\n",
    "        board.append(row_list)\n",
    "    return board"
   ]
  },
  {
   "cell_type": "code",
   "execution_count": 5,
   "id": "3503635c",
   "metadata": {},
   "outputs": [
    {
     "name": "stdout",
     "output_type": "stream",
     "text": [
      "3\n"
     ]
    },
    {
     "data": {
      "text/plain": [
       "[[0, 0, 0], [0, 0, 0], [0, 0, 0]]"
      ]
     },
     "execution_count": 5,
     "metadata": {},
     "output_type": "execute_result"
    }
   ],
   "source": [
    "## Test your function here (for multiple values of n)\n",
    "make_board(int(input()))"
   ]
  },
  {
   "cell_type": "code",
   "execution_count": 6,
   "id": "1a337767",
   "metadata": {},
   "outputs": [
    {
     "name": "stdout",
     "output_type": "stream",
     "text": [
      "6\n"
     ]
    },
    {
     "data": {
      "text/plain": [
       "[[0, 0, 0, 0, 0, 0],\n",
       " [0, 0, 0, 0, 0, 0],\n",
       " [0, 0, 0, 0, 0, 0],\n",
       " [0, 0, 0, 0, 0, 0],\n",
       " [0, 0, 0, 0, 0, 0],\n",
       " [0, 0, 0, 0, 0, 0]]"
      ]
     },
     "execution_count": 6,
     "metadata": {},
     "output_type": "execute_result"
    }
   ],
   "source": [
    "make_board(int(input()))"
   ]
  },
  {
   "cell_type": "markdown",
   "id": "9874ddb1",
   "metadata": {},
   "source": [
    "## Exercise 2"
   ]
  },
  {
   "cell_type": "markdown",
   "id": "3ddc756c",
   "metadata": {},
   "source": [
    "In Lab 4, Exercise 4, you wrote a function to display a board based on a list of list input (If you were not successful, you may use the code below). \n",
    "\n",
    "Modify this function to add labels to the rows and columns. Rows should be labelled A, B, C, D, ... and columns should be labelled 1, 2, 3, 4, ... Your code will need to work to draw a board for any $n\\leq 26$."
   ]
  },
  {
   "cell_type": "code",
   "execution_count": 7,
   "id": "0a7be93a",
   "metadata": {},
   "outputs": [],
   "source": [
    "## Initial display function example\n",
    "def draw_board(board):\n",
    "    num_rows = len(board)\n",
    "    num_cols = len(board[0])\n",
    "      \n",
    "    print(\" ---\"*num_cols)\n",
    "    for i in range(num_rows):\n",
    "        print(\"|\",end=\" \")\n",
    "        for j in range(num_cols):\n",
    "            print(space_character[board[i][j]],end=\" \")\n",
    "            print(\"|\",end=\" \")\n",
    "        print()  \n",
    "        print(\" ---\"*num_cols)"
   ]
  },
  {
   "cell_type": "code",
   "execution_count": 8,
   "id": "d9068417",
   "metadata": {},
   "outputs": [
    {
     "name": "stdout",
     "output_type": "stream",
     "text": [
      " --- --- ---\n",
      "|   |   |   | \n",
      " --- --- ---\n",
      "| X |   | X | \n",
      " --- --- ---\n",
      "| O | O |   | \n",
      " --- --- ---\n"
     ]
    }
   ],
   "source": [
    "## Example usage (note your board should work for any size n)\n",
    "board = [[0,0,0],[1,0,1],[2,2,0]]\n",
    "draw_board(board)"
   ]
  },
  {
   "cell_type": "markdown",
   "id": "f443e8b1",
   "metadata": {},
   "source": [
    " Here is a sample 5x5 board\n",
    " \n",
    " ```\n",
    "     1   2   3   4   5\n",
    "    --- --- --- --- --- \n",
    " A |   |   |   |   |   |\n",
    "    --- --- --- --- --- \n",
    " B |   |   |   |   |   |\n",
    "    --- --- --- --- --- \n",
    " C |   |   |   |   |   |\n",
    "    --- --- --- --- --- \n",
    " D |   |   |   |   |   |\n",
    "    --- --- --- --- --- \n",
    " E |   |   |   |   |   |\n",
    "    --- --- --- --- --- \n",
    "   ```"
   ]
  },
  {
   "cell_type": "code",
   "execution_count": 9,
   "id": "7cf5f342",
   "metadata": {},
   "outputs": [],
   "source": [
    "## Write your new function here\n",
    "def make_grid(list_lst):\n",
    "    alpha=['A','B','C','D','E','F','G','H','I','J','K','L','M','N','O','P','Q','R','S','T','U','V','W','X','Y','Z']\n",
    "    curr_inner=[]\n",
    "    grid_border=\"--- \"\n",
    "    print(\"    \",end=\"\")\n",
    "    for i in range(len(list_lst)):\n",
    "        print(str(i+1),end =\"   \")\n",
    "    print(\"\\n \",end=\"  \")\n",
    "    print(grid_border*len(list_lst))\n",
    "    for i in range (len(list_lst)):\n",
    "        curr_inner=list_lst[i]\n",
    "        print(alpha[i],end = \" \")\n",
    "        for j in range (len(curr_inner)):\n",
    "            print(\"|\", end = \" \")\n",
    "            print(curr_inner[j],end = \" \")\n",
    "        print(\"|\")\n",
    "        print(\" \",end=\"  \")\n",
    "        print(grid_border*len(list_lst))"
   ]
  },
  {
   "cell_type": "code",
   "execution_count": 10,
   "id": "7d7e7106",
   "metadata": {},
   "outputs": [
    {
     "name": "stdout",
     "output_type": "stream",
     "text": [
      "    1   2   3   \n",
      "   --- --- --- \n",
      "A | 1 | 2 | 3 |\n",
      "   --- --- --- \n",
      "B | 4 | 5 | 6 |\n",
      "   --- --- --- \n",
      "C | 7 | 8 | 9 |\n",
      "   --- --- --- \n"
     ]
    }
   ],
   "source": [
    "## Test your function here (for multiple values of n)\n",
    "demo=[[1,2,3],[4,5,6],[7,8,9]]\n",
    "make_grid(demo)"
   ]
  },
  {
   "cell_type": "code",
   "execution_count": 11,
   "id": "d8b0c752",
   "metadata": {},
   "outputs": [
    {
     "name": "stdout",
     "output_type": "stream",
     "text": [
      "    1   2   3   4   \n",
      "   --- --- --- --- \n",
      "A | 1 | 2 | 3 | 7 |\n",
      "   --- --- --- --- \n",
      "B | 4 | 5 | 6 | 8 |\n",
      "   --- --- --- --- \n",
      "C | 7 | 8 | 9 | 2 |\n",
      "   --- --- --- --- \n",
      "D | 4 | 2 | 4 | 9 |\n",
      "   --- --- --- --- \n"
     ]
    }
   ],
   "source": [
    "demo2=[[1,2,3,7],[4,5,6,8],[7,8,9,2],[4,2,4,9]]\n",
    "make_grid(demo2)"
   ]
  },
  {
   "cell_type": "markdown",
   "id": "09f9ff78",
   "metadata": {},
   "source": [
    "## Exercise 3\n",
    "If you wish to use my testing function print_message, I am putting it below. You do not have to, but it can be helpful to test all cases of your game.\n",
    "\n",
    "Write a function `make_move` that takes in a board, player, and location, and puts the player's piece at the given location on the board (note there are some logical steps to check here just like in our checkers game)."
   ]
  },
  {
   "cell_type": "code",
   "execution_count": 12,
   "id": "ccc7d1df",
   "metadata": {},
   "outputs": [],
   "source": [
    "def print_message(message, verbose=True):\n",
    "    if verbose:\n",
    "        print(message)"
   ]
  },
  {
   "cell_type": "code",
   "execution_count": 13,
   "id": "b204020d",
   "metadata": {},
   "outputs": [],
   "source": [
    "## Write your function here\n",
    "\n",
    "def make_move(board_in,player_id,location):\n",
    "    #Letter (row) is the I-th element of the list of lists \n",
    "    #Number (column) is the J-th element of the inner list\n",
    "    size=len(board_in)\n",
    "    #location=x,y\n",
    "    curr_inner=[]\n",
    "    \n",
    "    col_names = list(map(str,range(1,size+1)))\n",
    "    col_map = dict(zip(col_names,range(size)))\n",
    "    row_names = \"ABCDEFGHIJKLMNOPQRSTUVWXYZ\"\n",
    "    row_map = dict(zip(row_names,range(size)))\n",
    "    \n",
    "    row_entered=location[0]\n",
    "    col_entered=location[1]\n",
    "    \n",
    "    if player_id=='P1':\n",
    "        print(\"Player One selects: \"+location)\n",
    "        x=int(row_map[row_entered])\n",
    "        y=int(col_entered)-1\n",
    "        print(board_in[x][y])\n",
    "        curr_inner=board_in[x]\n",
    "        curr_inner[y]='1'\n",
    "        make_grid(board_in)\n",
    "    if player_id=='P2':\n",
    "        print(\"Player Two selects: \"+location)\n",
    "        x=int(row_map[row_entered])\n",
    "        y=int(col_entered)-1\n",
    "        print(board_in[x][y])\n",
    "        curr_inner=board_in[x]\n",
    "        curr_inner[y]='2'\n",
    "        make_grid(board_in)"
   ]
  },
  {
   "cell_type": "code",
   "execution_count": 14,
   "id": "c7c15b03",
   "metadata": {},
   "outputs": [
    {
     "name": "stdout",
     "output_type": "stream",
     "text": [
      "Player One selects: B1\n",
      "0\n",
      "    1   2   \n",
      "   --- --- \n",
      "A | 0 | 0 |\n",
      "   --- --- \n",
      "B | 1 | 0 |\n",
      "   --- --- \n"
     ]
    }
   ],
   "source": [
    "## Test your function here\n",
    "demo_board=[[0,0],[0,0]]\n",
    "make_move(demo_board,'P1','B1')"
   ]
  },
  {
   "cell_type": "code",
   "execution_count": 15,
   "id": "0d3d94d3",
   "metadata": {},
   "outputs": [
    {
     "name": "stdout",
     "output_type": "stream",
     "text": [
      "Player Two selects: B2\n",
      "0\n",
      "    1   2   \n",
      "   --- --- \n",
      "A | 0 | 0 |\n",
      "   --- --- \n",
      "B | 1 | 2 |\n",
      "   --- --- \n"
     ]
    }
   ],
   "source": [
    "make_move(demo_board,'P2','B2')"
   ]
  },
  {
   "cell_type": "markdown",
   "id": "798edbe3",
   "metadata": {},
   "source": [
    "## Exercise 4\n",
    "**Note:** You can do this exercise in 1 function or multiple ones. I will show you a way to do it in multiple functions with my checkers game in class, but it is up to you.\n",
    "\n",
    "Write a function or functions which have input arguments board and player, and will ask the player for a location to place their piece (use the `input` command here).  The player's input should be of the form \"A2\", \"B1\", etc. based on your display in Exercise 2.\n",
    "\n",
    "Your function(s) should check that the location is valid and that it is empty.\n",
    "\n",
    "Your function(s) should keep attempting to take user input until a valid, empty location is given."
   ]
  },
  {
   "cell_type": "code",
   "execution_count": 16,
   "id": "7a8d97ba",
   "metadata": {},
   "outputs": [],
   "source": [
    "## Write your function here\n",
    "def move_decypher(board,loc_code):\n",
    "    size=len(board)\n",
    "    row_entered=loc_code[0] #x\n",
    "    col_entered=loc_code[1] #y\n",
    "    col_names = list(map(str,range(1,size+1)))\n",
    "    col_map = dict(zip(col_names,range(size)))\n",
    "    row_names = \"ABCDEFGHIJKLMNOPQRSTUVWXYZ\"\n",
    "    row_map = dict(zip(row_names,range(size)))\n",
    "    if not row_entered in row_map:\n",
    "        print(\"Invalid Row\")\n",
    "        return False\n",
    "    if not col_entered in col_map:\n",
    "        print(\"Invalid Row\")\n",
    "        return False\n",
    "    x=int(row_map[row_entered])\n",
    "    y=int(col_entered)-1\n",
    "    loc_tup = (x,y)\n",
    "    return loc_tup\n",
    "\n",
    "def proper_turn(board,player,loc_code):\n",
    "    #check if the player move is legal\n",
    "    move_encode=move_decypher(board,loc_code)\n",
    "    if move_encode == False:\n",
    "        print(\"This value does not exist.\")\n",
    "    (x,y)=move_encode\n",
    "    current_ind=board[x]\n",
    "    if current_ind[y] != 0:\n",
    "        print(\"This spot is occupied. Try again.\")\n",
    "        return False\n",
    "    elif current_ind[y] == 0:\n",
    "        if player=='P1':\n",
    "            current_ind[y]=1\n",
    "        else:\n",
    "            current_ind[y]=2\n",
    "    return True\n",
    "    \n",
    "    \n",
    "def get_input(board,player):\n",
    "    make_grid(board)\n",
    "    valid_move=False\n",
    "    while not valid_move:\n",
    "        loc=input(\"Where would you like to place your piece? \")\n",
    "        if loc == \"XX\":\n",
    "            return -1\n",
    "        valid_move=proper_turn(board,player,loc)\n",
    "    make_grid(board)"
   ]
  },
  {
   "cell_type": "code",
   "execution_count": 17,
   "id": "5b8eef9b",
   "metadata": {},
   "outputs": [
    {
     "name": "stdout",
     "output_type": "stream",
     "text": [
      "    1   2   3   4   5   \n",
      "   --- --- --- --- --- \n",
      "A | 0 | 0 | 0 | 0 | 0 |\n",
      "   --- --- --- --- --- \n",
      "B | 0 | 0 | 0 | 0 | 0 |\n",
      "   --- --- --- --- --- \n",
      "C | 1 | 0 | 2 | 1 | 0 |\n",
      "   --- --- --- --- --- \n",
      "D | 3 | 4 | 5 | 6 | 0 |\n",
      "   --- --- --- --- --- \n",
      "E | 0 | 1 | 0 | 0 | 0 |\n",
      "   --- --- --- --- --- \n",
      "Where would you like to place your piece? D3\n",
      "This spot is occupied. Try again.\n",
      "Where would you like to place your piece? E1\n",
      "    1   2   3   4   5   \n",
      "   --- --- --- --- --- \n",
      "A | 0 | 0 | 0 | 0 | 0 |\n",
      "   --- --- --- --- --- \n",
      "B | 0 | 0 | 0 | 0 | 0 |\n",
      "   --- --- --- --- --- \n",
      "C | 1 | 0 | 2 | 1 | 0 |\n",
      "   --- --- --- --- --- \n",
      "D | 3 | 4 | 5 | 6 | 0 |\n",
      "   --- --- --- --- --- \n",
      "E | 1 | 1 | 0 | 0 | 0 |\n",
      "   --- --- --- --- --- \n"
     ]
    }
   ],
   "source": [
    "## Test your function here\n",
    "demo_board=[[0,0,0,0,0],[0,0,0,0,0],[1,0,2,1,0],[3,4,5,6,0],[0,1,0,0,0]]\n",
    "get_input(demo_board,'P1')"
   ]
  },
  {
   "cell_type": "code",
   "execution_count": 18,
   "id": "a135aecf",
   "metadata": {},
   "outputs": [
    {
     "name": "stdout",
     "output_type": "stream",
     "text": [
      "    1   2   3   4   5   \n",
      "   --- --- --- --- --- \n",
      "A | 0 | 0 | 0 | 0 | 0 |\n",
      "   --- --- --- --- --- \n",
      "B | 0 | 0 | 0 | 0 | 0 |\n",
      "   --- --- --- --- --- \n",
      "C | 1 | 0 | 2 | 1 | 0 |\n",
      "   --- --- --- --- --- \n",
      "D | 3 | 4 | 5 | 6 | 0 |\n",
      "   --- --- --- --- --- \n",
      "E | 1 | 1 | 0 | 0 | 0 |\n",
      "   --- --- --- --- --- \n",
      "Where would you like to place your piece? B4\n",
      "    1   2   3   4   5   \n",
      "   --- --- --- --- --- \n",
      "A | 0 | 0 | 0 | 0 | 0 |\n",
      "   --- --- --- --- --- \n",
      "B | 0 | 0 | 0 | 2 | 0 |\n",
      "   --- --- --- --- --- \n",
      "C | 1 | 0 | 2 | 1 | 0 |\n",
      "   --- --- --- --- --- \n",
      "D | 3 | 4 | 5 | 6 | 0 |\n",
      "   --- --- --- --- --- \n",
      "E | 1 | 1 | 0 | 0 | 0 |\n",
      "   --- --- --- --- --- \n"
     ]
    }
   ],
   "source": [
    "get_input(demo_board,'P2')"
   ]
  },
  {
   "cell_type": "markdown",
   "id": "3c74aa90",
   "metadata": {},
   "source": [
    "## Exercise 5\n",
    "Write a function that takes a board, and checks its status. Your function should returns -1 if the game is incomplete, 0 if the game is a draw, 1 if player 1 has won, and 2 if player 2 has won"
   ]
  },
  {
   "cell_type": "code",
   "execution_count": 31,
   "id": "ca50267c",
   "metadata": {},
   "outputs": [],
   "source": [
    "## Here is code to check if a player has won (Lab 4, Exercise 6). I have modified them to return\n",
    "## the player who has won rather or False if there is no row/col/diagonal winner rather than \n",
    "## returning only True if there is a winner.\n",
    "\n",
    "## You should take these functions and put them inside a function called game_state(board)\n",
    "## This function will use the functions below to check if there is a winner, \n",
    "## and return the player if so\n",
    "## You will need to write another function to determine if the game is a draw and return 0\n",
    "\n",
    "def is_winner(lst):\n",
    "    if lst == [player_1]*len(lst):\n",
    "        return player_1\n",
    "    elif lst == [player_2]*len(lst):\n",
    "        return player_2\n",
    "    else:\n",
    "        return False\n",
    "\n",
    "# Check row winner\n",
    "def row_winner(board):\n",
    "    num_rows = len(board)\n",
    "    num_cols = num_rows\n",
    "    for i in range(num_rows):\n",
    "        if board[i] == [player_1]*num_rows:\n",
    "            return player_1\n",
    "        if board[i] == [player_2]*num_rows:\n",
    "            return player_2\n",
    "        ## if is_winner(board[i])==player_1:\n",
    "        ##    return player_1\n",
    "    return False\n",
    "\n",
    "def col_winner(board):\n",
    "    # Make lists of columns\n",
    "    col_list = []\n",
    "    num_rows = len(board)\n",
    "    num_cols = num_rows\n",
    "    for i in range(num_cols):\n",
    "        col = []\n",
    "        for j in range(num_rows):\n",
    "            col.append(board[j][i])\n",
    "        col_list.append(col)\n",
    "    \n",
    "    for i in range(num_cols):\n",
    "        if is_winner(col_list[i]) == player_1:\n",
    "            return player_1\n",
    "        if is_winner(col_list[i]) == player_2:\n",
    "            return player_2\n",
    "    return False\n",
    "\n",
    "def diag_winner(board):\n",
    "    # Make diagonal and anti-diagonal lists\n",
    "    num_rows = len(board)\n",
    "    num_cols = num_rows\n",
    "    diag = []\n",
    "    anti_diag = []\n",
    "    for j in range(num_rows):\n",
    "        diag.append(board[j][j])\n",
    "        anti_diag.append(board[j][num_cols-j-1])\n",
    "    diag_list = [diag, anti_diag]\n",
    "    \n",
    "    for i in range(2):\n",
    "        if is_winner(diag_list[i]) == player_1:\n",
    "            return player_1\n",
    "        if is_winner(diag_list[i]) == player_2:\n",
    "            return player_2\n",
    "    return False"
   ]
  },
  {
   "cell_type": "code",
   "execution_count": 32,
   "id": "37ef6fe4",
   "metadata": {},
   "outputs": [
    {
     "name": "stdout",
     "output_type": "stream",
     "text": [
      "1\n",
      "False\n"
     ]
    }
   ],
   "source": [
    "# Example usage\n",
    "board = [[1,2,1],[1,1,3],[0,2,1]]\n",
    "print(diag_winner(board))\n",
    "board2 = [[0,0,0],[0,1,0],[0,0,1]]\n",
    "print(diag_winner(board2))"
   ]
  },
  {
   "cell_type": "code",
   "execution_count": 33,
   "id": "8a814131",
   "metadata": {},
   "outputs": [],
   "source": [
    "#these are various example boards:\n",
    "P1_COL=[[1,2,3],[6,1,2],[8,4,1]]\n",
    "P2_row=[[2,2,2],[3,1,2],[1,2,3]]\n",
    "stale=[[1,1,2],[2,1,1],[1,2,2]]"
   ]
  },
  {
   "cell_type": "code",
   "execution_count": 34,
   "id": "2ead2015",
   "metadata": {},
   "outputs": [],
   "source": [
    "## Write your function here\n",
    "def game_draw(board):\n",
    "    #go thru the list of lists and see if n^2 positions are filled by either 1's or 2's\n",
    "    inner_list=[]\n",
    "    size=len(board)\n",
    "    fill_count=0\n",
    "    for i in range(size):\n",
    "        inner_list=board[i]\n",
    "        for j in range(len(inner_list)):\n",
    "            if inner_list[j] == 1 or inner_list[j] == 2:\n",
    "                fill_count=fill_count+1\n",
    "    if fill_count==(size*size):\n",
    "        return 3\n",
    "    \n",
    "def game_state(board):\n",
    "    #call all checks above + check for draw state\n",
    "    row_w=row_winner(board)\n",
    "    col_w=col_winner(board)\n",
    "    diag_w=diag_winner(board)\n",
    "    draw_check=game_draw(board)\n",
    "    if row_w == player_1 or col_w == player_1 or diag_w == player_1:\n",
    "        print(\"PLAYER ONE WINS!!!\")\n",
    "        return 1\n",
    "    elif row_w == player_2 or col_w == player_2 or diag_w == player_2:\n",
    "        print(\"PLAYER TWO WINS!!!\")\n",
    "        return 2\n",
    "    elif draw_check==3:\n",
    "        return 0\n",
    "    return -1"
   ]
  },
  {
   "cell_type": "code",
   "execution_count": 35,
   "id": "2e3b105e",
   "metadata": {},
   "outputs": [
    {
     "name": "stdout",
     "output_type": "stream",
     "text": [
      "PLAYER ONE WINS!!!\n"
     ]
    },
    {
     "data": {
      "text/plain": [
       "1"
      ]
     },
     "execution_count": 35,
     "metadata": {},
     "output_type": "execute_result"
    }
   ],
   "source": [
    "## Test your function here\n",
    "game_state(P1_COL)"
   ]
  },
  {
   "cell_type": "code",
   "execution_count": 36,
   "id": "4616effb",
   "metadata": {},
   "outputs": [
    {
     "name": "stdout",
     "output_type": "stream",
     "text": [
      "PLAYER TWO WINS!!!\n"
     ]
    },
    {
     "data": {
      "text/plain": [
       "2"
      ]
     },
     "execution_count": 36,
     "metadata": {},
     "output_type": "execute_result"
    }
   ],
   "source": [
    "game_state(P2_row)"
   ]
  },
  {
   "cell_type": "code",
   "execution_count": 37,
   "id": "05438ff2",
   "metadata": {},
   "outputs": [
    {
     "data": {
      "text/plain": [
       "0"
      ]
     },
     "execution_count": 37,
     "metadata": {},
     "output_type": "execute_result"
    }
   ],
   "source": [
    "game_state(stale)"
   ]
  },
  {
   "cell_type": "markdown",
   "id": "23573a49",
   "metadata": {},
   "source": [
    "## Exercise 6\n",
    "Putting it all together: write a function tictactoe_game() that starts by drawing an empty board, and successively asks for Player 1 move followed by Player 2 move, until the game is over.  The game should end once there is a winner, or if the board is filled and the game ends in a draw.\n",
    "\n",
    "Your game should draw the state of the board after each successful player move.\n",
    "\n",
    "Your game should print a winning (or draw) message at the end of the game."
   ]
  },
  {
   "cell_type": "code",
   "execution_count": 38,
   "id": "db007afa",
   "metadata": {},
   "outputs": [],
   "source": [
    "## Write your function here\n",
    "def tictactoe_game():\n",
    "    board=[]\n",
    "    game_init=True\n",
    "    curr_player='P1'\n",
    "    \n",
    "    print(\"Hello, welcome to Humza's Tic-Tac-Toe game. This is a 2 player game.\")\n",
    "    n_dim=int(input(\"Please enter a number to define the dimensions of the game board: \"))\n",
    "    \n",
    "    board=make_board(n_dim) #draws empty board based on n by n dimensions\n",
    "    #make_grid(board) #draws a grid for the players to see and refrence - initial view of the grid\n",
    "    while game_init is True:\n",
    "        #play the game while it's true\n",
    "        #start with player one and switch to p2 every turn:\n",
    "        if curr_player=='P1':\n",
    "            print(\"Player One, it's your turn: \")\n",
    "            get_input(board,curr_player)#get the input, analyze win state, switch current player, and repeat\n",
    "            game_state(board)\n",
    "            if game_state(board) != -1:\n",
    "                return -1\n",
    "            elif game_state==1 or game_state==2:\n",
    "                print(\"There is a winner!\")\n",
    "                return -1\n",
    "            print(game_state(board))\n",
    "            curr_player='P2'\n",
    "        if curr_player=='P2':\n",
    "            print(\"Player Two, it's your turn: \")\n",
    "            get_input(board,curr_player)\n",
    "            if game_state(board) != -1:\n",
    "                return -1\n",
    "            print(game_state(board))\n",
    "            curr_player='P1'"
   ]
  },
  {
   "cell_type": "code",
   "execution_count": 39,
   "id": "ebe05014",
   "metadata": {},
   "outputs": [
    {
     "name": "stdout",
     "output_type": "stream",
     "text": [
      "Hello, welcome to Humza's Tic-Tac-Toe game. This is a 2 player game.\n",
      "Please enter a number to define the dimensions of the game board: 3\n",
      "Player One, it's your turn: \n",
      "    1   2   3   \n",
      "   --- --- --- \n",
      "A | 0 | 0 | 0 |\n",
      "   --- --- --- \n",
      "B | 0 | 0 | 0 |\n",
      "   --- --- --- \n",
      "C | 0 | 0 | 0 |\n",
      "   --- --- --- \n",
      "Where would you like to place your piece? A3\n",
      "    1   2   3   \n",
      "   --- --- --- \n",
      "A | 0 | 0 | 1 |\n",
      "   --- --- --- \n",
      "B | 0 | 0 | 0 |\n",
      "   --- --- --- \n",
      "C | 0 | 0 | 0 |\n",
      "   --- --- --- \n",
      "-1\n",
      "Player Two, it's your turn: \n",
      "    1   2   3   \n",
      "   --- --- --- \n",
      "A | 0 | 0 | 1 |\n",
      "   --- --- --- \n",
      "B | 0 | 0 | 0 |\n",
      "   --- --- --- \n",
      "C | 0 | 0 | 0 |\n",
      "   --- --- --- \n",
      "Where would you like to place your piece? B1\n",
      "    1   2   3   \n",
      "   --- --- --- \n",
      "A | 0 | 0 | 1 |\n",
      "   --- --- --- \n",
      "B | 2 | 0 | 0 |\n",
      "   --- --- --- \n",
      "C | 0 | 0 | 0 |\n",
      "   --- --- --- \n",
      "-1\n",
      "Player One, it's your turn: \n",
      "    1   2   3   \n",
      "   --- --- --- \n",
      "A | 0 | 0 | 1 |\n",
      "   --- --- --- \n",
      "B | 2 | 0 | 0 |\n",
      "   --- --- --- \n",
      "C | 0 | 0 | 0 |\n",
      "   --- --- --- \n",
      "Where would you like to place your piece? B2\n",
      "    1   2   3   \n",
      "   --- --- --- \n",
      "A | 0 | 0 | 1 |\n",
      "   --- --- --- \n",
      "B | 2 | 1 | 0 |\n",
      "   --- --- --- \n",
      "C | 0 | 0 | 0 |\n",
      "   --- --- --- \n",
      "-1\n",
      "Player Two, it's your turn: \n",
      "    1   2   3   \n",
      "   --- --- --- \n",
      "A | 0 | 0 | 1 |\n",
      "   --- --- --- \n",
      "B | 2 | 1 | 0 |\n",
      "   --- --- --- \n",
      "C | 0 | 0 | 0 |\n",
      "   --- --- --- \n",
      "Where would you like to place your piece? A1\n",
      "    1   2   3   \n",
      "   --- --- --- \n",
      "A | 2 | 0 | 1 |\n",
      "   --- --- --- \n",
      "B | 2 | 1 | 0 |\n",
      "   --- --- --- \n",
      "C | 0 | 0 | 0 |\n",
      "   --- --- --- \n",
      "-1\n",
      "Player One, it's your turn: \n",
      "    1   2   3   \n",
      "   --- --- --- \n",
      "A | 2 | 0 | 1 |\n",
      "   --- --- --- \n",
      "B | 2 | 1 | 0 |\n",
      "   --- --- --- \n",
      "C | 0 | 0 | 0 |\n",
      "   --- --- --- \n",
      "Where would you like to place your piece? C1\n",
      "    1   2   3   \n",
      "   --- --- --- \n",
      "A | 2 | 0 | 1 |\n",
      "   --- --- --- \n",
      "B | 2 | 1 | 0 |\n",
      "   --- --- --- \n",
      "C | 1 | 0 | 0 |\n",
      "   --- --- --- \n",
      "PLAYER ONE WINS!!!\n",
      "PLAYER ONE WINS!!!\n"
     ]
    },
    {
     "data": {
      "text/plain": [
       "-1"
      ]
     },
     "execution_count": 39,
     "metadata": {},
     "output_type": "execute_result"
    }
   ],
   "source": [
    "## Test your function here\n",
    "tictactoe_game()"
   ]
  },
  {
   "cell_type": "code",
   "execution_count": 40,
   "id": "d80daf7b",
   "metadata": {},
   "outputs": [
    {
     "name": "stdout",
     "output_type": "stream",
     "text": [
      "Hello, welcome to Humza's Tic-Tac-Toe game. This is a 2 player game.\n",
      "Please enter a number to define the dimensions of the game board: 5\n",
      "Player One, it's your turn: \n",
      "    1   2   3   4   5   \n",
      "   --- --- --- --- --- \n",
      "A | 0 | 0 | 0 | 0 | 0 |\n",
      "   --- --- --- --- --- \n",
      "B | 0 | 0 | 0 | 0 | 0 |\n",
      "   --- --- --- --- --- \n",
      "C | 0 | 0 | 0 | 0 | 0 |\n",
      "   --- --- --- --- --- \n",
      "D | 0 | 0 | 0 | 0 | 0 |\n",
      "   --- --- --- --- --- \n",
      "E | 0 | 0 | 0 | 0 | 0 |\n",
      "   --- --- --- --- --- \n",
      "Where would you like to place your piece? B3\n",
      "    1   2   3   4   5   \n",
      "   --- --- --- --- --- \n",
      "A | 0 | 0 | 0 | 0 | 0 |\n",
      "   --- --- --- --- --- \n",
      "B | 0 | 0 | 1 | 0 | 0 |\n",
      "   --- --- --- --- --- \n",
      "C | 0 | 0 | 0 | 0 | 0 |\n",
      "   --- --- --- --- --- \n",
      "D | 0 | 0 | 0 | 0 | 0 |\n",
      "   --- --- --- --- --- \n",
      "E | 0 | 0 | 0 | 0 | 0 |\n",
      "   --- --- --- --- --- \n",
      "-1\n",
      "Player Two, it's your turn: \n",
      "    1   2   3   4   5   \n",
      "   --- --- --- --- --- \n",
      "A | 0 | 0 | 0 | 0 | 0 |\n",
      "   --- --- --- --- --- \n",
      "B | 0 | 0 | 1 | 0 | 0 |\n",
      "   --- --- --- --- --- \n",
      "C | 0 | 0 | 0 | 0 | 0 |\n",
      "   --- --- --- --- --- \n",
      "D | 0 | 0 | 0 | 0 | 0 |\n",
      "   --- --- --- --- --- \n",
      "E | 0 | 0 | 0 | 0 | 0 |\n",
      "   --- --- --- --- --- \n",
      "Where would you like to place your piece? A2\n",
      "    1   2   3   4   5   \n",
      "   --- --- --- --- --- \n",
      "A | 0 | 2 | 0 | 0 | 0 |\n",
      "   --- --- --- --- --- \n",
      "B | 0 | 0 | 1 | 0 | 0 |\n",
      "   --- --- --- --- --- \n",
      "C | 0 | 0 | 0 | 0 | 0 |\n",
      "   --- --- --- --- --- \n",
      "D | 0 | 0 | 0 | 0 | 0 |\n",
      "   --- --- --- --- --- \n",
      "E | 0 | 0 | 0 | 0 | 0 |\n",
      "   --- --- --- --- --- \n",
      "-1\n",
      "Player One, it's your turn: \n",
      "    1   2   3   4   5   \n",
      "   --- --- --- --- --- \n",
      "A | 0 | 2 | 0 | 0 | 0 |\n",
      "   --- --- --- --- --- \n",
      "B | 0 | 0 | 1 | 0 | 0 |\n",
      "   --- --- --- --- --- \n",
      "C | 0 | 0 | 0 | 0 | 0 |\n",
      "   --- --- --- --- --- \n",
      "D | 0 | 0 | 0 | 0 | 0 |\n",
      "   --- --- --- --- --- \n",
      "E | 0 | 0 | 0 | 0 | 0 |\n",
      "   --- --- --- --- --- \n",
      "Where would you like to place your piece? A3\n",
      "    1   2   3   4   5   \n",
      "   --- --- --- --- --- \n",
      "A | 0 | 2 | 1 | 0 | 0 |\n",
      "   --- --- --- --- --- \n",
      "B | 0 | 0 | 1 | 0 | 0 |\n",
      "   --- --- --- --- --- \n",
      "C | 0 | 0 | 0 | 0 | 0 |\n",
      "   --- --- --- --- --- \n",
      "D | 0 | 0 | 0 | 0 | 0 |\n",
      "   --- --- --- --- --- \n",
      "E | 0 | 0 | 0 | 0 | 0 |\n",
      "   --- --- --- --- --- \n",
      "-1\n",
      "Player Two, it's your turn: \n",
      "    1   2   3   4   5   \n",
      "   --- --- --- --- --- \n",
      "A | 0 | 2 | 1 | 0 | 0 |\n",
      "   --- --- --- --- --- \n",
      "B | 0 | 0 | 1 | 0 | 0 |\n",
      "   --- --- --- --- --- \n",
      "C | 0 | 0 | 0 | 0 | 0 |\n",
      "   --- --- --- --- --- \n",
      "D | 0 | 0 | 0 | 0 | 0 |\n",
      "   --- --- --- --- --- \n",
      "E | 0 | 0 | 0 | 0 | 0 |\n",
      "   --- --- --- --- --- \n",
      "Where would you like to place your piece? A1\n",
      "    1   2   3   4   5   \n",
      "   --- --- --- --- --- \n",
      "A | 2 | 2 | 1 | 0 | 0 |\n",
      "   --- --- --- --- --- \n",
      "B | 0 | 0 | 1 | 0 | 0 |\n",
      "   --- --- --- --- --- \n",
      "C | 0 | 0 | 0 | 0 | 0 |\n",
      "   --- --- --- --- --- \n",
      "D | 0 | 0 | 0 | 0 | 0 |\n",
      "   --- --- --- --- --- \n",
      "E | 0 | 0 | 0 | 0 | 0 |\n",
      "   --- --- --- --- --- \n",
      "-1\n",
      "Player One, it's your turn: \n",
      "    1   2   3   4   5   \n",
      "   --- --- --- --- --- \n",
      "A | 2 | 2 | 1 | 0 | 0 |\n",
      "   --- --- --- --- --- \n",
      "B | 0 | 0 | 1 | 0 | 0 |\n",
      "   --- --- --- --- --- \n",
      "C | 0 | 0 | 0 | 0 | 0 |\n",
      "   --- --- --- --- --- \n",
      "D | 0 | 0 | 0 | 0 | 0 |\n",
      "   --- --- --- --- --- \n",
      "E | 0 | 0 | 0 | 0 | 0 |\n",
      "   --- --- --- --- --- \n",
      "Where would you like to place your piece? B1\n",
      "    1   2   3   4   5   \n",
      "   --- --- --- --- --- \n",
      "A | 2 | 2 | 1 | 0 | 0 |\n",
      "   --- --- --- --- --- \n",
      "B | 1 | 0 | 1 | 0 | 0 |\n",
      "   --- --- --- --- --- \n",
      "C | 0 | 0 | 0 | 0 | 0 |\n",
      "   --- --- --- --- --- \n",
      "D | 0 | 0 | 0 | 0 | 0 |\n",
      "   --- --- --- --- --- \n",
      "E | 0 | 0 | 0 | 0 | 0 |\n",
      "   --- --- --- --- --- \n",
      "-1\n",
      "Player Two, it's your turn: \n",
      "    1   2   3   4   5   \n",
      "   --- --- --- --- --- \n",
      "A | 2 | 2 | 1 | 0 | 0 |\n",
      "   --- --- --- --- --- \n",
      "B | 1 | 0 | 1 | 0 | 0 |\n",
      "   --- --- --- --- --- \n",
      "C | 0 | 0 | 0 | 0 | 0 |\n",
      "   --- --- --- --- --- \n",
      "D | 0 | 0 | 0 | 0 | 0 |\n",
      "   --- --- --- --- --- \n",
      "E | 0 | 0 | 0 | 0 | 0 |\n",
      "   --- --- --- --- --- \n",
      "Where would you like to place your piece? B2\n",
      "    1   2   3   4   5   \n",
      "   --- --- --- --- --- \n",
      "A | 2 | 2 | 1 | 0 | 0 |\n",
      "   --- --- --- --- --- \n",
      "B | 1 | 2 | 1 | 0 | 0 |\n",
      "   --- --- --- --- --- \n",
      "C | 0 | 0 | 0 | 0 | 0 |\n",
      "   --- --- --- --- --- \n",
      "D | 0 | 0 | 0 | 0 | 0 |\n",
      "   --- --- --- --- --- \n",
      "E | 0 | 0 | 0 | 0 | 0 |\n",
      "   --- --- --- --- --- \n",
      "-1\n",
      "Player One, it's your turn: \n",
      "    1   2   3   4   5   \n",
      "   --- --- --- --- --- \n",
      "A | 2 | 2 | 1 | 0 | 0 |\n",
      "   --- --- --- --- --- \n",
      "B | 1 | 2 | 1 | 0 | 0 |\n",
      "   --- --- --- --- --- \n",
      "C | 0 | 0 | 0 | 0 | 0 |\n",
      "   --- --- --- --- --- \n",
      "D | 0 | 0 | 0 | 0 | 0 |\n",
      "   --- --- --- --- --- \n",
      "E | 0 | 0 | 0 | 0 | 0 |\n",
      "   --- --- --- --- --- \n",
      "Where would you like to place your piece? B4\n",
      "    1   2   3   4   5   \n",
      "   --- --- --- --- --- \n",
      "A | 2 | 2 | 1 | 0 | 0 |\n",
      "   --- --- --- --- --- \n",
      "B | 1 | 2 | 1 | 1 | 0 |\n",
      "   --- --- --- --- --- \n",
      "C | 0 | 0 | 0 | 0 | 0 |\n",
      "   --- --- --- --- --- \n",
      "D | 0 | 0 | 0 | 0 | 0 |\n",
      "   --- --- --- --- --- \n",
      "E | 0 | 0 | 0 | 0 | 0 |\n",
      "   --- --- --- --- --- \n",
      "-1\n",
      "Player Two, it's your turn: \n",
      "    1   2   3   4   5   \n",
      "   --- --- --- --- --- \n",
      "A | 2 | 2 | 1 | 0 | 0 |\n",
      "   --- --- --- --- --- \n",
      "B | 1 | 2 | 1 | 1 | 0 |\n",
      "   --- --- --- --- --- \n",
      "C | 0 | 0 | 0 | 0 | 0 |\n",
      "   --- --- --- --- --- \n",
      "D | 0 | 0 | 0 | 0 | 0 |\n",
      "   --- --- --- --- --- \n",
      "E | 0 | 0 | 0 | 0 | 0 |\n",
      "   --- --- --- --- --- \n",
      "Where would you like to place your piece? C3\n",
      "    1   2   3   4   5   \n",
      "   --- --- --- --- --- \n",
      "A | 2 | 2 | 1 | 0 | 0 |\n",
      "   --- --- --- --- --- \n",
      "B | 1 | 2 | 1 | 1 | 0 |\n",
      "   --- --- --- --- --- \n",
      "C | 0 | 0 | 2 | 0 | 0 |\n",
      "   --- --- --- --- --- \n",
      "D | 0 | 0 | 0 | 0 | 0 |\n",
      "   --- --- --- --- --- \n",
      "E | 0 | 0 | 0 | 0 | 0 |\n",
      "   --- --- --- --- --- \n",
      "-1\n",
      "Player One, it's your turn: \n",
      "    1   2   3   4   5   \n",
      "   --- --- --- --- --- \n",
      "A | 2 | 2 | 1 | 0 | 0 |\n",
      "   --- --- --- --- --- \n",
      "B | 1 | 2 | 1 | 1 | 0 |\n",
      "   --- --- --- --- --- \n",
      "C | 0 | 0 | 2 | 0 | 0 |\n",
      "   --- --- --- --- --- \n",
      "D | 0 | 0 | 0 | 0 | 0 |\n",
      "   --- --- --- --- --- \n",
      "E | 0 | 0 | 0 | 0 | 0 |\n",
      "   --- --- --- --- --- \n",
      "Where would you like to place your piece? C2\n",
      "    1   2   3   4   5   \n",
      "   --- --- --- --- --- \n",
      "A | 2 | 2 | 1 | 0 | 0 |\n",
      "   --- --- --- --- --- \n",
      "B | 1 | 2 | 1 | 1 | 0 |\n",
      "   --- --- --- --- --- \n",
      "C | 0 | 1 | 2 | 0 | 0 |\n",
      "   --- --- --- --- --- \n",
      "D | 0 | 0 | 0 | 0 | 0 |\n",
      "   --- --- --- --- --- \n",
      "E | 0 | 0 | 0 | 0 | 0 |\n",
      "   --- --- --- --- --- \n",
      "-1\n",
      "Player Two, it's your turn: \n",
      "    1   2   3   4   5   \n",
      "   --- --- --- --- --- \n",
      "A | 2 | 2 | 1 | 0 | 0 |\n",
      "   --- --- --- --- --- \n",
      "B | 1 | 2 | 1 | 1 | 0 |\n",
      "   --- --- --- --- --- \n",
      "C | 0 | 1 | 2 | 0 | 0 |\n",
      "   --- --- --- --- --- \n",
      "D | 0 | 0 | 0 | 0 | 0 |\n",
      "   --- --- --- --- --- \n",
      "E | 0 | 0 | 0 | 0 | 0 |\n",
      "   --- --- --- --- --- \n",
      "Where would you like to place your piece? D4\n",
      "    1   2   3   4   5   \n",
      "   --- --- --- --- --- \n",
      "A | 2 | 2 | 1 | 0 | 0 |\n",
      "   --- --- --- --- --- \n",
      "B | 1 | 2 | 1 | 1 | 0 |\n",
      "   --- --- --- --- --- \n",
      "C | 0 | 1 | 2 | 0 | 0 |\n",
      "   --- --- --- --- --- \n",
      "D | 0 | 0 | 0 | 2 | 0 |\n",
      "   --- --- --- --- --- \n",
      "E | 0 | 0 | 0 | 0 | 0 |\n",
      "   --- --- --- --- --- \n",
      "-1\n",
      "Player One, it's your turn: \n",
      "    1   2   3   4   5   \n",
      "   --- --- --- --- --- \n",
      "A | 2 | 2 | 1 | 0 | 0 |\n",
      "   --- --- --- --- --- \n",
      "B | 1 | 2 | 1 | 1 | 0 |\n",
      "   --- --- --- --- --- \n",
      "C | 0 | 1 | 2 | 0 | 0 |\n",
      "   --- --- --- --- --- \n",
      "D | 0 | 0 | 0 | 2 | 0 |\n",
      "   --- --- --- --- --- \n",
      "E | 0 | 0 | 0 | 0 | 0 |\n",
      "   --- --- --- --- --- \n",
      "Where would you like to place your piece? E3\n",
      "    1   2   3   4   5   \n",
      "   --- --- --- --- --- \n",
      "A | 2 | 2 | 1 | 0 | 0 |\n",
      "   --- --- --- --- --- \n",
      "B | 1 | 2 | 1 | 1 | 0 |\n",
      "   --- --- --- --- --- \n",
      "C | 0 | 1 | 2 | 0 | 0 |\n",
      "   --- --- --- --- --- \n",
      "D | 0 | 0 | 0 | 2 | 0 |\n",
      "   --- --- --- --- --- \n",
      "E | 0 | 0 | 1 | 0 | 0 |\n",
      "   --- --- --- --- --- \n",
      "-1\n",
      "Player Two, it's your turn: \n",
      "    1   2   3   4   5   \n",
      "   --- --- --- --- --- \n",
      "A | 2 | 2 | 1 | 0 | 0 |\n",
      "   --- --- --- --- --- \n",
      "B | 1 | 2 | 1 | 1 | 0 |\n",
      "   --- --- --- --- --- \n",
      "C | 0 | 1 | 2 | 0 | 0 |\n",
      "   --- --- --- --- --- \n",
      "D | 0 | 0 | 0 | 2 | 0 |\n",
      "   --- --- --- --- --- \n",
      "E | 0 | 0 | 1 | 0 | 0 |\n",
      "   --- --- --- --- --- \n",
      "Where would you like to place your piece? E5\n",
      "    1   2   3   4   5   \n",
      "   --- --- --- --- --- \n",
      "A | 2 | 2 | 1 | 0 | 0 |\n",
      "   --- --- --- --- --- \n",
      "B | 1 | 2 | 1 | 1 | 0 |\n",
      "   --- --- --- --- --- \n",
      "C | 0 | 1 | 2 | 0 | 0 |\n",
      "   --- --- --- --- --- \n",
      "D | 0 | 0 | 0 | 2 | 0 |\n",
      "   --- --- --- --- --- \n",
      "E | 0 | 0 | 1 | 0 | 2 |\n",
      "   --- --- --- --- --- \n",
      "PLAYER TWO WINS!!!\n"
     ]
    },
    {
     "data": {
      "text/plain": [
       "-1"
      ]
     },
     "execution_count": 40,
     "metadata": {},
     "output_type": "execute_result"
    }
   ],
   "source": [
    "tictactoe_game()"
   ]
  },
  {
   "cell_type": "code",
   "execution_count": null,
   "id": "54ee0c95",
   "metadata": {},
   "outputs": [],
   "source": []
  }
 ],
 "metadata": {
  "kernelspec": {
   "display_name": "Python 3 (ipykernel)",
   "language": "python",
   "name": "python3"
  },
  "language_info": {
   "codemirror_mode": {
    "name": "ipython",
    "version": 3
   },
   "file_extension": ".py",
   "mimetype": "text/x-python",
   "name": "python",
   "nbconvert_exporter": "python",
   "pygments_lexer": "ipython3",
   "version": "3.8.10"
  }
 },
 "nbformat": 4,
 "nbformat_minor": 5
}
