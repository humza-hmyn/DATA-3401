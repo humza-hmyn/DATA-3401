{
 "cells": [
  {
   "cell_type": "markdown",
   "id": "6b15cca1",
   "metadata": {},
   "source": [
    " # <center>Final Exam &ndash; DATA 3401 (Fall 2022)</center>\n",
    "\n",
    "## Start Date: 12/5\n",
    "## Due Date: 12/14 (at 1:30pm) &ndash; this is a hard deadline so don't miss it!\n",
    "\n",
    "## Final Rules\n",
    "This final exam is simliar to the midterm exam. Please work the exercises below **on your own**.  When you have completed the exam, you should push your completed jupyter notebook to your GitHub repo for this class in the **Exams->Final** folder.\n",
    "\n",
    "You may not discuss the problems with **anyone else**, including persons on an online internet forum. Consulting an outside source like this will be considered an academic integrity violation. **Any questions should be referred to me.**\n",
    "\n",
    "You may use all class resources including previous labs and lectures, and anything posted on the course GitHub repo. \n",
    "\n",
    "You may not use any function that trivializes a problem. For example, if I ask you to write a `max` function that computes the maximum entry in a list, you are not allowed to use the pre-defined Python function `max`; you must write your own.\n",
    "\n",
    "Each problem below will be worth approximately 25 points, and the Bonus will be worth 10. Achieving over 100 on this exam is possible if the Bonus is completed."
   ]
  },
  {
   "cell_type": "markdown",
   "id": "6a8e04e0",
   "metadata": {},
   "source": [
    "## Exercise 1\n",
    "In this exercise you will be working with the files abalone.names and abalone.data in the Final Exam folder.\n",
    "\n",
    "1. Open the abalone.names file in your notebook. Using the information there, in a new cell briefly describe the data set and relevant features.\n",
    "1. Load the abalone.data file into a dataframe using pandas. Print the .head() of the dataframe\n",
    "1. Using the .names file, **add** a header line to your dataframe describing each column of data\n",
    "1. Take the last column and make a new dataframe called `labels`\n",
    "    1. Print out the value counts of each label.\n",
    "    1. What do you notice about the distribution of the labels?\n",
    "    1. Based on your observations, propose a way to modify the labels to consolidate some of the classes, and do this modification (you should describe in comments in your code what change you are making)\n",
    "    1. After making your modification, show the value counts of the new labels again\n",
    "1. Make a scatterplot of each feature against the others (it should be a single plot)\n",
    "    1. Describe any trends or correlations that you see.\n",
    "1. As in the Titanic lecture and previous lab, plot 2 stacked histograms of any features you like, color coded by the label. Describe any trends you see."
   ]
  },
  {
   "cell_type": "code",
   "execution_count": 1,
   "id": "93582ab2",
   "metadata": {},
   "outputs": [
    {
     "name": "stdout",
     "output_type": "stream",
     "text": [
      "1. Title of Database: Abalone data\n",
      "\n",
      "2. Sources:\n",
      "\n",
      "   (a) Original owners of database:\n",
      "\tMarine Resources Division\n",
      "\tMarine Research Laboratories - Taroona\n",
      "\tDepartment of Primary Industry and Fisheries, Tasmania\n",
      "\tGPO Box 619F, Hobart, Tasmania 7001, Australia\n",
      "\t(contact: Warwick Nash +61 02 277277, wnash@dpi.tas.gov.au)\n",
      "\n",
      "   (b) Donor of database:\n",
      "\tSam Waugh (Sam.Waugh@cs.utas.edu.au)\n",
      "\tDepartment of Computer Science, University of Tasmania\n",
      "\tGPO Box 252C, Hobart, Tasmania 7001, Australia\n",
      "\n",
      "   (c) Date received: December 1995\n",
      "\n",
      "\n",
      "3. Past Usage:\n",
      "\n",
      "   Sam Waugh (1995) \"Extending and benchmarking Cascade-Correlation\", PhD\n",
      "   thesis, Computer Science Department, University of Tasmania.\n",
      "\n",
      "   -- Test set performance (final 1044 examples, first 3133 used for training):\n",
      "\t24.86% Cascade-Correlation (no hidden nodes)\n",
      "\t26.25% Cascade-Correlation (5 hidden nodes)\n",
      "\t21.5%  C4.5\n",
      "\t 0.0%  Linear Discriminate Analysis\n",
      "\t 3.57% k=5 Nearest Neighbour\n",
      "      (Problem encoded as a classification task)\n",
      "\n",
      "   -- Data set samples are highly overlapped.  Further information is required\n",
      "\tto separate completely using affine combinations.  Other restrictions\n",
      "\tto data set examined.\n",
      "\n",
      "   David Clark, Zoltan Schreter, Anthony Adams \"A Quantitative Comparison of\n",
      "   Dystal and Backpropagation\", submitted to the Australian Conference on\n",
      "   Neural Networks (ACNN'96). Data set treated as a 3-category classification\n",
      "   problem (grouping ring classes 1-8, 9 and 10, and 11 on).\n",
      "\n",
      "   -- Test set performance (3133 training, 1044 testing as above):\n",
      "\t64%    Backprop\n",
      "\t55%    Dystal\n",
      "   -- Previous work (Waugh, 1995) on same data set:\n",
      "\t61.40% Cascade-Correlation (no hidden nodes)\n",
      "\t65.61% Cascade-Correlation (5 hidden nodes)\n",
      "\t59.2%  C4.5\n",
      "\t32.57% Linear Discriminate Analysis\n",
      "\t62.46% k=5 Nearest Neighbour\n",
      "\n",
      "\n",
      "4. Relevant Information Paragraph:\n",
      "\n",
      "   Predicting the age of abalone from physical measurements.  The age of\n",
      "   abalone is determined by cutting the shell through the cone, staining it,\n",
      "   and counting the number of rings through a microscope -- a boring and\n",
      "   time-consuming task.  Other measurements, which are easier to obtain, are\n",
      "   used to predict the age.  Further information, such as weather patterns\n",
      "   and location (hence food availability) may be required to solve the problem.\n",
      "\n",
      "   From the original data examples with missing values were removed (the\n",
      "   majority having the predicted value missing), and the ranges of the\n",
      "   continuous values have been scaled for use with an ANN (by dividing by 200).\n",
      "\n",
      "   Data comes from an original (non-machine-learning) study:\n",
      "\n",
      "\tWarwick J Nash, Tracy L Sellers, Simon R Talbot, Andrew J Cawthorn and\n",
      "\tWes B Ford (1994) \"The Population Biology of Abalone (_Haliotis_\n",
      "\tspecies) in Tasmania. I. Blacklip Abalone (_H. rubra_) from the North\n",
      "\tCoast and Islands of Bass Strait\", Sea Fisheries Division, Technical\n",
      "\tReport No. 48 (ISSN 1034-3288)\n",
      "\n",
      "\n",
      "5. Number of Instances: 4177\n",
      "\n",
      "\n",
      "6. Number of Attributes: 8\n",
      "\n",
      "\n",
      "7. Attribute information:\n",
      "\n",
      "   Given is the attribute name, attribute type, the measurement unit and a\n",
      "   brief description.  The number of rings is the value to predict: either\n",
      "   as a continuous value or as a classification problem.\n",
      "\n",
      "\tName\t\tData Type\tMeas.\tDescription\n",
      "\t----\t\t---------\t-----\t-----------\n",
      "\tSex\t\tnominal\t\t\tM, F, and I (infant)\n",
      "\tLength\t\tcontinuous\tmm\tLongest shell measurement\n",
      "\tDiameter\tcontinuous\tmm\tperpendicular to length\n",
      "\tHeight\t\tcontinuous\tmm\twith meat in shell\n",
      "\tWhole weight\tcontinuous\tgrams\twhole abalone\n",
      "\tShucked weight\tcontinuous\tgrams\tweight of meat\n",
      "\tViscera weight\tcontinuous\tgrams\tgut weight (after bleeding)\n",
      "\tShell weight\tcontinuous\tgrams\tafter being dried\n",
      "\tRings\t\tinteger\t\t\t+1.5 gives the age in years\n",
      "\n",
      "   Statistics for numeric domains:\n",
      "\n",
      "\t\tLength\tDiam\tHeight\tWhole\tShucked\tViscera\tShell\tRings\n",
      "\tMin\t0.075\t0.055\t0.000\t0.002\t0.001\t0.001\t0.002\t    1\n",
      "\tMax\t0.815\t0.650\t1.130\t2.826\t1.488\t0.760\t1.005\t   29\n",
      "\tMean\t0.524\t0.408\t0.140\t0.829\t0.359\t0.181\t0.239\t9.934\n",
      "\tSD\t0.120\t0.099\t0.042\t0.490\t0.222\t0.110\t0.139\t3.224\n",
      "\tCorrel\t0.557\t0.575\t0.557\t0.540\t0.421\t0.504\t0.628\t  1.0\n",
      "\n",
      "\n",
      "8. Missing Attribute Values: None\n",
      "\n",
      "\n",
      "9. Class Distribution:\n",
      "\n",
      "\tClass\tExamples\n",
      "\t-----\t--------\n",
      "\t1\t1\n",
      "\t2\t1\n",
      "\t3\t15\n",
      "\t4\t57\n",
      "\t5\t115\n",
      "\t6\t259\n",
      "\t7\t391\n",
      "\t8\t568\n",
      "\t9\t689\n",
      "\t10\t634\n",
      "\t11\t487\n",
      "\t12\t267\n",
      "\t13\t203\n",
      "\t14\t126\n",
      "\t15\t103\n",
      "\t16\t67\n",
      "\t17\t58\n",
      "\t18\t42\n",
      "\t19\t32\n",
      "\t20\t26\n",
      "\t21\t14\n",
      "\t22\t6\n",
      "\t23\t9\n",
      "\t24\t2\n",
      "\t25\t1\n",
      "\t26\t1\n",
      "\t27\t2\n",
      "\t29\t1\n",
      "\t-----\t----\n",
      "\tTotal\t4177\n",
      "\n"
     ]
    }
   ],
   "source": [
    "#open abalone file\n",
    "fp=open(\"abalone.names.txt\",'r')\n",
    "lines=fp.read()\n",
    "print(lines)"
   ]
  },
  {
   "cell_type": "markdown",
   "id": "4da2949b",
   "metadata": {},
   "source": [
    "The data seen in the Abalone.names file is data regarding the research information of the associated research personnel, the data gathererd in regards to the Abalone creatures, as well as heuristical breakdown regarding the Abalone.data sheet."
   ]
  },
  {
   "cell_type": "code",
   "execution_count": 2,
   "id": "abf63bef",
   "metadata": {},
   "outputs": [
    {
     "data": {
      "text/html": [
       "<div>\n",
       "<style scoped>\n",
       "    .dataframe tbody tr th:only-of-type {\n",
       "        vertical-align: middle;\n",
       "    }\n",
       "\n",
       "    .dataframe tbody tr th {\n",
       "        vertical-align: top;\n",
       "    }\n",
       "\n",
       "    .dataframe thead th {\n",
       "        text-align: right;\n",
       "    }\n",
       "</style>\n",
       "<table border=\"1\" class=\"dataframe\">\n",
       "  <thead>\n",
       "    <tr style=\"text-align: right;\">\n",
       "      <th></th>\n",
       "      <th>0</th>\n",
       "      <th>1</th>\n",
       "      <th>2</th>\n",
       "      <th>3</th>\n",
       "      <th>4</th>\n",
       "      <th>5</th>\n",
       "      <th>6</th>\n",
       "      <th>7</th>\n",
       "      <th>8</th>\n",
       "    </tr>\n",
       "  </thead>\n",
       "  <tbody>\n",
       "    <tr>\n",
       "      <th>0</th>\n",
       "      <td>M</td>\n",
       "      <td>0.455</td>\n",
       "      <td>0.365</td>\n",
       "      <td>0.095</td>\n",
       "      <td>0.5140</td>\n",
       "      <td>0.2245</td>\n",
       "      <td>0.1010</td>\n",
       "      <td>0.150</td>\n",
       "      <td>15</td>\n",
       "    </tr>\n",
       "    <tr>\n",
       "      <th>1</th>\n",
       "      <td>M</td>\n",
       "      <td>0.350</td>\n",
       "      <td>0.265</td>\n",
       "      <td>0.090</td>\n",
       "      <td>0.2255</td>\n",
       "      <td>0.0995</td>\n",
       "      <td>0.0485</td>\n",
       "      <td>0.070</td>\n",
       "      <td>7</td>\n",
       "    </tr>\n",
       "    <tr>\n",
       "      <th>2</th>\n",
       "      <td>F</td>\n",
       "      <td>0.530</td>\n",
       "      <td>0.420</td>\n",
       "      <td>0.135</td>\n",
       "      <td>0.6770</td>\n",
       "      <td>0.2565</td>\n",
       "      <td>0.1415</td>\n",
       "      <td>0.210</td>\n",
       "      <td>9</td>\n",
       "    </tr>\n",
       "    <tr>\n",
       "      <th>3</th>\n",
       "      <td>M</td>\n",
       "      <td>0.440</td>\n",
       "      <td>0.365</td>\n",
       "      <td>0.125</td>\n",
       "      <td>0.5160</td>\n",
       "      <td>0.2155</td>\n",
       "      <td>0.1140</td>\n",
       "      <td>0.155</td>\n",
       "      <td>10</td>\n",
       "    </tr>\n",
       "    <tr>\n",
       "      <th>4</th>\n",
       "      <td>I</td>\n",
       "      <td>0.330</td>\n",
       "      <td>0.255</td>\n",
       "      <td>0.080</td>\n",
       "      <td>0.2050</td>\n",
       "      <td>0.0895</td>\n",
       "      <td>0.0395</td>\n",
       "      <td>0.055</td>\n",
       "      <td>7</td>\n",
       "    </tr>\n",
       "  </tbody>\n",
       "</table>\n",
       "</div>"
      ],
      "text/plain": [
       "   0      1      2      3       4       5       6      7   8\n",
       "0  M  0.455  0.365  0.095  0.5140  0.2245  0.1010  0.150  15\n",
       "1  M  0.350  0.265  0.090  0.2255  0.0995  0.0485  0.070   7\n",
       "2  F  0.530  0.420  0.135  0.6770  0.2565  0.1415  0.210   9\n",
       "3  M  0.440  0.365  0.125  0.5160  0.2155  0.1140  0.155  10\n",
       "4  I  0.330  0.255  0.080  0.2050  0.0895  0.0395  0.055   7"
      ]
     },
     "execution_count": 2,
     "metadata": {},
     "output_type": "execute_result"
    }
   ],
   "source": [
    "import pandas as pd\n",
    "data=pd.read_csv('abalone.data.txt',header=None)\n",
    "data.head()"
   ]
  },
  {
   "cell_type": "code",
   "execution_count": 3,
   "id": "c1ccddc0",
   "metadata": {},
   "outputs": [
    {
     "data": {
      "text/html": [
       "<div>\n",
       "<style scoped>\n",
       "    .dataframe tbody tr th:only-of-type {\n",
       "        vertical-align: middle;\n",
       "    }\n",
       "\n",
       "    .dataframe tbody tr th {\n",
       "        vertical-align: top;\n",
       "    }\n",
       "\n",
       "    .dataframe thead th {\n",
       "        text-align: right;\n",
       "    }\n",
       "</style>\n",
       "<table border=\"1\" class=\"dataframe\">\n",
       "  <thead>\n",
       "    <tr style=\"text-align: right;\">\n",
       "      <th></th>\n",
       "      <th>Sex</th>\n",
       "      <th>Length</th>\n",
       "      <th>Diam</th>\n",
       "      <th>Height</th>\n",
       "      <th>Whole</th>\n",
       "      <th>Shucked</th>\n",
       "      <th>Viscera</th>\n",
       "      <th>Shell</th>\n",
       "      <th>Rings</th>\n",
       "    </tr>\n",
       "  </thead>\n",
       "  <tbody>\n",
       "    <tr>\n",
       "      <th>0</th>\n",
       "      <td>M</td>\n",
       "      <td>0.455</td>\n",
       "      <td>0.365</td>\n",
       "      <td>0.095</td>\n",
       "      <td>0.5140</td>\n",
       "      <td>0.2245</td>\n",
       "      <td>0.1010</td>\n",
       "      <td>0.150</td>\n",
       "      <td>15</td>\n",
       "    </tr>\n",
       "    <tr>\n",
       "      <th>1</th>\n",
       "      <td>M</td>\n",
       "      <td>0.350</td>\n",
       "      <td>0.265</td>\n",
       "      <td>0.090</td>\n",
       "      <td>0.2255</td>\n",
       "      <td>0.0995</td>\n",
       "      <td>0.0485</td>\n",
       "      <td>0.070</td>\n",
       "      <td>7</td>\n",
       "    </tr>\n",
       "    <tr>\n",
       "      <th>2</th>\n",
       "      <td>F</td>\n",
       "      <td>0.530</td>\n",
       "      <td>0.420</td>\n",
       "      <td>0.135</td>\n",
       "      <td>0.6770</td>\n",
       "      <td>0.2565</td>\n",
       "      <td>0.1415</td>\n",
       "      <td>0.210</td>\n",
       "      <td>9</td>\n",
       "    </tr>\n",
       "    <tr>\n",
       "      <th>3</th>\n",
       "      <td>M</td>\n",
       "      <td>0.440</td>\n",
       "      <td>0.365</td>\n",
       "      <td>0.125</td>\n",
       "      <td>0.5160</td>\n",
       "      <td>0.2155</td>\n",
       "      <td>0.1140</td>\n",
       "      <td>0.155</td>\n",
       "      <td>10</td>\n",
       "    </tr>\n",
       "    <tr>\n",
       "      <th>4</th>\n",
       "      <td>I</td>\n",
       "      <td>0.330</td>\n",
       "      <td>0.255</td>\n",
       "      <td>0.080</td>\n",
       "      <td>0.2050</td>\n",
       "      <td>0.0895</td>\n",
       "      <td>0.0395</td>\n",
       "      <td>0.055</td>\n",
       "      <td>7</td>\n",
       "    </tr>\n",
       "  </tbody>\n",
       "</table>\n",
       "</div>"
      ],
      "text/plain": [
       "  Sex  Length   Diam  Height   Whole  Shucked  Viscera  Shell  Rings\n",
       "0   M   0.455  0.365   0.095  0.5140   0.2245   0.1010  0.150     15\n",
       "1   M   0.350  0.265   0.090  0.2255   0.0995   0.0485  0.070      7\n",
       "2   F   0.530  0.420   0.135  0.6770   0.2565   0.1415  0.210      9\n",
       "3   M   0.440  0.365   0.125  0.5160   0.2155   0.1140  0.155     10\n",
       "4   I   0.330  0.255   0.080  0.2050   0.0895   0.0395  0.055      7"
      ]
     },
     "execution_count": 3,
     "metadata": {},
     "output_type": "execute_result"
    }
   ],
   "source": [
    "data2=pd.read_csv('abalone.data.txt',names=[\"Sex\",\"Length\",\"Diam\",\"Height\" ,\"Whole\",\"Shucked\",\"Viscera\",\"Shell\",\"Rings\"])\n",
    "data2.head()"
   ]
  },
  {
   "cell_type": "code",
   "execution_count": 4,
   "id": "d01d5ccf",
   "metadata": {},
   "outputs": [
    {
     "name": "stdout",
     "output_type": "stream",
     "text": [
      "0       15\n",
      "1        7\n",
      "2        9\n",
      "3       10\n",
      "4        7\n",
      "        ..\n",
      "4172    11\n",
      "4173    10\n",
      "4174     9\n",
      "4175    10\n",
      "4176    12\n",
      "Name: Rings, Length: 4177, dtype: int64\n"
     ]
    }
   ],
   "source": [
    "labels=data2['Rings']\n",
    "print(labels)"
   ]
  },
  {
   "cell_type": "code",
   "execution_count": 5,
   "id": "c6fd4577",
   "metadata": {},
   "outputs": [
    {
     "name": "stdout",
     "output_type": "stream",
     "text": [
      "0       M\n",
      "1       M\n",
      "2       F\n",
      "3       M\n",
      "4       I\n",
      "       ..\n",
      "4172    F\n",
      "4173    M\n",
      "4174    M\n",
      "4175    F\n",
      "4176    M\n",
      "Name: Sex, Length: 4177, dtype: object\n",
      "0       0.455\n",
      "1       0.350\n",
      "2       0.530\n",
      "3       0.440\n",
      "4       0.330\n",
      "        ...  \n",
      "4172    0.565\n",
      "4173    0.590\n",
      "4174    0.600\n",
      "4175    0.625\n",
      "4176    0.710\n",
      "Name: Length, Length: 4177, dtype: float64\n",
      "0       0.365\n",
      "1       0.265\n",
      "2       0.420\n",
      "3       0.365\n",
      "4       0.255\n",
      "        ...  \n",
      "4172    0.450\n",
      "4173    0.440\n",
      "4174    0.475\n",
      "4175    0.485\n",
      "4176    0.555\n",
      "Name: Diam, Length: 4177, dtype: float64\n",
      "0       0.095\n",
      "1       0.090\n",
      "2       0.135\n",
      "3       0.125\n",
      "4       0.080\n",
      "        ...  \n",
      "4172    0.165\n",
      "4173    0.135\n",
      "4174    0.205\n",
      "4175    0.150\n",
      "4176    0.195\n",
      "Name: Height, Length: 4177, dtype: float64\n",
      "0       0.5140\n",
      "1       0.2255\n",
      "2       0.6770\n",
      "3       0.5160\n",
      "4       0.2050\n",
      "         ...  \n",
      "4172    0.8870\n",
      "4173    0.9660\n",
      "4174    1.1760\n",
      "4175    1.0945\n",
      "4176    1.9485\n",
      "Name: Whole, Length: 4177, dtype: float64\n",
      "0       0.2245\n",
      "1       0.0995\n",
      "2       0.2565\n",
      "3       0.2155\n",
      "4       0.0895\n",
      "         ...  \n",
      "4172    0.3700\n",
      "4173    0.4390\n",
      "4174    0.5255\n",
      "4175    0.5310\n",
      "4176    0.9455\n",
      "Name: Shucked, Length: 4177, dtype: float64\n",
      "0       0.1010\n",
      "1       0.0485\n",
      "2       0.1415\n",
      "3       0.1140\n",
      "4       0.0395\n",
      "         ...  \n",
      "4172    0.2390\n",
      "4173    0.2145\n",
      "4174    0.2875\n",
      "4175    0.2610\n",
      "4176    0.3765\n",
      "Name: Viscera, Length: 4177, dtype: float64\n",
      "0       0.1500\n",
      "1       0.0700\n",
      "2       0.2100\n",
      "3       0.1550\n",
      "4       0.0550\n",
      "         ...  \n",
      "4172    0.2490\n",
      "4173    0.2605\n",
      "4174    0.3080\n",
      "4175    0.2960\n",
      "4176    0.4950\n",
      "Name: Shell, Length: 4177, dtype: float64\n",
      "0       15\n",
      "1        7\n",
      "2        9\n",
      "3       10\n",
      "4        7\n",
      "        ..\n",
      "4172    11\n",
      "4173    10\n",
      "4174     9\n",
      "4175    10\n",
      "4176    12\n",
      "Name: Rings, Length: 4177, dtype: int64\n"
     ]
    }
   ],
   "source": [
    "#value counts for ech label\n",
    "print(data2['Sex'])\n",
    "print(data2['Length'])\n",
    "print(data2['Diam'])\n",
    "print(data2['Height'])\n",
    "print(data2['Whole'])\n",
    "print(data2['Shucked'])\n",
    "print(data2['Viscera'])\n",
    "print(data2['Shell'])\n",
    "print(data2['Rings'])"
   ]
  },
  {
   "cell_type": "markdown",
   "id": "9df2d418",
   "metadata": {},
   "source": [
    "There are a total of 4177 entries here for 'labels' and all of which are numerical based variables except for 'Sex.' That label is splint into two values, wither M or F."
   ]
  },
  {
   "cell_type": "markdown",
   "id": "ac63487c",
   "metadata": {},
   "source": [
    "To make everything in the dataframe consistent to a numerical means, we must convert the 'Sex' column to a integer based column, with 1 for F and 0 for M and 2 for Infant (I)"
   ]
  },
  {
   "cell_type": "code",
   "execution_count": 11,
   "id": "cd387836",
   "metadata": {},
   "outputs": [
    {
     "name": "stdout",
     "output_type": "stream",
     "text": [
      "      Sex  Length   Diam  Height   Whole  Shucked  Viscera   Shell  Rings\n",
      "0       0   0.455  0.365   0.095  0.5140   0.2245   0.1010  0.1500     15\n",
      "1       0   0.350  0.265   0.090  0.2255   0.0995   0.0485  0.0700      7\n",
      "2       1   0.530  0.420   0.135  0.6770   0.2565   0.1415  0.2100      9\n",
      "3       0   0.440  0.365   0.125  0.5160   0.2155   0.1140  0.1550     10\n",
      "4       2   0.330  0.255   0.080  0.2050   0.0895   0.0395  0.0550      7\n",
      "...   ...     ...    ...     ...     ...      ...      ...     ...    ...\n",
      "4172    1   0.565  0.450   0.165  0.8870   0.3700   0.2390  0.2490     11\n",
      "4173    0   0.590  0.440   0.135  0.9660   0.4390   0.2145  0.2605     10\n",
      "4174    0   0.600  0.475   0.205  1.1760   0.5255   0.2875  0.3080      9\n",
      "4175    1   0.625  0.485   0.150  1.0945   0.5310   0.2610  0.2960     10\n",
      "4176    0   0.710  0.555   0.195  1.9485   0.9455   0.3765  0.4950     12\n",
      "\n",
      "[4177 rows x 9 columns]\n"
     ]
    }
   ],
   "source": [
    "data2['Sex']=data2['Sex'].map({'I':2,'F':1,'M':0})\n",
    "print(data2)"
   ]
  },
  {
   "cell_type": "code",
   "execution_count": null,
   "id": "be1ebe2a",
   "metadata": {},
   "outputs": [],
   "source": []
  },
  {
   "cell_type": "markdown",
   "id": "ad0e2e8e",
   "metadata": {},
   "source": [
    "## Exercise 2\n",
    "If you invest a principal value of $P$ at time 0, and interest is continuously compounded at a rate $r$ (between 0 and 1), then the amount of money you would have after $t$ years is\n",
    "$$M(t) = Pe^{rt}.$$\n",
    "Fry has \\\\$0.01 in his bank account, but is accidentally transported 1,000 years into the future. He returns to his bank (which luckily still exists) to see how much money he now has. Assume Fry's account earns continuously compounded interest at a rate of 5\\% (or $r=0.05$).\n",
    "1. Create a numpy array of time from 0 to 1,000 years increasing by 1 year\n",
    "1. Create a new numpy array that calculates how much money Fry's account has at each year\n",
    "1. Plot Fry's money over the given timeframe\n",
    "\n",
    "Now if Fry only earned simple interest, the amount of money he would have after $t$ years would be\n",
    "$$ S(t) = P(1+rt).$$\n",
    "\n",
    "1. Perform the same procedure as steps 1-3 above assuming Fry earns 5\\% simple interest.\n",
    "1. To illustrate the difference, also plot $M(t)-S(t)$ over the timeframe.\n",
    "1. What do you conclude?\n",
    "\n",
    "*Aside:* This problem, while silly, should teach you an important lesson: invest your money as early as you possibly can!"
   ]
  },
  {
   "cell_type": "code",
   "execution_count": 21,
   "id": "7ec993b4",
   "metadata": {},
   "outputs": [],
   "source": [
    "import numpy as np\n",
    "ar1=np.arange(1,1000,1)"
   ]
  },
  {
   "cell_type": "code",
   "execution_count": 138,
   "id": "815e069e",
   "metadata": {},
   "outputs": [
    {
     "ename": "SyntaxError",
     "evalue": "invalid syntax (3083506509.py, line 3)",
     "output_type": "error",
     "traceback": [
      "\u001b[0;36m  Cell \u001b[0;32mIn [138], line 3\u001b[0;36m\u001b[0m\n\u001b[0;31m    fry=\u001b[0m\n\u001b[0m        ^\u001b[0m\n\u001b[0;31mSyntaxError\u001b[0m\u001b[0;31m:\u001b[0m invalid syntax\n"
     ]
    }
   ],
   "source": [
    "r=0.05\n",
    "p=0.01\n",
    "fry="
   ]
  },
  {
   "cell_type": "code",
   "execution_count": 7,
   "id": "33135bac",
   "metadata": {},
   "outputs": [],
   "source": [
    "# Write your code here"
   ]
  },
  {
   "cell_type": "markdown",
   "id": "067c9816",
   "metadata": {},
   "source": [
    "## Exercise 3\n",
    "In Lab 7 you coded a random walk in 1-dimension. Here you will code a 2-dimensional random walk.  \n",
    "1. As before, write a function `random_walk(num_steps,init_position)` that takes an integer for `num_steps` corresponding to how many steps the random walker will take, and a numpy array for `init_position` with x and y coordinates of the starting point. The function should return the full sequence of positions of the walker as they take `num_steps` steps\n",
    "1. To determine the next location of the walker at a given step, the walker uniformly randomly chooses to walk one of 4 possible directions: up, down, left, or right and takes a step of length 1 in either direction (e.g., if the walker starts at (0,0), their possible moves for the first step are up=(0,1), down=(0,-1), left=(-1,0), right=(1,0))\n",
    "1. Call your `random_walk` function 5 times with initial position of (0,0) and 10,000 steps and plot the random walk for each function call using pyplot (here is an example of what it should look like; if the image does not render in GitHub, open 2drandomwalk.png in the Final folder)\n",
    "![2drandomwalk.png](2drandomwalk.png)\n",
    "1. What do you notice?\n",
    "1. Modify your random walk such that the walker is more likely to travel up (specifically, they will step up with probability .7 and the remaining directions each with probability .1).\n",
    "1. Call your modified random walk function 5 times and plot the results.\n",
    "1. What do you notice? Is there a difference in behavior compared to the original version?"
   ]
  },
  {
   "cell_type": "code",
   "execution_count": 35,
   "id": "dbe86ac3",
   "metadata": {},
   "outputs": [],
   "source": [
    "# Write your code here\n",
    "def random_walk(num_steps,init_position):\n",
    "    steps=init_position[1]\n",
    "    steps=steps+num_steps\n",
    "    return steps"
   ]
  },
  {
   "cell_type": "code",
   "execution_count": 36,
   "id": "975c9aac",
   "metadata": {},
   "outputs": [
    {
     "data": {
      "text/plain": [
       "20"
      ]
     },
     "execution_count": 36,
     "metadata": {},
     "output_type": "execute_result"
    }
   ],
   "source": [
    "a1=np.array([1,0])\n",
    "random_walk(,a1)"
   ]
  },
  {
   "cell_type": "code",
   "execution_count": 115,
   "id": "26f49673",
   "metadata": {},
   "outputs": [
    {
     "data": {
      "text/plain": [
       "array([3, 0])"
      ]
     },
     "execution_count": 115,
     "metadata": {},
     "output_type": "execute_result"
    }
   ],
   "source": [
    "#v2:\n",
    "from numpy import random\n",
    "def random_walk(num_steps,init_position):\n",
    "    steps=init_position[1]\n",
    "    # 1234, UDLR respectively\n",
    "    i=0\n",
    "    while i<num_steps:\n",
    "        direction=random.randint(1,4)\n",
    "        if direction==1: \n",
    "            init_position[1]=init_position[1]+1\n",
    "            i=i+1\n",
    "        elif direction==2: \n",
    "            init_position[1]=init_position[1]-1\n",
    "            i=i+1\n",
    "        elif direction==3: \n",
    "            init_position[0]=init_position[0]+1\n",
    "            \n",
    "            i=i+1\n",
    "        elif direction==4: \n",
    "            init_position[0]=init_position[0]-1\n",
    "            \n",
    "            i=i+1\n",
    "    return init_position\n",
    "\n",
    "a1=np.array([1,0])\n",
    "random_walk(12,a1)"
   ]
  },
  {
   "cell_type": "code",
   "execution_count": 122,
   "id": "eb44a07f",
   "metadata": {},
   "outputs": [
    {
     "name": "stdout",
     "output_type": "stream",
     "text": [
      "3333 -17\n"
     ]
    },
    {
     "data": {
      "text/plain": [
       "[<matplotlib.lines.Line2D at 0x7fabdd1d4b20>]"
      ]
     },
     "execution_count": 122,
     "metadata": {},
     "output_type": "execute_result"
    },
    {
     "data": {
      "image/png": "[encoded data removed]",
      "text/plain": [
       "<Figure size 640x480 with 1 Axes>"
      ]
     },
     "metadata": {},
     "output_type": "display_data"
    }
   ],
   "source": [
    "from matplotlib import pyplot as plt \n",
    "a1=np.array([0,0])\n",
    "v=10000\n",
    "arr1=random_walk(v,a1)\n",
    "x=arr1[0]\n",
    "y=arr1[1]\n",
    "print(x,y)\n",
    "plt.plot(x,y)"
   ]
  },
  {
   "cell_type": "code",
   "execution_count": 125,
   "id": "1d544989",
   "metadata": {},
   "outputs": [
    {
     "name": "stdout",
     "output_type": "stream",
     "text": [
      "3391 65\n"
     ]
    },
    {
     "data": {
      "text/plain": [
       "[<matplotlib.lines.Line2D at 0x7fabdd097b20>]"
      ]
     },
     "execution_count": 125,
     "metadata": {},
     "output_type": "execute_result"
    },
    {
     "data": {
      "image/png": "[encoded data removed]",
      "text/plain": [
       "<Figure size 640x480 with 1 Axes>"
      ]
     },
     "metadata": {},
     "output_type": "display_data"
    }
   ],
   "source": [
    "a1=np.array([0,0])\n",
    "arr1=random_walk(v,a1)\n",
    "x=arr1[0]\n",
    "y=arr1[1]\n",
    "print(x,y)\n",
    "plt.plot(x,y)"
   ]
  },
  {
   "cell_type": "code",
   "execution_count": 124,
   "id": "12ec51b1",
   "metadata": {},
   "outputs": [
    {
     "name": "stdout",
     "output_type": "stream",
     "text": [
      "3273 -181\n"
     ]
    },
    {
     "data": {
      "text/plain": [
       "[<matplotlib.lines.Line2D at 0x7fabdd131340>]"
      ]
     },
     "execution_count": 124,
     "metadata": {},
     "output_type": "execute_result"
    },
    {
     "data": {
      "image/png": "[encoded data removed]",
      "text/plain": [
       "<Figure size 640x480 with 1 Axes>"
      ]
     },
     "metadata": {},
     "output_type": "display_data"
    }
   ],
   "source": [
    "a1=np.array([0,0])\n",
    "arr1=random_walk(v,a1)\n",
    "x=arr1[0]\n",
    "y=arr1[1]\n",
    "print(x,y)\n",
    "plt.plot(x,y)"
   ]
  },
  {
   "cell_type": "code",
   "execution_count": 123,
   "id": "8b3fa900",
   "metadata": {},
   "outputs": [
    {
     "name": "stdout",
     "output_type": "stream",
     "text": [
      "3421 -55\n"
     ]
    },
    {
     "data": {
      "text/plain": [
       "[<matplotlib.lines.Line2D at 0x7fabdd1ca1f0>]"
      ]
     },
     "execution_count": 123,
     "metadata": {},
     "output_type": "execute_result"
    },
    {
     "data": {
      "image/png": "[encoded data removed]",
      "text/plain": [
       "<Figure size 640x480 with 1 Axes>"
      ]
     },
     "metadata": {},
     "output_type": "display_data"
    }
   ],
   "source": [
    "a1=np.array([0,0])\n",
    "arr1=random_walk(v,a1)\n",
    "x=arr1[0]\n",
    "y=arr1[1]\n",
    "print(x,y)\n",
    "plt.plot(x,y)"
   ]
  },
  {
   "cell_type": "markdown",
   "id": "df4de540",
   "metadata": {},
   "source": [
    "Modify your random walk such that the walker is more likely to travel up (specifically, they will step up with probability .7 and the remaining directions each with probability .1"
   ]
  },
  {
   "cell_type": "code",
   "execution_count": 132,
   "id": "38575d18",
   "metadata": {},
   "outputs": [
    {
     "data": {
      "text/plain": [
       "array([0, 7])"
      ]
     },
     "execution_count": 132,
     "metadata": {},
     "output_type": "execute_result"
    }
   ],
   "source": [
    "#v3\n",
    "def random_walk(num_steps,init_position):\n",
    "    steps=init_position[1]\n",
    "    # 1234, UDLR respectively\n",
    "    i=0\n",
    "    while i<num_steps:\n",
    "        direction=random.choice([1,2,3,4],p=[.7,.1,.1,.1])\n",
    "        if direction==1: \n",
    "            init_position[1]=init_position[1]+1\n",
    "            i=i+1\n",
    "        elif direction==2: \n",
    "            init_position[1]=init_position[1]-1\n",
    "            i=i+1\n",
    "        elif direction==3: \n",
    "            init_position[0]=init_position[0]+1\n",
    "            \n",
    "            i=i+1\n",
    "        elif direction==4: \n",
    "            init_position[0]=init_position[0]-1\n",
    "            \n",
    "            i=i+1\n",
    "    return init_position\n",
    "\n",
    "a1=np.array([1,0])\n",
    "random_walk(12,a1)"
   ]
  },
  {
   "cell_type": "code",
   "execution_count": 133,
   "id": "be969732",
   "metadata": {},
   "outputs": [
    {
     "name": "stdout",
     "output_type": "stream",
     "text": [
      "-64 6038\n"
     ]
    },
    {
     "data": {
      "text/plain": [
       "[<matplotlib.lines.Line2D at 0x7fabe1eea8e0>]"
      ]
     },
     "execution_count": 133,
     "metadata": {},
     "output_type": "execute_result"
    },
    {
     "data": {
      "image/png": "[encoded data removed]",
      "text/plain": [
       "<Figure size 640x480 with 1 Axes>"
      ]
     },
     "metadata": {},
     "output_type": "display_data"
    }
   ],
   "source": [
    "a1=np.array([0,0])\n",
    "arr1=random_walk(v,a1)\n",
    "x=arr1[0]\n",
    "y=arr1[1]\n",
    "print(x,y)\n",
    "plt.plot(x,y)"
   ]
  },
  {
   "cell_type": "code",
   "execution_count": 134,
   "id": "82baa588",
   "metadata": {},
   "outputs": [
    {
     "name": "stdout",
     "output_type": "stream",
     "text": [
      "22 6036\n"
     ]
    },
    {
     "data": {
      "text/plain": [
       "[<matplotlib.lines.Line2D at 0x7fabdd08d730>]"
      ]
     },
     "execution_count": 134,
     "metadata": {},
     "output_type": "execute_result"
    },
    {
     "data": {
      "image/png": "[encoded data removed]",
      "text/plain": [
       "<Figure size 640x480 with 1 Axes>"
      ]
     },
     "metadata": {},
     "output_type": "display_data"
    }
   ],
   "source": [
    "a1=np.array([0,0])\n",
    "arr1=random_walk(v,a1)\n",
    "x=arr1[0]\n",
    "y=arr1[1]\n",
    "print(x,y)\n",
    "plt.plot(x,y)"
   ]
  },
  {
   "cell_type": "code",
   "execution_count": 135,
   "id": "2edae36c",
   "metadata": {},
   "outputs": [
    {
     "name": "stdout",
     "output_type": "stream",
     "text": [
      "25 5983\n"
     ]
    },
    {
     "data": {
      "text/plain": [
       "[<matplotlib.lines.Line2D at 0x7fabe1ea6760>]"
      ]
     },
     "execution_count": 135,
     "metadata": {},
     "output_type": "execute_result"
    },
    {
     "data": {
      "image/png": "[encoded data removed]",
      "text/plain": [
       "<Figure size 640x480 with 1 Axes>"
      ]
     },
     "metadata": {},
     "output_type": "display_data"
    }
   ],
   "source": [
    "a1=np.array([0,0])\n",
    "arr1=random_walk(v,a1)\n",
    "x=arr1[0]\n",
    "y=arr1[1]\n",
    "print(x,y)\n",
    "plt.plot(x,y)"
   ]
  },
  {
   "cell_type": "code",
   "execution_count": 136,
   "id": "24e1a4fe",
   "metadata": {},
   "outputs": [
    {
     "name": "stdout",
     "output_type": "stream",
     "text": [
      "22 6020\n"
     ]
    },
    {
     "data": {
      "text/plain": [
       "[<matplotlib.lines.Line2D at 0x7fabdcf204f0>]"
      ]
     },
     "execution_count": 136,
     "metadata": {},
     "output_type": "execute_result"
    },
    {
     "data": {
      "image/png": "[encoded data removed]",
      "text/plain": [
       "<Figure size 640x480 with 1 Axes>"
      ]
     },
     "metadata": {},
     "output_type": "display_data"
    }
   ],
   "source": [
    "a1=np.array([0,0])\n",
    "arr1=random_walk(v,a1)\n",
    "x=arr1[0]\n",
    "y=arr1[1]\n",
    "print(x,y)\n",
    "plt.plot(x,y)"
   ]
  },
  {
   "cell_type": "code",
   "execution_count": 137,
   "id": "2d2f2667",
   "metadata": {},
   "outputs": [
    {
     "name": "stdout",
     "output_type": "stream",
     "text": [
      "39 6079\n"
     ]
    },
    {
     "data": {
      "text/plain": [
       "[<matplotlib.lines.Line2D at 0x7fabdcf05490>]"
      ]
     },
     "execution_count": 137,
     "metadata": {},
     "output_type": "execute_result"
    },
    {
     "data": {
      "image/png": "[encoded data removed]",
      "text/plain": [
       "<Figure size 640x480 with 1 Axes>"
      ]
     },
     "metadata": {},
     "output_type": "display_data"
    }
   ],
   "source": [
    "a1=np.array([0,0])\n",
    "arr1=random_walk(v,a1)\n",
    "x=arr1[0]\n",
    "y=arr1[1]\n",
    "print(x,y)\n",
    "plt.plot(x,y)"
   ]
  },
  {
   "cell_type": "markdown",
   "id": "99d95afe",
   "metadata": {},
   "source": [
    "## Exercise 4\n",
    "1. Create a `card` class that has two attributes: `value` and `suit`. A card should be initialized by passing it both the value and suit.\n",
    "1. Create a `deck` class to represent a deck of cards.\n",
    "    1. Each card in the deck should be of type card (the class you made in Step 1)\n",
    "    1. Your deck should be a list of 52 cards\n",
    "    1. Your deck should be ordered, and should have the option of `shuffled` (True or False) upon initialization. If `shuffled` is False, the deck should be in order (Ace-King-...-2 of Spades, Ace-King-...-2 of Clubs, Ace-King-...-2 of Diamonds, Ace-King-...-2 of Hearts), otherwise if `shuffled` is True, the deck should be randomly ordered\n",
    "    1. Create a method `deal_cards(num_cards)` that chooses the **first** `num_cards` cards from the deck and returns a list of these cards. This method should also remove the cards from the deck.\n",
    "    1. Create a `shuffle` method to shuffle the deck. This should return a deck object.\n",
    "1. Create a subclass of `deck` called `hand`\n",
    "    1. A `hand` will be a list of cards\n",
    "    1. A `hand` should be initialized with an option of `num_cards` for the number of cards in the hand, and should be initialized via the `deal_cards` method of your `deck` class\n",
    "    1. Create (or repurpose an old function from class/lab) a method to check if the hand is a flush, and if so determine the suit (your method should return True or False and the suit (or None if False)\n",
    "    1. Create a method to check if a hand is a straight (consecutive cards; for simplicity, assume Ace is high (i.e., Ace, King, ..., 2 is the order of the numbers))\n",
    "1. Using your classes, create an **unshuffled** deck, and deal 5 hands of 5 cards each. \n",
    "    1. Check if each hand is a flush, and report the results along with the suits of the flush(es). \n",
    "    1. Check if each hand is a straight and report the results\n",
    "1. Create a **shuffled** deck and deal 9 hands of 5 cards. Check for straights and flushes and report the results."
   ]
  },
  {
   "cell_type": "code",
   "execution_count": 26,
   "id": "f9f84843",
   "metadata": {},
   "outputs": [
    {
     "ename": "SyntaxError",
     "evalue": "unexpected EOF while parsing (470681390.py, line 8)",
     "output_type": "error",
     "traceback": [
      "\u001b[0;36m  Cell \u001b[0;32mIn [26], line 8\u001b[0;36m\u001b[0m\n\u001b[0;31m    def __card__(self,card):\u001b[0m\n\u001b[0m                            ^\u001b[0m\n\u001b[0;31mSyntaxError\u001b[0m\u001b[0;31m:\u001b[0m unexpected EOF while parsing\n"
     ]
    }
   ],
   "source": [
    "# Write your code here\n",
    "class card:\n",
    "    def __value__(self,v):\n",
    "        self.value=v\n",
    "    def __suit__(self,s):\n",
    "        self.suit=s\n",
    "class deck:\n",
    "    def __card__(self,card):"
   ]
  },
  {
   "cell_type": "code",
   "execution_count": null,
   "id": "9ac1f689",
   "metadata": {},
   "outputs": [],
   "source": []
  },
  {
   "cell_type": "markdown",
   "id": "4ecbd688",
   "metadata": {},
   "source": [
    "## Bonus (10 points)\n",
    "\n",
    "Using the abalone data set from Exercise 1, implement a simple classifier (for example, look up k-nearest neighbors, or kNN, classifiers in sklearn) to try to classify the data.\n",
    "1. You should split the data into a training set that has labels and a testing set that does not. You may use about 80% of the data as training and 20% as testing.\n",
    "1. You should report the accuracy of your classifier on both the training and testing sets.\n",
    "1. Write a brief description about how the classifer you choose works to do the classification.\n",
    "1. Discuss your results."
   ]
  },
  {
   "cell_type": "code",
   "execution_count": 10,
   "id": "38a78af9",
   "metadata": {},
   "outputs": [],
   "source": [
    "# Write your code here"
   ]
  }
 ],
 "metadata": {
  "kernelspec": {
   "display_name": "Python 3 (ipykernel)",
   "language": "python",
   "name": "python3"
  },
  "language_info": {
   "codemirror_mode": {
    "name": "ipython",
    "version": 3
   },
   "file_extension": ".py",
   "mimetype": "text/x-python",
   "name": "python",
   "nbconvert_exporter": "python",
   "pygments_lexer": "ipython3",
   "version": "3.8.10"
  }
 },
 "nbformat": 4,
 "nbformat_minor": 5
}
