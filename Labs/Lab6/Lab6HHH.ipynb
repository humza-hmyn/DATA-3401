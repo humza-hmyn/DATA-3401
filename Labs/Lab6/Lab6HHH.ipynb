{
 "cells": [
  {
   "cell_type": "markdown",
   "id": "1e941275",
   "metadata": {},
   "source": [
    "# <center>Lab 6 &ndash; DATA 3401 (Fall 2022)</center>\n",
    "\n",
    "## Lab Date: 10/21\n",
    "## Due Date 10/28 (before the beginning of lab)\n",
    "\n",
    "## Lab Description\n",
    "The purpose of this lab is for you to become more comfortable with numpy syntax and the random commands. At the beginning of this lab notebook, you will need to import numpy and pyplot (a subpackage of matplotlib).\n",
    "\n",
    "If you have not yet installed numpy or matplotlib, enter the following command in a new Ubuntu terminal (regular terminal for Mac users) `pip3 install numpy matplotlib`  -- If you have a jupyter notebook running already, you will need to close out of your jupyter session after installing these packages and restart a new kernel from the terminal."
   ]
  },
  {
   "cell_type": "markdown",
   "id": "e19f0501",
   "metadata": {},
   "source": [
    "## Exercise 1\n",
    "1. Generate an ndarray with 2 rows, each containing 10 random integers between 1 and 10 (*Hint:* Lookup syntax of `numpy.random.randint`)\n",
    "1. Assuming your array is called `a`, print all of the following commands: `a.shape`, `numpy.sum(a)`, `numpy.sum(a,axis=0)`, and `numpy.sum(a,axis=1)`.  Explain what each is doing."
   ]
  },
  {
   "cell_type": "code",
   "execution_count": null,
   "id": "d4fa4369",
   "metadata": {},
   "outputs": [],
   "source": []
  },
  {
   "cell_type": "markdown",
   "id": "4a57022a",
   "metadata": {},
   "source": [
    "## Exercise 2\n",
    "1. For a given variable `num_trials`, generate a `100` by `num_trials` ndarray with entries from the standard normal distribution (look up the syntax for `numpy.random.randn`).\n",
    "1. For each of the following values of `num_trials` $\\{10,100,1000,10000,1000000\\}$, generate the ndarray above.\n",
    "1. For each value of `num_trials`, sum the columns of the ndarray (you should get a new ndarray of length `num_trials`).\n",
    "1. Use pyplot to plot a histogram of the summed array for each value of `num_trials` and various numbers of bins.\n",
    "1. Discuss any trends you see."
   ]
  },
  {
   "cell_type": "code",
   "execution_count": null,
   "id": "f38ae597",
   "metadata": {},
   "outputs": [],
   "source": []
  },
  {
   "cell_type": "markdown",
   "id": "4cab38b9",
   "metadata": {},
   "source": [
    "## Exercise 3\n",
    "1. Look up the syntax for the function `numpy.random.choice`\n",
    "1. Create an array or list of the integers 1-10. \n",
    "1. Choose 15 integers from your list with the optional input argument to `numpy.random.choice` set to `replace=True`\n",
    "1. Choose 15 integers from your list with the optional input argument to `numpy.random.choice` set to `replace=False`\n",
    "1. What do you notice? Explain why?\n",
    "1. Create a new array or list of integers 1-4, and create a set of probabilities as follows `probs = [.8, .1, .1, 0]`\n",
    "1. Using the optional input argument `p=probs`, draw 20 numbers from your list 1-4 (with `replace=True`)\n",
    "1. Count the percent of times each integer is drawn.\n",
    "1. Repeat the last two items for drawing 100 numbers and then 1000 numbers from 1-4 with those probabilities\n",
    "1. What do you notice? Explain why."
   ]
  },
  {
   "cell_type": "code",
   "execution_count": null,
   "id": "810093dd",
   "metadata": {},
   "outputs": [],
   "source": []
  },
  {
   "cell_type": "markdown",
   "id": "23020ab9",
   "metadata": {},
   "source": [
    "## Exercise 4\n",
    "1. Write a function that rolls a dice `n` times for a given integer `n` and computes a *running percentage* of times each number is rolled (# of times 1 has been rolled)/(# of rolls so far) and so on. That is, at the `i`-th roll, you should compute (# of 1s)/i, (# of 2s)/i, ... and store these values.\n",
    "1. Modify this function to take in a probability distribution over the 6 numbers of the form `p=np.array([p1,p2,p3,p4,p5,p6])` and roll a dice `n` times with these probabilities\n",
    "1. Run your function from part 1 with $n=1000$ and graph the rolling averages for all numbers vs. `i in range(n)`\n",
    "1. Run your function from part 2 with $n=1000$ and $p= [.2,.1,.2,.1..1,.3]$\n",
    "1. Use the plots above to justify that the first dice is fair and the second is unfair"
   ]
  },
  {
   "cell_type": "code",
   "execution_count": null,
   "id": "99a13249",
   "metadata": {},
   "outputs": [],
   "source": []
  }
 ],
 "metadata": {
  "kernelspec": {
   "display_name": "Python 3 (ipykernel)",
   "language": "python",
   "name": "python3"
  },
  "language_info": {
   "codemirror_mode": {
    "name": "ipython",
    "version": 3
   },
   "file_extension": ".py",
   "mimetype": "text/x-python",
   "name": "python",
   "nbconvert_exporter": "python",
   "pygments_lexer": "ipython3",
   "version": "3.8.10"
  }
 },
 "nbformat": 4,
 "nbformat_minor": 5
}
