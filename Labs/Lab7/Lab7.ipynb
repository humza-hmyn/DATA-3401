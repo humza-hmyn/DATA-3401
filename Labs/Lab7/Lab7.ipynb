{
 "cells": [
  {
   "cell_type": "markdown",
   "id": "7c16026b",
   "metadata": {},
   "source": [
    "# <center>Lab 7 &ndash; DATA 3401 (Fall 2022)</center>\n",
    "\n",
    "## Lab Date: 10/28\n",
    "## Due Date 11/4 (before the beginning of lab)\n",
    "\n",
    "## Lab Description\n",
    "The purpose of this lab is for you to code the Monte Hall problem and a simulator that will run it with different choices and simulate what is the best strategy\n",
    "\n",
    "## Special Note\n",
    "You may work in groups of up to 3 people on this lab. However, at the end of the lab, you must each turn in a full copy of the lab to your own GitHub repo. You should state at the beginning of your lab who you worked with.\n",
    "\n",
    "## Monte Hall Problem\n",
    "In the 1960s there was a game show called Let's Make a Deal, whose host was Monte Hall. One famous game went as follows.\n",
    "1. The host shows the contestant 3 doors, and tells them that behind 1 door is a **brand new car**, while behind the other 2 doors there are goats\n",
    "1. The contestant chooses a door\n",
    "1. Now the host opens one of the remaining 2 doors and shows the contestant that this door held a goat\n",
    "1. The host asks the contestant if they would like to **switch** their choice to the remaining door, or to **stay** with their original guess\n",
    "\n",
    "Here is the question: should the contestant **switch** or **stay**?  "
   ]
  },
  {
   "cell_type": "markdown",
   "id": "a9ef87b4",
   "metadata": {},
   "source": [
    "## Exercise 1\n",
    "Write a `game_setup` function that does the following:\n",
    "1. Creates a numpy array representing the 3 doors\n",
    "1. Creates a numpy array representing the prizes (0 for goat and 1 for car).  You should randomly choose one of the elements of the prize array to be a car and the others should be goats.\n",
    "1. Your function should return the arrays of doors and prizes\n",
    "* Note, you can choose a different representation here, such as a single numpy array of prizes, or a 2x3 array where the first row represents remaining doors and the second row represents prizes behind each door."
   ]
  },
  {
   "cell_type": "code",
   "execution_count": 131,
   "id": "a97d068a",
   "metadata": {},
   "outputs": [],
   "source": [
    "# Write your function here\n",
    "import io  \n",
    "import sys\n",
    "import os\n",
    "def blockPrint():\n",
    "    sys.stdout = open(os.devnull, 'w')\n",
    "def enablePrint():\n",
    "    sys.stdout = sys.__stdout__\n",
    "    \n",
    "import numpy as np\n",
    "def game_setup():\n",
    "    doors_arr=np.full((3),0)\n",
    "    rand_one=np.random.randint(low=0,high=4)\n",
    "    doors_arr[rand_one-1]=1\n",
    "    return doors_arr"
   ]
  },
  {
   "cell_type": "code",
   "execution_count": 132,
   "id": "99e451b9",
   "metadata": {},
   "outputs": [
    {
     "data": {
      "text/plain": [
       "array([0, 0, 1])"
      ]
     },
     "execution_count": 132,
     "metadata": {},
     "output_type": "execute_result"
    }
   ],
   "source": [
    "# Test your function here\n",
    "game_setup()"
   ]
  },
  {
   "cell_type": "markdown",
   "id": "2a36e8d6",
   "metadata": {},
   "source": [
    "## Exercise 2\n",
    "Write a function `choose_door` that asks the user to input an integer 1,2,3 to choose a door and returns the door they chose.  You should catch any errors that the user might make and continue asking for input until the user inputs a valid choice."
   ]
  },
  {
   "cell_type": "code",
   "execution_count": 99,
   "id": "6686b39a",
   "metadata": {},
   "outputs": [],
   "source": [
    "# Write your function here\n",
    "def choose_door():\n",
    "    valid_ch=0\n",
    "    while valid_ch==0:\n",
    "        door_choice=input(\"Please select a door from 1-3.\")\n",
    "        try: \n",
    "            door_choice=int(door_choice)\n",
    "            if door_choice >=1 and door_choice <= 3:\n",
    "                print(\"You have selected door number \"+str(door_choice)) \n",
    "                valid_ch=1\n",
    "                return door_choice\n",
    "            elif door_choice <=1 or door_choice >= 3:\n",
    "                print(\"Please select a value between a 1-3 for the doors.\")\n",
    "        except ValueError:\n",
    "            print(\"That is incorrect, please try again.\")"
   ]
  },
  {
   "cell_type": "code",
   "execution_count": 100,
   "id": "c168867b",
   "metadata": {},
   "outputs": [
    {
     "name": "stdout",
     "output_type": "stream",
     "text": [
      "Please select a door from 1-3.2\n",
      "You have selected door number 2\n"
     ]
    },
    {
     "data": {
      "text/plain": [
       "2"
      ]
     },
     "execution_count": 100,
     "metadata": {},
     "output_type": "execute_result"
    }
   ],
   "source": [
    "# Test your function here\n",
    "choose_door()"
   ]
  },
  {
   "cell_type": "code",
   "execution_count": 101,
   "id": "5751202b",
   "metadata": {},
   "outputs": [
    {
     "name": "stdout",
     "output_type": "stream",
     "text": [
      "Please select a door from 1-3.N\n",
      "That is incorrect, please try again.\n",
      "Please select a door from 1-3.5\n",
      "Please select a value between a 1-3 for the doors.\n",
      "Please select a door from 1-3.1\n",
      "You have selected door number 1\n"
     ]
    },
    {
     "data": {
      "text/plain": [
       "1"
      ]
     },
     "execution_count": 101,
     "metadata": {},
     "output_type": "execute_result"
    }
   ],
   "source": [
    "choose_door()"
   ]
  },
  {
   "cell_type": "markdown",
   "id": "903e05f8",
   "metadata": {},
   "source": [
    "## Exercise 3\n",
    "Write a function `switch_stay` that asks the user if they want to switch to the remaining door or stay with their original choice. Catch any errors and continue asking for input until the user inputs a valid choice."
   ]
  },
  {
   "cell_type": "code",
   "execution_count": 116,
   "id": "c24fa39f",
   "metadata": {},
   "outputs": [],
   "source": [
    "# Write your function here\n",
    "def switch_stay(curr_chc):\n",
    "    valid_ent=0\n",
    "    while valid_ent==0:\n",
    "        cont_chc=input(\"Would you like to select another door or are you positive this is the one?! (Y/N)\")\n",
    "        try:\n",
    "            cont_chc=str(cont_chc)\n",
    "            cont_chc=cont_chc.upper()\n",
    "            print(cont_chc)\n",
    "            if cont_chc=='Y':\n",
    "                print(\"Alright, let's get a new door!\")\n",
    "                new_chc=choose_door()\n",
    "                valid_ent=1\n",
    "                return new_chc\n",
    "            elif cont_chc=='N':\n",
    "                print(\"Looks like someone is confident about their choice!\")\n",
    "                return curr_chc\n",
    "        except ValueError:\n",
    "            print(\"That is incorrect, try again.\")"
   ]
  },
  {
   "cell_type": "code",
   "execution_count": 117,
   "id": "e0dd8e7b",
   "metadata": {},
   "outputs": [
    {
     "name": "stdout",
     "output_type": "stream",
     "text": [
      "Would you like to select another door or are you positive this is the one?! (Y/N)Y\n",
      "Y\n",
      "Alright, let's get a new door!\n",
      "Please select a door from 1-3.3\n",
      "You have selected door number 3\n"
     ]
    },
    {
     "data": {
      "text/plain": [
       "3"
      ]
     },
     "execution_count": 117,
     "metadata": {},
     "output_type": "execute_result"
    }
   ],
   "source": [
    "# Test your function here\n",
    "c=2\n",
    "switch_stay(c)"
   ]
  },
  {
   "cell_type": "markdown",
   "id": "a39106bb",
   "metadata": {},
   "source": [
    "## Exercise 4\n",
    "Write a Monte Hall game simulator that introduces the game and proceeds in the steps given in the introduction. After step 4, your function (the host) should tell the player if they won the car! or got the goat :-(\n",
    "1. Be sure to add print statements with appropriate messages to update the player on the status of the game\n",
    "1. In the step where the host reveals a door with a goat behind it, your host should randomly choose from the remaining doors that have goats behind them\n",
    "1. Test your function 3 times in the cells below"
   ]
  },
  {
   "cell_type": "code",
   "execution_count": 105,
   "id": "714dbd53",
   "metadata": {},
   "outputs": [],
   "source": [
    "# Write your function here\n",
    "def monte_hall():\n",
    "    #STEPS: get door choice, validate for choice 2, init game end phase\n",
    "    print(\"HELOOOO LADIES AND GENTLEMEN WELCOME TO TONIGHTS GAME!\\nWILL OUR BRAVE NEW CONTESTANT TAKE HOME A NEW CAR OR WILL THEY TAKE HOME A GOAT?\\nNO MORE STALLING, LET'S BEGIN!\")\n",
    "    doors_present=game_setup()\n",
    "    print(\"Here are your choices, contestant! Only one of these doors holds a new ride and the others... well, they contain a goat\\n\")\n",
    "    door_selected=choose_door()\n",
    "    door_selected=switch_stay(door_selected)\n",
    "    print(\"\\nNOW, LET'S SEE IF OUR CONTESTANT HAS WON!\\nYou have selected door number \"+str(door_selected)+ \" and behind it is....\\n\")\n",
    "    print(doors_present)\n",
    "    if(doors_present[door_selected-1]==1):\n",
    "        print(\"YOU WIN A CAR!! CONGRATULATIONS!!\")\n",
    "    else:\n",
    "        print(\"OHHHH BUMMER, YOU GOT A GOAT HAHAHA!\")"
   ]
  },
  {
   "cell_type": "code",
   "execution_count": 107,
   "id": "d8e7e202",
   "metadata": {},
   "outputs": [
    {
     "name": "stdout",
     "output_type": "stream",
     "text": [
      "HELOOOO LADIES AND GENTLEMEN WELCOME TO TONIGHTS GAME!\n",
      "WILL OUR BRAVE NEW CONTESTANT TAKE HOME A NEW CAR OR WILL THEY TAKE HOME A GOAT?\n",
      "NO MORE STALLING, LET'S BEGIN!\n",
      "Here are your choices, contestant! Only one of these doors holds a new ride and the others... well, they contain a goat\n",
      "\n",
      "Please select a door from 1-3.89\n",
      "Please select a value between a 1-3 for the doors.\n",
      "Please select a door from 1-3.2\n",
      "You have selected door number 2\n",
      "Would you like to select another door or are you positive this is the one?! (Y/N)Y\n",
      "Y\n",
      "Alright, let's get a new door!\n",
      "Please select a door from 1-3.3\n",
      "You have selected door number 3\n",
      "\n",
      "NOW, LET'S SEE IF OUR CONTESTANT HAS WON!\n",
      "You have selected door number 3 and behind it is....\n",
      "\n",
      "[0 0 1]\n",
      "YOU WIN A CAR!! CONGRATULATIONS!!\n"
     ]
    }
   ],
   "source": [
    "# Test your function here\n",
    "monte_hall()"
   ]
  },
  {
   "cell_type": "markdown",
   "id": "e029d700",
   "metadata": {},
   "source": [
    "## Exercise 5\n",
    "Modify your function from Exercise 4 to run a Monte Hall game automatically without any user input. \n",
    "1. Your function should have a Boolean variable `switch` whose default value is `True`, and indicates that the player will choose to switch (if True) or stay (if False)\n",
    "1. Your player door should randomly chosen for step 1 of the game\n",
    "1. Your function should output `1` if the player wins the car and `0` if the player gets the goat\n",
    "1. Your function should suppress any print statements from that in Exercise 4"
   ]
  },
  {
   "cell_type": "code",
   "execution_count": null,
   "id": "2d30bc76",
   "metadata": {},
   "outputs": [],
   "source": [
    "# Write your function here\n",
    "def monte_hall_2(door_pre,switch):\n",
    "    blockPrint()\n",
    "    doors_present=game_setup()\n",
    "    if switch==True:\n",
    "        door_selected=switch_stay(door_pre)\n",
    "    elif switch==False:\n",
    "        door_selected=door_pre\n",
    "    if(doors_present[door_selected-1]==1):\n",
    "        return 1 #win\n",
    "    else:\n",
    "        return 0 #lose"
   ]
  },
  {
   "cell_type": "code",
   "execution_count": 134,
   "id": "4d803ebc",
   "metadata": {},
   "outputs": [
    {
     "name": "stdout",
     "output_type": "stream",
     "text": [
      "Would you like to select another door or are you positive this is the one?! (Y/N)N\n"
     ]
    },
    {
     "data": {
      "text/plain": [
       "0"
      ]
     },
     "execution_count": 134,
     "metadata": {},
     "output_type": "execute_result"
    }
   ],
   "source": [
    "# Test your function here\n",
    "random_door=np.random.randint(low=1,high=4)\n",
    "switch=True\n",
    "monte_hall_2(random_door,switch)"
   ]
  },
  {
   "cell_type": "code",
   "execution_count": 137,
   "id": "4efd6f6b",
   "metadata": {},
   "outputs": [
    {
     "data": {
      "text/plain": [
       "1"
      ]
     },
     "execution_count": 137,
     "metadata": {},
     "output_type": "execute_result"
    }
   ],
   "source": [
    "random_door=np.random.randint(low=1,high=4)\n",
    "switch=False\n",
    "monte_hall_2(random_door,switch)"
   ]
  },
  {
   "cell_type": "markdown",
   "id": "ec066a2b",
   "metadata": {},
   "source": [
    "## Exercise 6\n",
    "1. Write a script that specifies a number of trials `num_trials=100`, runs your automatic Monte Hall simulator from Exercise 5 with `switch=True`, `num_trials` times and stores the output as an ndarray\n",
    "1. Repeat the process from step 1 `num_trials` times.  Note you can do these 2 steps in a nested for loop -- create a numpy array of size `(num_trials,num_trials)` with each entry initialized to 0, and for each `[i,j]` entry, capture the output of your Monte Hall simulator\n",
    "1. Sum your numpy array from step 2 along the row axis (meaning add all elements of a given column together) to obtain an array where each entry captures how many times the player won out of `num_trials` games. Call this array `winners`.\n",
    "1. Using pyplots hist command (see Probability lecture), plot a histogram of the `winners` array from the previous step with 15 bins and range being the minimum of `winners` to the maximum of `winners`\n",
    "1. Also report the min, max, mean, median, and standard deviation of `winners`\n",
    "1. Repeat Steps 1--5 for `switch=False` (i.e., the player choosing to stay)"
   ]
  },
  {
   "cell_type": "code",
   "execution_count": 153,
   "id": "6d074d24",
   "metadata": {},
   "outputs": [],
   "source": [
    "## Write and test your code here\n",
    "switch=False\n",
    "num_trials=100\n",
    "charray=np.chararray(num_trials)\n",
    "print(charray)\n",
    "while num_trials>0:\n",
    "    random_door=np.random.randint(low=1,high=4)\n",
    "    win_state=monte_hall_2(random_door,switch)\n",
    "    if win_state==1:\n",
    "        print(\"Win\")\n",
    "        charray[num_trials-1]=1\n",
    "    elif win_state==0:\n",
    "        print(\"Loss\")\n",
    "    num_trials=num_trials-1\n",
    "print(charray)\n",
    "    \n",
    "import numpy as np\n",
    "print(np.zeros([4,4]))"
   ]
  },
  {
   "cell_type": "markdown",
   "id": "af44ba37",
   "metadata": {},
   "source": [
    "## Exercise 7 -- Conclusion\n",
    "1. Based on your observations from Exercise 6, what do you estimate the probability of winning if the player chooses to switch vs. choosing to stay?\n",
    "1. Should the player switch doors or stay with their initial guess?"
   ]
  },
  {
   "cell_type": "markdown",
   "id": "92347705",
   "metadata": {},
   "source": [
    "Regardless of their choice of staying or leaving, the player is locked into a permanent 1/3 chance of winning the car."
   ]
  },
  {
   "cell_type": "markdown",
   "id": "f49867a5",
   "metadata": {},
   "source": [
    "Switching could be wise as it gives a spread on where their guess is but it will always be a 1/3 chance."
   ]
  },
  {
   "cell_type": "markdown",
   "id": "4bb11381",
   "metadata": {},
   "source": [
    "## Bonus\n",
    "Give a mathematical argument for which strategy (if any) is better. This should involve you computing the probability of success for each strategy and comparing these."
   ]
  },
  {
   "cell_type": "code",
   "execution_count": null,
   "id": "7d1ee640",
   "metadata": {},
   "outputs": [],
   "source": []
  }
 ],
 "metadata": {
  "kernelspec": {
   "display_name": "Python 3 (ipykernel)",
   "language": "python",
   "name": "python3"
  },
  "language_info": {
   "codemirror_mode": {
    "name": "ipython",
    "version": 3
   },
   "file_extension": ".py",
   "mimetype": "text/x-python",
   "name": "python",
   "nbconvert_exporter": "python",
   "pygments_lexer": "ipython3",
   "version": "3.8.10"
  }
 },
 "nbformat": 4,
 "nbformat_minor": 5
}
