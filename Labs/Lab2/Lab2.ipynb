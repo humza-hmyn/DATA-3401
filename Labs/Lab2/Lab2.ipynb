{
 "cells": [
  {
   "cell_type": "markdown",
   "id": "6c90d734",
   "metadata": {},
   "source": [
    "# Problem 1:\n",
    "\n",
    "Write a script that defines two strings: your first name and last name, and prints them in reverse order with a space between them.\n"
   ]
  },
  {
   "cell_type": "code",
   "execution_count": 5,
   "id": "f4140f99",
   "metadata": {},
   "outputs": [
    {
     "name": "stdout",
     "output_type": "stream",
     "text": [
      "Humza Humayun nuyamuH azmuH\n"
     ]
    }
   ],
   "source": [
    "print(\"Humza Humayun\"+\"Humza Humayun \"[::-1])"
   ]
  },
  {
   "cell_type": "markdown",
   "id": "e3c7c49f",
   "metadata": {},
   "source": [
    "# Problem 2:\n",
    "\n",
    "Write a print command that displays the following (replace all my information with yours)\n",
    "\n",
    "My name is Keaton Hamm\\ I am a Math major\\ ------------------------\\ This is my Python string"
   ]
  },
  {
   "cell_type": "code",
   "execution_count": 14,
   "id": "cdf06cd3",
   "metadata": {},
   "outputs": [
    {
     "name": "stdout",
     "output_type": "stream",
     "text": [
      "My name is Humza Humayun\\ I am a Data Science Major\\ ------------------------\\ This is my Python string\n"
     ]
    }
   ],
   "source": [
    "print(\"My name is Humza Humayun\\ I am a Data Science Major\\ \"+\"-\"*24 +\"\\ This is my Python string\")"
   ]
  },
  {
   "cell_type": "markdown",
   "id": "75afebf4",
   "metadata": {},
   "source": [
    "# Problem 3:\n",
    "\n",
    "Think about what the results would be for the following expressions, and then type them into the terminal to verify your answers. Briefly explain the results for each one."
   ]
  },
  {
   "cell_type": "code",
   "execution_count": 22,
   "id": "096e6c79",
   "metadata": {},
   "outputs": [
    {
     "data": {
      "text/plain": [
       "8"
      ]
     },
     "execution_count": 22,
     "metadata": {},
     "output_type": "execute_result"
    }
   ],
   "source": [
    "1/2 #This is a division operation with two integers, resulting in a float for the quotient.\n",
    "    #This operator will always return a float as a result...\n",
    "    \n",
    "int(1/2) #This is another division operation but unlike the previous one, this one casts the result as an integer\n",
    "        #unlike the first one. This comes out to be zero as the integer conversion \"rounds\" the quotient to the integer \n",
    "        # portion of the float\n",
    "        \n",
    "int(9/10) #Like the one above, float result is 0.9 but with integer casting, it becomes 0 as the casting\n",
    "        # captures the integer portion of the float (which, again, is 0)\n",
    "\n",
    "-5**2 # This returns -25 because this is the exponentiation command; this is 5^2 (\"5 to power of 2\") but instead of \n",
    "    # raising -5 to the power of 2, it multiplies in the -1 into the result of 5^2 .  \n",
    "\n",
    "(-5) ** 2  #Unlike the one prior, this one returns a result of 25. This is a exponentiation command again - \n",
    "            #this time, it is raising -5 to the power of 2; the parenthesis keep the negative sign with the integer.\n",
    "\n",
    "10-6/2  # The result of this is 7; because the division operation (6/2) happens first; it equals 3.\n",
    "        # Then the remaining subtraction operation happens (10-3); which gets 7.\n",
    "\n",
    "5*4/2*3 # The result of this is surprisingly 30. This is because the division operation (in the middle) happens first\n",
    "        # and then causes the equation to become 5*2*3, effectively 5*6 which is 30.\n",
    "\n",
    "5*4/2**2*3 #This one is tricky - here the exponentiation (2**2 = 4) happens first which makes the equation into\n",
    "        # 5*4/4*3, which then turns into 5*1*3 (b/c 4/4=1) and then equates to 15.\n",
    "\n",
    "2^10 #The caret in python does NOT indicate a exponentiation but rather it is a logical XOR command.\n",
    "    #In detail, the caret between two values returns a boolean value (T/F or 0/1) if the two numbers differ."
   ]
  },
  {
   "cell_type": "markdown",
   "id": "1ae1212d",
   "metadata": {},
   "source": [
    "# Problem 4:\n",
    "\n",
    "Write code that will print your name 10 times but without you writing your name out 10 times."
   ]
  },
  {
   "cell_type": "code",
   "execution_count": 16,
   "id": "94f05d56",
   "metadata": {},
   "outputs": [
    {
     "name": "stdout",
     "output_type": "stream",
     "text": [
      "Humza Humza Humza Humza Humza Humza Humza Humza Humza Humza \n"
     ]
    }
   ],
   "source": [
    "print(\"Humza \"*10) #haha"
   ]
  },
  {
   "cell_type": "markdown",
   "id": "e7427d72",
   "metadata": {},
   "source": [
    "# Problem 5:\n",
    "\n",
    "Define the list x = [1,2,3,4,'a','b','c','d']\n",
    "\n",
    "    Use list indexing commands to print every other element of the list starting with 2\n",
    "        - Personal Note: SHould return 2,4,'b', and 'd' ; skips 1,3,a,and c\n",
    "        \n",
    "    Use list indexing commands to print every third element of the list starting at 'd' and going backward\n",
    "        - Personal Note: this should return: d, a, 2 (reverse list, skips 3)\n",
    "        \n",
    "    Use list indexing commands to print elements 4 through 'c'\n",
    "        - print 4 and everything after it EXCEPT D: [4, a , b, c]"
   ]
  },
  {
   "cell_type": "code",
   "execution_count": 26,
   "id": "ed817602",
   "metadata": {},
   "outputs": [],
   "source": [
    "x = [1,2,3,4,'a','b','c','d'] #list definition"
   ]
  },
  {
   "cell_type": "code",
   "execution_count": 32,
   "id": "703e09e7",
   "metadata": {},
   "outputs": [
    {
     "name": "stdout",
     "output_type": "stream",
     "text": [
      "[2, 4, 'b', 'd']\n"
     ]
    }
   ],
   "source": [
    "print(x[1::2]) #5a"
   ]
  },
  {
   "cell_type": "code",
   "execution_count": 45,
   "id": "ca85342e",
   "metadata": {},
   "outputs": [
    {
     "name": "stdout",
     "output_type": "stream",
     "text": [
      "['d', 'a', 2]\n"
     ]
    }
   ],
   "source": [
    "print(x[::-3]) #5b"
   ]
  },
  {
   "cell_type": "code",
   "execution_count": 55,
   "id": "a014acb3",
   "metadata": {},
   "outputs": [
    {
     "name": "stdout",
     "output_type": "stream",
     "text": [
      "[4, 'a', 'b', 'c']\n"
     ]
    }
   ],
   "source": [
    "print(x[3:-1:]) #5c"
   ]
  }
 ],
 "metadata": {
  "kernelspec": {
   "display_name": "Python 3 (ipykernel)",
   "language": "python",
   "name": "python3"
  },
  "language_info": {
   "codemirror_mode": {
    "name": "ipython",
    "version": 3
   },
   "file_extension": ".py",
   "mimetype": "text/x-python",
   "name": "python",
   "nbconvert_exporter": "python",
   "pygments_lexer": "ipython3",
   "version": "3.8.10"
  }
 },
 "nbformat": 4,
 "nbformat_minor": 5
}
