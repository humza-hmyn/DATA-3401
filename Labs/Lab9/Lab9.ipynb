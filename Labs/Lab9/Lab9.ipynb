{
 "cells": [
  {
   "cell_type": "markdown",
   "id": "b1e672e3",
   "metadata": {},
   "source": [
    "# <center>Lab 9 &ndash; DATA 3401 (Fall 2022)</center>\n",
    "\n",
    "## Lab Date: 11/11\n",
    "## Due Date 1/18 (before the beginning of lab)\n",
    "\n",
    "## Lab Description\n",
    "The purpose of this lab is for you to become more familiar with reading and writing .txt files"
   ]
  },
  {
   "cell_type": "markdown",
   "id": "266ca2b4",
   "metadata": {},
   "source": [
    "## Exercise 1\n",
    "\n",
    "1. Download the file `Shakespeare.txt` from this folder of the course repo into your Lab9 folder. \n",
    "1. Open the file in read mode, and print the file one line at a time in your notebook (get rid of any extra line breaks if they appear)\n",
    "1. Write a function that takes a single character string input argument that counts the number of times that character appears in the text file (that is, `count_char(char)` should return the number of times `char` appears in the file, where `char` could be `a`, `b`, `c`, ...)\n",
    "1. Using your function from the previous part, count the number of times a, e, ', and '&nbsp;' (the space character) appear in the document. Display the counts nicely with print statements. "
   ]
  },
  {
   "cell_type": "code",
   "execution_count": 72,
   "id": "b3cad8fb",
   "metadata": {},
   "outputs": [
    {
     "name": "stdout",
     "output_type": "stream",
     "text": [
      "So is it not with me as with that Muse\n",
      "Stirr'd by a painted beauty to his verse,\n",
      "Who heaven itself for ornament doth use\n",
      "And every fair with his fair doth rehearse\n",
      "Making a couplement of proud compare,\n",
      "With sun and moon, with earth and sea's rich gems,\n",
      "With April's first-born flowers, and all things rare\n",
      "That heaven's air in this huge rondure hems.\n",
      "O' let me, true in love, but truly write,\n",
      "And then believe me, my love is as fair\n",
      "As any mother's child, though not so bright\n",
      "As those gold candles fix'd in heaven's air:\n",
      "Let them say more than like of hearsay well;\n",
      "I will not praise that purpose not to sell.\n",
      "\n",
      "Enter a search term to return, letterwise: h\n",
      "The character h appeared 34 times in the txt file.\n"
     ]
    }
   ],
   "source": [
    "# Write your solutions here\n",
    "fp = open(\"Shakespeare.txt\",'r')\n",
    "lines=fp.read()\n",
    "print(lines)\n",
    "char=input(\"\\nEnter a search term to return, letterwise: \")\n",
    "def count_char(char):\n",
    "    search=int(0)\n",
    "    i=0\n",
    "    matches=0\n",
    "    for search in lines:\n",
    "        if lines[i]==char:\n",
    "            matches=matches+1\n",
    "        i=i+1\n",
    "    print(\"The character \"+char+\" appeared \"+str(matches)+\" times in the txt file.\")\n",
    "count_char(char)\n",
    "\n",
    "fp.close()"
   ]
  },
  {
   "cell_type": "code",
   "execution_count": 73,
   "id": "9412258c",
   "metadata": {},
   "outputs": [
    {
     "name": "stdout",
     "output_type": "stream",
     "text": [
      "The character a appeared 35 times in the txt file.\n",
      "The character e appeared 54 times in the txt file.\n",
      "The character   appeared 103 times in the txt file.\n"
     ]
    }
   ],
   "source": [
    "count_char('a')\n",
    "count_char('e')\n",
    "count_char(' ')"
   ]
  },
  {
   "cell_type": "markdown",
   "id": "c57e3b5d",
   "metadata": {},
   "source": [
    "## Exercise 2\n",
    "\n",
    "1. Write a function that takes in three arguments `string`, `char`, `replacement`, that replaces every instance of `char` in `string` with `replacement`.  For example, `replace('Hello','l','!')` would return `He!!o`.  Note, you may use your function from the midterm as a starting point.\n",
    "1. Capture the text from `Shakespeare.txt`, and replace all of the character 'a' with '#'\n",
    "1. Write the new text to a new file called `Shakespeare_modified.txt`"
   ]
  },
  {
   "cell_type": "code",
   "execution_count": 135,
   "id": "7868f952",
   "metadata": {},
   "outputs": [],
   "source": [
    "# Write your solutions here\n",
    "def rem_inst(string,char,replacement):\n",
    "    i=0\n",
    "    ret=''\n",
    "    for i in range (len(string)):\n",
    "        if(string[i]==char):\n",
    "            ret=ret+replacement\n",
    "        else:\n",
    "            ret=ret+string[i]\n",
    "    print(ret)\n",
    "    fp=open('Shakespeare_modified.txt','w')\n",
    "    fp.write(ret)"
   ]
  },
  {
   "cell_type": "code",
   "execution_count": 138,
   "id": "695412ce",
   "metadata": {},
   "outputs": [
    {
     "name": "stdout",
     "output_type": "stream",
     "text": [
      "So is it not with me #s with th#t Muse\n",
      "Stirr'd by # p#inted be#uty to his verse,\n",
      "Who he#ven itself for orn#ment doth use\n",
      "And every f#ir with his f#ir doth rehe#rse\n",
      "M#king # couplement of proud comp#re,\n",
      "With sun #nd moon, with e#rth #nd se#'s rich gems,\n",
      "With April's first-born flowers, #nd #ll things r#re\n",
      "Th#t he#ven's #ir in this huge rondure hems.\n",
      "O' let me, true in love, but truly write,\n",
      "And then believe me, my love is #s f#ir\n",
      "As #ny mother's child, though not so bright\n",
      "As those gold c#ndles fix'd in he#ven's #ir:\n",
      "Let them s#y more th#n like of he#rs#y well;\n",
      "I will not pr#ise th#t purpose not to sell.\n"
     ]
    }
   ],
   "source": [
    "fp=open(\"Shakespeare.txt\",'r')\n",
    "string=fp.read()\n",
    "#print(string)\n",
    "rem_inst(string,'a','#')"
   ]
  },
  {
   "cell_type": "markdown",
   "id": "33068a69",
   "metadata": {},
   "source": [
    "## Exercise 3\n",
    "\n",
    "1. Write a function that takes an integer input argument `n`, opens the `Shakespeare.txt` file, and creates a list of all words in the file whose length is less than or equal to `n`.\n",
    "1. Test your function with `n=2, 4, 6`. For each `n`, you should print out the full list."
   ]
  },
  {
   "cell_type": "code",
   "execution_count": 165,
   "id": "ce8f33aa",
   "metadata": {},
   "outputs": [],
   "source": [
    "# Write your solutions here\n",
    "def write_limit(n):\n",
    "    matches=[]\n",
    "    i=0\n",
    "    with open(\"Shakespeare.txt\",'r') as fp:\n",
    "        for line in fp: #this splits into lines...\n",
    "            for word in line.split(): #splits into words...\n",
    "                if len(word)==n:\n",
    "                    matches.append(word)\n",
    "                    i=i+1\n",
    "        print(matches)"
   ]
  },
  {
   "cell_type": "code",
   "execution_count": 164,
   "id": "85729827",
   "metadata": {},
   "outputs": [
    {
     "name": "stdout",
     "output_type": "stream",
     "text": [
      "['So', 'is', 'it', 'me', 'as', 'by', 'to', 'of', 'in', \"O'\", 'in', 'my', 'is', 'as', 'As', 'so', 'As', 'in', 'of', 'to']\n"
     ]
    }
   ],
   "source": [
    "write_limit(2)"
   ]
  },
  {
   "cell_type": "code",
   "execution_count": 166,
   "id": "5d2e85cc",
   "metadata": {},
   "outputs": [
    {
     "name": "stdout",
     "output_type": "stream",
     "text": [
      "['with', 'with', 'that', 'Muse', 'doth', 'fair', 'with', 'fair', 'doth', 'With', 'with', 'rich', 'With', 'rare', 'That', 'this', 'huge', 'true', 'then', 'love', 'fair', 'gold', 'air:', 'them', 'more', 'than', 'like', 'will', 'that']\n"
     ]
    }
   ],
   "source": [
    "write_limit(4)"
   ]
  },
  {
   "cell_type": "code",
   "execution_count": 167,
   "id": "faaf7747",
   "metadata": {},
   "outputs": [
    {
     "name": "stdout",
     "output_type": "stream",
     "text": [
      "['beauty', 'verse,', 'heaven', 'itself', 'Making', 'things', 'write,', 'child,', 'though', 'bright', 'praise']\n"
     ]
    }
   ],
   "source": [
    "write_limit(6)"
   ]
  },
  {
   "cell_type": "code",
   "execution_count": null,
   "id": "eb3ea26d",
   "metadata": {},
   "outputs": [],
   "source": []
  }
 ],
 "metadata": {
  "kernelspec": {
   "display_name": "Python 3 (ipykernel)",
   "language": "python",
   "name": "python3"
  },
  "language_info": {
   "codemirror_mode": {
    "name": "ipython",
    "version": 3
   },
   "file_extension": ".py",
   "mimetype": "text/x-python",
   "name": "python",
   "nbconvert_exporter": "python",
   "pygments_lexer": "ipython3",
   "version": "3.8.10"
  }
 },
 "nbformat": 4,
 "nbformat_minor": 5
}
