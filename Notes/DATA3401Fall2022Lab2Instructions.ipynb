{
 "cells": [
  {
   "cell_type": "markdown",
   "metadata": {},
   "source": [
    "# <center>Lab 2 &ndash; DATA 3401 (Fall 2022)</center>\n",
    "\n",
    "## Lab Date: 9/9\n",
    "## Due Date 9/16 (before the beginning of Lab)\n",
    "\n",
    "## Lab Description\n",
    "The purpose of this lab is for you to\n",
    "- Install Python\n",
    "- Learn to create Jupyter notebooks\n",
    "- Make your first Jupyter notebook with some basic programs"
   ]
  },
  {
   "cell_type": "markdown",
   "metadata": {},
   "source": [
    "## Task 1 &ndash; Installing Python\n",
    "1. Open an Ubuntu terminal (regular terminal if you are a Mac user) and type the following commands:\n",
    "    - `sudo apt-get update` (updates packages)\n",
    "    - `sudo apt-get install python python3-pip` (installs python and pip, which can be used to install other python packages)\n",
    "    - `sudo pip3 install jupyter numpy matplotlib pandas` (installs the main libraries that we will use in this course) "
   ]
  },
  {
   "cell_type": "markdown",
   "metadata": {},
   "source": [
    "## Task 2 &ndash; Creating your first Jupyter notebook (Ubuntu)\n",
    "1. Open an Ubuntu terminal and navigate to your desired folder (e.g., 'cd /mnt/c/users/username/DATA3401')\n",
    "    - For this course, your folder should most likely be your local GitHub repo\n",
    "1. Once in the folder, type the following command: `jupyter notebook --no-browser`\n",
    "1. You should see a set of two urls. Select one of them using your mouse$^\\ast$; copy the url with `ctrl+shift+c`; paste the url into a web browser (`ctrl+v`)\n",
    "    - $^\\ast$If this does not work for you, right click on the top bar of the terminal and go to Properties. Then make sure your options match these\n",
    "    \n",
    "    <img src=\"TerminalProperties.png\" alt=\"Image Missing\" width=\"300\"/>\n",
    "    \n",
    "1. You should now see a file system open in your browser\n",
    "1. Navigate to folder that is linked to your GitHub repo for this course (if you didn't already do this in step 1)\n",
    "1. Once inside the folder, click \"New\" and select \"Python 3\" under the Notebook heading\n",
    "1. You should now have a jupyter notebook open in a new tab of your browser"
   ]
  },
  {
   "cell_type": "markdown",
   "metadata": {},
   "source": [
    "## Task 2 &ndash; Creating your first Jupyter notebook (Mac)\n",
    "1. Open a commant terminal and navigate to your desired folder (e.g., 'cd /mnt/c/users/username/DATA3401')\n",
    "    - For this course, your folder should most likely be your local GitHub repo\n",
    "1. In your command terminal, type `jupyter notebook`\n",
    "1. This *should* open a browser window with the jupyter file system in it\n",
    "1. You should now see a file system open in your browser\n",
    "1. Navigate to folder that is linked to your GitHub repo for this course (if you didn't already do this in step 1)\n",
    "1. Once inside the folder, click \"New\" and select \"Python 3\" under the Notebook heading\n",
    "1. You should now have a jupyter notebook open in a new tab of your browser"
   ]
  },
  {
   "cell_type": "markdown",
   "metadata": {},
   "source": [
    "## Exercise 1 &ndash; Creating your first simple program\n",
    "1. In the jupyter notebook that you just made, type the simple command `print('Hello World')` and run the cell by pressing `shift+enter`\n",
    "1. Title your notebook \"HelloWorld\", and add it to your GitHub repo in your Lab2 folder.\n",
    "1. Remove the \"Test.txt\" file from your Lab2 folder (`rm Test.txt`) if you are in the GitBash terminal inside the folder)\n",
    "1. Push all changes to your repo"
   ]
  },
  {
   "cell_type": "markdown",
   "metadata": {},
   "source": [
    "## Exercise 2 &ndash; Basic Python programming\n",
    "1. Create a new jupyter notebook in the same manner as before, and title it Lab2\n",
    "1. Copy and paste the cells below into your new notebook and add your solutions to each problem\n",
    "1. Once finished, and before the deadline, push your notebook with the solutions to the folder for Lab 2 in your GitHub repo\n",
    "    - Reminder: the TA and I will look at the last version of your repo committed to GitHub before the deadline"
   ]
  },
  {
   "cell_type": "markdown",
   "metadata": {},
   "source": [
    "### Problem 1: \n",
    "Write a script that defines two strings: your first name and last name, and prints them in reverse order with a space between them."
   ]
  },
  {
   "cell_type": "code",
   "execution_count": null,
   "metadata": {},
   "outputs": [],
   "source": [
    "# Your solution here\n"
   ]
  },
  {
   "cell_type": "markdown",
   "metadata": {},
   "source": [
    "### Problem 2: \n",
    "Write a print command that displays the following (replace all my information with yours)\n",
    "\n",
    "My name is Keaton Hamm\\\n",
    "I am a Math major\\\n",
    "------------------------\\\n",
    "This is my Python string"
   ]
  },
  {
   "cell_type": "code",
   "execution_count": null,
   "metadata": {},
   "outputs": [],
   "source": [
    "# Your solution here\n"
   ]
  },
  {
   "cell_type": "markdown",
   "metadata": {},
   "source": [
    "### Problem 3:\n",
    "Think about what the results would be for the following expressions, and then type them into the terminal to verify your answers. Briefly explain the results for each one."
   ]
  },
  {
   "cell_type": "code",
   "execution_count": null,
   "metadata": {},
   "outputs": [],
   "source": [
    "1/2 #explanation here \n",
    "int(1/2) #explanation here\n",
    "int(9/10) #explanation here\n",
    "-5**2 # returns X because ...\n",
    "(-5) ** 2  #explanation here\n",
    "10-6/2  #explanation here\n",
    "5*4/2*3 #explanation here\n",
    "5*4/2**2*3 #explanation here\n",
    "2^10 #explanation here (may require some searching)"
   ]
  },
  {
   "cell_type": "markdown",
   "metadata": {},
   "source": [
    "### Problem 4:\n",
    "Write code that will print your name 10 times but without you writing your name out 10 times."
   ]
  },
  {
   "cell_type": "code",
   "execution_count": 1,
   "metadata": {},
   "outputs": [],
   "source": [
    "# Your solution here\n"
   ]
  },
  {
   "cell_type": "markdown",
   "metadata": {},
   "source": [
    "## Problem 5:\n",
    "Define the list `x = [1,2,3,4,'a','b','c','d']`\n",
    "1. Use list indexing commands to print every other element of the list starting with 2\n",
    "1. Use list indexing commands to print every third element of the list starting at 'd' and going backward\n",
    "1. Use list indexing commands to print elements 4 through 'c'"
   ]
  },
  {
   "cell_type": "code",
   "execution_count": null,
   "metadata": {},
   "outputs": [],
   "source": [
    "# Your solution to part 1 here\n"
   ]
  },
  {
   "cell_type": "code",
   "execution_count": null,
   "metadata": {},
   "outputs": [],
   "source": [
    "# Your solution to part 2 here\n"
   ]
  },
  {
   "cell_type": "code",
   "execution_count": null,
   "metadata": {},
   "outputs": [],
   "source": [
    "# Your solution to part 3 here\n"
   ]
  }
 ],
 "metadata": {
  "kernelspec": {
   "display_name": "Python 3 (ipykernel)",
   "language": "python",
   "name": "python3"
  },
  "language_info": {
   "codemirror_mode": {
    "name": "ipython",
    "version": 3
   },
   "file_extension": ".py",
   "mimetype": "text/x-python",
   "name": "python",
   "nbconvert_exporter": "python",
   "pygments_lexer": "ipython3",
   "version": "3.8.10"
  }
 },
 "nbformat": 4,
 "nbformat_minor": 2
}
