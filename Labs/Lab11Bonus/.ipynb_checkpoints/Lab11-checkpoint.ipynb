{
 "cells": [
  {
   "cell_type": "markdown",
   "id": "c45fe2af",
   "metadata": {
    "id": "c45fe2af"
   },
   "source": [
    "# <center>(Bonus) Lab 11 &ndash; DATA 3401 (Fall 2022)</center>\n",
    "\n",
    "## Lab Date: 12/2\n",
    "## Due Date 12/11 (at 11:59pm) \n",
    "\n",
    "## Lab Description\n",
    "The purpose of this lab is for you to become more familiar object oriented programming by creating a matrix class.\n",
    "\n",
    "**Important Note!!!** You are **not** allowed to use numpy in this lab. The purpose of the lab is to give you experience writing a class yourself and to appreciate what numpy does in the background for you automatically.\n",
    "\n",
    "Code at the end of the lab is available for your use to do many standard matrix functions. Note that you may need to modify them if you use them to make methods inside your Matrix class."
   ]
  },
  {
   "cell_type": "markdown",
   "id": "8fb0c5f2",
   "metadata": {
    "id": "8fb0c5f2"
   },
   "source": [
    "# Matrix Class\n",
    "The following code gives a basic matrix class with the following properties:\n",
    "1. Matrices are be represented as lists of lists as we have done before\n",
    "1. The class can be initialized in 2 ways:\n",
    "    1. with arguments `n` and `m`, the size of the matrix. A newly instanciated matrix will contain all zeros.\n",
    "    1. with a list of lists of values. Note that since we are using lists of lists to implement matrices, it is possible that a user provides a list so that not all rows have the same number of columns. Test explicitly that the matrix is properly specified.\n",
    "1. Matrix instances M can be indexed with `M[i][j]` and `M[i,j]`."
   ]
  },
  {
   "cell_type": "code",
   "execution_count": 1,
   "id": "94d2ba0a",
   "metadata": {
    "id": "94d2ba0a"
   },
   "outputs": [],
   "source": [
    "class Matrix:\n",
    "    \n",
    "    def __init__(self, lst = None, n = None, m = None):\n",
    "        if lst == None and type(n) == int and type(m) == int:\n",
    "            self.matrix = [[0]*n for x in range(m)]\n",
    "        elif (all(type(i) == list for i in lst) and all(len(i) == len(lst[0]) for i in lst)):\n",
    "            self.matrix = [i for i in lst]\n",
    "        else:\n",
    "            print(\"There is an error in the Matrix!\")\n",
    "            \n",
    "    def __getitem__(self, index):\n",
    "        if isinstance(index, int):\n",
    "            return self.matrix[index]\n",
    "        elif len(index) == 2:\n",
    "            i,j = index\n",
    "            return self.matrix[i][j]\n",
    "        \n",
    "    def __str__(self):\n",
    "        matrix_disp = \"[\"+str(self.matrix[0]).replace(\",\",\"\")+\"\\n\"\n",
    "        for i in range(1,len(self.matrix)-1):\n",
    "            matrix_disp +=\" \"+str(self.matrix[i]).replace(\",\",\"\")+\"\\n\"\n",
    "        matrix_disp +=\" \"+str(self.matrix[len(self.matrix)-1]).replace(\",\",\"\")+\"]\"+\"\\n\"\n",
    "        return matrix_disp"
   ]
  },
  {
   "cell_type": "markdown",
   "id": "b1f346d3",
   "metadata": {},
   "source": [
    "# Exercise 1 &ndash; Testing the Matrix Class"
   ]
  },
  {
   "cell_type": "markdown",
   "id": "4c84c330",
   "metadata": {},
   "source": [
    "Test the matrix class as follows:\n",
    "1. Instantiate a new 2x2 matrix of zeros by passing arguments `n` and `m` to the Matrix class\n",
    "1. Instantiate a new 3x3 matrix of ones by passing a list of lists to the Matrix class\n",
    "1. Try to instantiate a matrix with a list of lists, but make the sub-lists different sizes (this will verify that the error state works in the object constructor).\n",
    "1. Instantiate a 3x3 matrix with entries 1-9 and use print out the (1,1) index entry in both of the ways described in item 3 in the first cell above.\n",
    "1. Print this full matrix using the `print` command (this verifies that the `__str__` method works)."
   ]
  },
  {
   "cell_type": "code",
   "execution_count": 2,
   "id": "6ca3fc31",
   "metadata": {},
   "outputs": [
    {
     "name": "stdout",
     "output_type": "stream",
     "text": [
      "[[0 0]\n",
      " [0 0]]\n",
      "\n"
     ]
    }
   ],
   "source": [
    "## Write your code here\n",
    "matrix1=Matrix(None,int(2),int(2))\n",
    "print(matrix1)"
   ]
  },
  {
   "cell_type": "code",
   "execution_count": 3,
   "id": "e72565de",
   "metadata": {},
   "outputs": [
    {
     "name": "stdout",
     "output_type": "stream",
     "text": [
      "[[1 2 3]\n",
      " [4 5 6]\n",
      " [7 8 9]]\n",
      "\n"
     ]
    }
   ],
   "source": [
    "lst2=[[1,2,3],[4,5,6],[7,8,9]]\n",
    "matrix2=Matrix(lst2,3,3)\n",
    "print(matrix2)"
   ]
  },
  {
   "cell_type": "code",
   "execution_count": 4,
   "id": "8956ce44",
   "metadata": {},
   "outputs": [
    {
     "name": "stdout",
     "output_type": "stream",
     "text": [
      "There is an error in the Matrix!\n"
     ]
    }
   ],
   "source": [
    "lst3=[[1,5],[3,6,7],[1,5,3,8],[2]]\n",
    "matrix3=Matrix(lst3)"
   ]
  },
  {
   "cell_type": "code",
   "execution_count": 5,
   "id": "399e5ba7",
   "metadata": {},
   "outputs": [
    {
     "name": "stdout",
     "output_type": "stream",
     "text": [
      "5\n"
     ]
    }
   ],
   "source": [
    "lst4=[[1,2,3],[4,5,6],[7,8,9]]\n",
    "matrix3=Matrix(lst4,3,3)\n",
    "print(matrix3[1,1])"
   ]
  },
  {
   "cell_type": "code",
   "execution_count": 6,
   "id": "71eb3a6d",
   "metadata": {},
   "outputs": [
    {
     "name": "stdout",
     "output_type": "stream",
     "text": [
      "5\n"
     ]
    }
   ],
   "source": [
    "print(matrix3[1][1])"
   ]
  },
  {
   "cell_type": "code",
   "execution_count": 7,
   "id": "10bb0d12",
   "metadata": {},
   "outputs": [
    {
     "name": "stdout",
     "output_type": "stream",
     "text": [
      "[[1 2 3]\n",
      " [4 5 6]\n",
      " [7 8 9]]\n",
      "\n"
     ]
    }
   ],
   "source": [
    "print(matrix3)"
   ]
  },
  {
   "cell_type": "markdown",
   "id": "8ca10282",
   "metadata": {
    "id": "8ca10282"
   },
   "source": [
    "## Exercise 2 &ndash; Internal methods\n",
    "Add the following methods to your class (note you may call the functions below in these methods). Make sure to appropriately test the dimensions of the matrices to make sure the operations are correct.\n",
    "1. `M.scalarmul(c)`: a matrix that is the scalar product $cM$, where every element of $M$ is multiplied by $c$.\n",
    "1. `M.add(N)`: adds two matrices $M$ and $N$. Don’t forget to test that the sizes of the matrices are compatible for this and all other operations.\n",
    "1. `M.sub(N)`: subtracts two matrices: $M-N$.\n",
    "1. `M.mat_mult(N)`: returns a matrix that is the matrix product of two matrices $MN$.\n",
    "1. `M.element_mult(N)`: returns a matrix that is the element-wise product of two matrices $M$ and $N$.\n",
    "1. `M.equals(N)`: returns true/false if $M==N$."
   ]
  },
  {
   "cell_type": "code",
   "execution_count": 8,
   "id": "515ec22d",
   "metadata": {
    "id": "515ec22d"
   },
   "outputs": [],
   "source": [
    "# Add these to your class here (copy and paste the class from Exercise 1 to get started)\n",
    "class Matrix:\n",
    "    \n",
    "    def __init__(self, lst = None, n = None, m = None):\n",
    "        if lst == None and type(n) == int and type(m) == int:\n",
    "            self.matrix = [[0]*n for x in range(m)]\n",
    "        elif (all(type(i) == list for i in lst) and all(len(i) == len(lst[0]) for i in lst)):\n",
    "            self.matrix = [i for i in lst]\n",
    "        else:\n",
    "            print(\"There is an error in the Matrix!\")\n",
    "            \n",
    "    def __getitem__(self, index):\n",
    "        if isinstance(index, int):\n",
    "            return self.matrix[index]\n",
    "        elif len(index) == 2:\n",
    "            i,j = index\n",
    "            return self.matrix[i][j]\n",
    "        \n",
    "    def __str__(self):\n",
    "        matrix_disp = \"[\"+str(self.matrix[0]).replace(\",\",\"\")+\"\\n\"\n",
    "        for i in range(1,len(self.matrix)-1):\n",
    "            matrix_disp +=\" \"+str(self.matrix[i]).replace(\",\",\"\")+\"\\n\"\n",
    "        matrix_disp +=\" \"+str(self.matrix[len(self.matrix)-1]).replace(\",\",\"\")+\"]\"+\"\\n\"\n",
    "        return matrix_disp\n",
    "    \n",
    "    def __scalarmul__(self,c):\n",
    "        if isinstance(c,int):\n",
    "            for i in range (len(self.matrix)):\n",
    "                inner=self.matrix[i]\n",
    "                for j in range(len(inner)):\n",
    "                    inner[j]=inner[j]*c\n",
    "    \n",
    "    def __add__(self,N):\n",
    "        #TEST TO SEE IF M AND N ARE COMPATIBLE - assuming\n",
    "        if len(self.matrix)==len(N):\n",
    "            for i in range (len(self.matrix)):\n",
    "                inner=N[i]\n",
    "                out_in=self.matrix[i]\n",
    "                for j in range(len(inner)):\n",
    "                    new_val=(inner[j]+out_in[j])\n",
    "                    inner[j]=new_val\n",
    "        print(N)\n",
    "        \n",
    "    def __sub__(self,N):\n",
    "        if len(self.matrix)==len(N):\n",
    "            for i in range (len(self.matrix)):\n",
    "                inner=N[i]\n",
    "                out_in=self.matrix[i]\n",
    "                for j in range(len(inner)):\n",
    "                    new_val=(inner[j]-out_in[j])\n",
    "                    inner[j]=new_val\n",
    "        print(N)\n",
    "        \n",
    "    def __mat_mult__(self,N):\n",
    "        if len(self.matrix)==len(N):\n",
    "            for i in range (len(self.matrix)):\n",
    "                inner=N[i]\n",
    "                out_in=self.matrix[i]\n",
    "                for j in range(len(inner)):\n",
    "                    new_val=(inner[j]*out_in[j])\n",
    "                    inner[j]=new_val\n",
    "        print(N)\n",
    "        \n",
    "    def __element_mult__(self,N):\n",
    "        if len(self.matrix)==len(N):\n",
    "            for i in range (len(self.matrix)):\n",
    "                inner=N[i]\n",
    "                out_in=self.matrix[i]\n",
    "                for j in range(len(inner)):\n",
    "                    new_val=(inner[j]*out_in[j])\n",
    "                    inner[j]=new_val\n",
    "        print(N)\n",
    "        \n",
    "    def __equals__(self,N):\n",
    "        if len(self.matrix)==len(N):\n",
    "            check=True\n",
    "            while check==True:\n",
    "                for i in range(len(self.matrix)):\n",
    "                    inner=N[i]\n",
    "                    out_in=self.matrix[i]\n",
    "                    for j in range(len(inner)):\n",
    "                            if inner[j]==out_in[j]:\n",
    "                                check=True\n",
    "                            else:\n",
    "                                check=False\n",
    "                                print(\"NO MATCH\")\n",
    "        print(N)"
   ]
  },
  {
   "cell_type": "code",
   "execution_count": 9,
   "id": "7e4b8fd7",
   "metadata": {
    "colab": {
     "base_uri": "https://localhost:8080/"
    },
    "id": "7e4b8fd7",
    "outputId": "ca77e043-b988-4046-cea9-1bd6e95b542d"
   },
   "outputs": [
    {
     "name": "stdout",
     "output_type": "stream",
     "text": [
      "[[3 6 9]\n",
      " [12 15 18]\n",
      " [21 24 27]]\n",
      "\n"
     ]
    }
   ],
   "source": [
    "# Test your functions thoroughly\n",
    "ex1=[[1,2,3],[4,5,6],[7,8,9]]\n",
    "mat1=Matrix(ex1,3,3)\n",
    "mat1.__scalarmul__(3)\n",
    "print(mat1)"
   ]
  },
  {
   "cell_type": "code",
   "execution_count": 10,
   "id": "4f82d742",
   "metadata": {},
   "outputs": [
    {
     "name": "stdout",
     "output_type": "stream",
     "text": [
      "[[7, 15, 13], [18, 15, 26], [22, 32, 34]]\n"
     ]
    }
   ],
   "source": [
    "ex2=[[4,9,4],[6,0,8],[1,8,7]]\n",
    "mat2=Matrix(ex1,3,3)\n",
    "mat2.__add__(ex2)"
   ]
  },
  {
   "cell_type": "code",
   "execution_count": 11,
   "id": "20f060d9",
   "metadata": {},
   "outputs": [
    {
     "name": "stdout",
     "output_type": "stream",
     "text": [
      "[[-3, -6, -9], [-12, -15, -18], [-21, -24, -27]]\n"
     ]
    }
   ],
   "source": [
    "ex3=[[4,9,4],[6,0,8],[1,8,7]]\n",
    "mat3=Matrix(ex2,3,3)\n",
    "mat3.__sub__(ex3)"
   ]
  },
  {
   "cell_type": "code",
   "execution_count": 12,
   "id": "26ce7284",
   "metadata": {},
   "outputs": [
    {
     "name": "stdout",
     "output_type": "stream",
     "text": [
      "[[-3, -12, -27], [-48, -75, -108], [-147, -192, -243]]\n"
     ]
    }
   ],
   "source": [
    "ex4=[[1,2,3],[4,5,6],[7,8,9]]\n",
    "mat4=Matrix(ex3,3,3)\n",
    "mat4.__mat_mult__(ex4)"
   ]
  },
  {
   "cell_type": "code",
   "execution_count": 13,
   "id": "8ee94fa2",
   "metadata": {},
   "outputs": [
    {
     "name": "stdout",
     "output_type": "stream",
     "text": [
      "[[-12, -72, -54], [0, -225, -648], [-1029, -960, -2187]]\n"
     ]
    }
   ],
   "source": [
    "ex5=[[4,6,2],[0,3,6],[7,5,9]]\n",
    "mat5=Matrix(ex4,3,3)\n",
    "mat5.__element_mult__(ex5)"
   ]
  },
  {
   "cell_type": "code",
   "execution_count": 14,
   "id": "6e343669",
   "metadata": {},
   "outputs": [
    {
     "name": "stdout",
     "output_type": "stream",
     "text": [
      "NO MATCH\n",
      "NO MATCH\n",
      "NO MATCH\n",
      "NO MATCH\n",
      "NO MATCH\n",
      "NO MATCH\n",
      "NO MATCH\n",
      "NO MATCH\n",
      "NO MATCH\n",
      "[[4, 3, 2], [2, 3, 0], [7, 1, 3]]\n"
     ]
    }
   ],
   "source": [
    "ex6=[[4,3,2],[2,3,0],[7,1,3]]\n",
    "mat6=Matrix(ex5,3,3)\n",
    "mat6.__equals__(ex6)"
   ]
  },
  {
   "cell_type": "code",
   "execution_count": 16,
   "id": "98ff05ca",
   "metadata": {},
   "outputs": [
    {
     "name": "stdout",
     "output_type": "stream",
     "text": [
      "[[4 3 2]\n",
      " [2 3 0]\n",
      " [7 1 3]]\n",
      "\n"
     ]
    },
    {
     "ename": "KeyboardInterrupt",
     "evalue": "",
     "output_type": "error",
     "traceback": [
      "\u001b[0;31m---------------------------------------------------------------------------\u001b[0m",
      "\u001b[0;31mKeyboardInterrupt\u001b[0m                         Traceback (most recent call last)",
      "Cell \u001b[0;32mIn [16], line 4\u001b[0m\n\u001b[1;32m      2\u001b[0m mat7\u001b[38;5;241m=\u001b[39mMatrix(ex6,\u001b[38;5;241m3\u001b[39m,\u001b[38;5;241m3\u001b[39m)\n\u001b[1;32m      3\u001b[0m \u001b[38;5;28mprint\u001b[39m(mat7)\n\u001b[0;32m----> 4\u001b[0m \u001b[43mmat7\u001b[49m\u001b[38;5;241;43m.\u001b[39;49m\u001b[43m__equals__\u001b[49m\u001b[43m(\u001b[49m\u001b[43mex7\u001b[49m\u001b[43m)\u001b[49m\n",
      "Cell \u001b[0;32mIn [8], line 82\u001b[0m, in \u001b[0;36mMatrix.__equals__\u001b[0;34m(self, N)\u001b[0m\n\u001b[1;32m     80\u001b[0m out_in\u001b[38;5;241m=\u001b[39m\u001b[38;5;28mself\u001b[39m\u001b[38;5;241m.\u001b[39mmatrix[i]\n\u001b[1;32m     81\u001b[0m \u001b[38;5;28;01mfor\u001b[39;00m j \u001b[38;5;129;01min\u001b[39;00m \u001b[38;5;28mrange\u001b[39m(\u001b[38;5;28mlen\u001b[39m(inner)):\n\u001b[0;32m---> 82\u001b[0m         \u001b[38;5;28;01mif\u001b[39;00m \u001b[43minner\u001b[49m\u001b[43m[\u001b[49m\u001b[43mj\u001b[49m\u001b[43m]\u001b[49m\u001b[38;5;241m==\u001b[39mout_in[j]:\n\u001b[1;32m     83\u001b[0m             check\u001b[38;5;241m=\u001b[39m\u001b[38;5;28;01mTrue\u001b[39;00m\n\u001b[1;32m     84\u001b[0m         \u001b[38;5;28;01melse\u001b[39;00m:\n",
      "\u001b[0;31mKeyboardInterrupt\u001b[0m: "
     ]
    }
   ],
   "source": [
    "ex7=[[4,3,2],[2,3,0],[7,1,3]]\n",
    "mat7=Matrix(ex6,3,3)\n",
    "print(mat7)\n",
    "mat7.__equals__(ex7)"
   ]
  },
  {
   "cell_type": "markdown",
   "id": "36fda2c0",
   "metadata": {
    "id": "36fda2c0"
   },
   "source": [
    "## Exercise 3\n",
    "Modify the functions `zeros`, `ones`, and `constant` (of your own or those below) to create objects of your matrix class. Note these should be functions **outside** of your class."
   ]
  },
  {
   "cell_type": "code",
   "execution_count": 30,
   "id": "5eeee64e",
   "metadata": {
    "id": "5eeee64e"
   },
   "outputs": [],
   "source": [
    "# Write your functions here\n",
    "class Variations(Matrix): \n",
    "    def zeros(self,m,n):\n",
    "        return [[0]*n for x in range(m)]\n",
    "\n",
    "    def constant(self,m,n,c):\n",
    "        return [[c]*n for x in range(m)]\n",
    "\n",
    "    def ones(self,m,n,c):\n",
    "        return constant(m,n,1)"
   ]
  },
  {
   "cell_type": "code",
   "execution_count": 31,
   "id": "d16293d5",
   "metadata": {
    "colab": {
     "base_uri": "https://localhost:8080/"
    },
    "id": "d16293d5",
    "outputId": "dacc2995-2457-4564-adb4-f7d693e4eef9"
   },
   "outputs": [],
   "source": [
    "# Test your functions here (you should print out each matrix you construct)\n",
    "a1=[[4,3,2],[2,3,0],[7,1,3]]\n"
   ]
  },
  {
   "cell_type": "markdown",
   "id": "f3b3ac5e",
   "metadata": {
    "id": "f3b3ac5e"
   },
   "source": [
    "## Exercise 4\n",
    "Overload python operators to appropriately use your functions in 4 and allow expressions like:\n",
    "- 2*M\n",
    "- M*2\n",
    "- M+N\n",
    "- M-N\n",
    "- M*N\n",
    "- M==N\n",
    "- M=N\n",
    "\n",
    "1. Matrix assignment ($M=N$) works in 2 ways and can be implemented as a method titled `__eq__`:\n",
    "        1. If `M_1` and `M_2` are `matrix` instances `M_1=M_2` sets the values of `M_1` to those of `M_2`, if they are the same size. Error otherwise.\n",
    "        1. Assignment should also work if `M_2` is a list of lists of the correct size rather than an object of the matrix class.\n",
    "\n",
    "You may find this tutorial useful https://realpython.com/operator-function-overloading.\n",
    "\n",
    "Demonstrate the basic properties of matrices with your matrix class by creating 2 by 2 example matrices using your Matrix class and illustrating the following:\n",
    "($A$, $B$, and $C$ are matrices, and $I$ is the identity matrix $\\begin{bmatrix} 1 & 0\\\\ 0 & 1\\end{bmatrix}$)\n",
    "\n",
    "1. $(AB)C = A(BC)$\n",
    "1. $A(B+C)=AB+AC$\n",
    "1. $AB \\neq BA$\n",
    "1. $AI = A$\n",
    "1. $AB = 0$ if $B$ is the 0 matrix"
   ]
  },
  {
   "cell_type": "code",
   "execution_count": null,
   "id": "83ace0ed",
   "metadata": {
    "id": "83ace0ed"
   },
   "outputs": [],
   "source": [
    "# Modify your class here (copy and paste it from Exercise 2 to get started)\n",
    "class Matrix:\n",
    "    \n",
    "    def __init__(self, lst = None, n = None, m = None):\n",
    "        if lst == None and type(n) == int and type(m) == int:\n",
    "            self.matrix = [[0]*n for x in range(m)]\n",
    "        elif (all(type(i) == list for i in lst) and all(len(i) == len(lst[0]) for i in lst)):\n",
    "            self.matrix = [i for i in lst]\n",
    "        else:\n",
    "            print(\"There is an error in the Matrix!\")\n",
    "            \n",
    "    def __getitem__(self, index):\n",
    "        if isinstance(index, int):\n",
    "            return self.matrix[index]\n",
    "        elif len(index) == 2:\n",
    "            i,j = index\n",
    "            return self.matrix[i][j]\n",
    "        \n",
    "    def __str__(self):\n",
    "        matrix_disp = \"[\"+str(self.matrix[0]).replace(\",\",\"\")+\"\\n\"\n",
    "        for i in range(1,len(self.matrix)-1):\n",
    "            matrix_disp +=\" \"+str(self.matrix[i]).replace(\",\",\"\")+\"\\n\"\n",
    "        matrix_disp +=\" \"+str(self.matrix[len(self.matrix)-1]).replace(\",\",\"\")+\"]\"+\"\\n\"\n",
    "        return matrix_disp\n",
    "    \n",
    "    def __scalarmul__(self,c):\n",
    "        if isinstance(c,int):\n",
    "            for i in range (len(self.matrix)):\n",
    "                inner=self.matrix[i]\n",
    "                for j in range(len(inner)):\n",
    "                    inner[j]=inner[j]*c\n",
    "    \n",
    "    def __add__(self,N):\n",
    "        #TEST TO SEE IF M AND N ARE COMPATIBLE - assuming\n",
    "        if len(self.matrix)==len(N):\n",
    "            for i in range (len(self.matrix)):\n",
    "                inner=N[i]\n",
    "                out_in=self.matrix[i]\n",
    "                for j in range(len(inner)):\n",
    "                    new_val=(inner[j]+out_in[j])\n",
    "                    inner[j]=new_val\n",
    "        print(N)\n",
    "        \n",
    "    def __sub__(self,N):\n",
    "        if len(self.matrix)==len(N):\n",
    "            for i in range (len(self.matrix)):\n",
    "                inner=N[i]\n",
    "                out_in=self.matrix[i]\n",
    "                for j in range(len(inner)):\n",
    "                    new_val=(inner[j]-out_in[j])\n",
    "                    inner[j]=new_val\n",
    "        print(N)\n",
    "        \n",
    "    def __mat_mult__(self,N):\n",
    "        if len(self.matrix)==len(N):\n",
    "            for i in range (len(self.matrix)):\n",
    "                inner=N[i]\n",
    "                out_in=self.matrix[i]\n",
    "                for j in range(len(inner)):\n",
    "                    new_val=(inner[j]*out_in[j])\n",
    "                    inner[j]=new_val\n",
    "        print(N)\n",
    "        \n",
    "    def __element_mult__(self,N):\n",
    "        if len(self.matrix)==len(N):\n",
    "            for i in range (len(self.matrix)):\n",
    "                inner=N[i]\n",
    "                out_in=self.matrix[i]\n",
    "                for j in range(len(inner)):\n",
    "                    new_val=(inner[j]*out_in[j])\n",
    "                    inner[j]=new_val\n",
    "        print(N)\n",
    "        \n",
    "    def __equals__(self,N):\n",
    "        if len(self.matrix)==len(N):\n",
    "            check=True\n",
    "            while check==True:\n",
    "                for i in range(len(self.matrix)):\n",
    "                    inner=N[i]\n",
    "                    out_in=self.matrix[i]\n",
    "                    for j in range(len(inner)):\n",
    "                            if inner[j]==out_in[j]:\n",
    "                                check=True\n",
    "                            else:\n",
    "                                check=False\n",
    "                                print(\"NO MATCH\")\n",
    "        print(N)"
   ]
  },
  {
   "cell_type": "code",
   "execution_count": null,
   "id": "0d8df67a",
   "metadata": {
    "colab": {
     "base_uri": "https://localhost:8080/"
    },
    "id": "0d8df67a",
    "outputId": "b3d749ad-d30c-476f-b2e2-5faeddd4dd0c"
   },
   "outputs": [],
   "source": [
    "# Test your functions here\n"
   ]
  },
  {
   "cell_type": "markdown",
   "id": "02e9850f",
   "metadata": {
    "id": "02e9850f"
   },
   "source": [
    "## Matrix Functions\n",
    "You can use these freely. Don't forget to run this cell before the rest of your notebook if you call any of these functions directly."
   ]
  },
  {
   "cell_type": "code",
   "execution_count": null,
   "id": "4ca5c7e6",
   "metadata": {
    "id": "4ca5c7e6"
   },
   "outputs": [],
   "source": [
    "def zeros(m,n):\n",
    "    return [[0]*n for x in range(m)]\n",
    "\n",
    "def constant(m,n,c):\n",
    "    return [[c]*n for x in range(m)]\n",
    "\n",
    "def ones(m,n,c):\n",
    "    return constant(m,n,1)\n",
    "\n",
    "def eye(n):\n",
    "    x = zeros(n,n)\n",
    "    for i in range(n):\n",
    "        x[i][i]=1\n",
    "    return x\n",
    "\n",
    "def is_matrix(matrix):\n",
    "    if type(matrix)!=list:\n",
    "        print(\"Not a matrix\")\n",
    "        return False\n",
    "    if type(matrix[0])!=list:\n",
    "        print(\"Not a matrix\")\n",
    "        return False\n",
    "    _ = len(matrix[0])\n",
    "    for i in matrix:\n",
    "        if len(i)!=_:\n",
    "            print(\"Not a matrix\")\n",
    "            return False\n",
    "    return True\n",
    "\n",
    "def shape(matrix):\n",
    "    if not is_matrix(matrix):\n",
    "        return\n",
    "    row_len = len(matrix)\n",
    "    col_len = len(matrix[0])\n",
    "    return (row_len,col_len)\n",
    "\n",
    "def is_square_matrix(matrix):\n",
    "    x,y = matrix_shape(matrix)\n",
    "    if x != y:\n",
    "        print(\"Not a square matrix\")\n",
    "        return False\n",
    "    return True\n",
    "\n",
    "def matrix_add(a,b):\n",
    "    if not is_matrix(a): \n",
    "        print(\"A is not a matrix\")\n",
    "        return \n",
    "    if not is_matrix(b):\n",
    "        print(\"B is not a matrix\")\n",
    "        return \n",
    "    if matrix_shape(a)!=matrix_shape(b):\n",
    "        print(\"Matrices must be the same shape\")\n",
    "        return \n",
    "    row,col = matrix_shape(a)\n",
    "    return_matrix = zero_matrix(row,col)\n",
    "    for i in range(len(a)):\n",
    "        for j in range(len(a[i])):\n",
    "            return_matrix[i][j] = a[i][j]+b[i][j]\n",
    "    return return_matrix\n",
    "\n",
    "def matrix_neg(matrix):  \n",
    "    return matrix_scalar_multiply(-1,matrix)\n",
    "\n",
    "def matrix_sub(a,b):\n",
    "    return matrix_add(a,matrix_neg(b))\n",
    "\n",
    "def transpose(matrix):\n",
    "    if not is_matrix(matrix): \n",
    "        print(\"Error. Not a matrix\")\n",
    "        return \n",
    "    col,row = matrix_shape(matrix)\n",
    "    return_matrix = zero_matrix(row,col)\n",
    "    for i in range(row):\n",
    "        for j in range(col):\n",
    "            return_matrix[i][j]=matrix[j][i]\n",
    "    return return_matrix\n",
    "\n",
    "def matrix_scalar_multiply(scalar,matrix):\n",
    "    if not is_matrix(matrix): \n",
    "        print(\"Error. Not a matrix\")\n",
    "        return \n",
    "    row,col = matrix_shape(matrix)\n",
    "    return_matrix = zero_matrix(row,col)\n",
    "    for i in range(row):\n",
    "        for j in range(col):\n",
    "            return_matrix[i][j]=matrix[i][j]*scalar\n",
    "    return return_matrix\n",
    "\n",
    "def matrix_multiply(M1,M2):\n",
    "    m1,n1=matrix_shape(M1)\n",
    "    m2,n2=matrix_shape(M2)\n",
    "    \n",
    "    if n1==m2:\n",
    "        \n",
    "        M3=zero_matrix(m1,n2)\n",
    "        \n",
    "        for i in range(m1):\n",
    "            for j in range(n2):\n",
    "                # Compute the element\n",
    "                for k in range(n1):\n",
    "                    M3[i][j]+=M1[i][k]*M2[k][j]\n",
    "        return M3\n",
    "    else:\n",
    "        print(\"Error, matrix dimensions do not match.\")\n",
    "    \n",
    "def elementwise_multiply(M1,M2):\n",
    "    m1,n1=matrix_shape(M1)\n",
    "    m2,n2=matrix_shape(M2)\n",
    "    \n",
    "    if m1==m2 and n1==n2:\n",
    "        M3 = zero_matrix(m1,n1)\n",
    "        for i in range(m1):\n",
    "            for j in range(n1):\n",
    "                M3[i][j] = M1[i][j]*M2[i][j]\n",
    "        return M3\n",
    "    else:\n",
    "        print(\"Error: matrices must be the same shape.\")\n",
    "        \n",
    "def dot_product(M1,M2):\n",
    "    m1,n1=matrix_shape(M1)\n",
    "    m2,n2=matrix_shape(M2)\n",
    "    \n",
    "    if m1==m2 and n1==n2:\n",
    "        dotprod = 0\n",
    "        for i in range(m1):\n",
    "            for j in range(n1):\n",
    "                dotprod += M1[i][j]*M2[i][j]\n",
    "        return dotprod\n",
    "    else:\n",
    "        print(\"Error: matrices must be the same shape.\")"
   ]
  },
  {
   "cell_type": "code",
   "execution_count": null,
   "id": "af1c319c",
   "metadata": {},
   "outputs": [],
   "source": []
  }
 ],
 "metadata": {
  "colab": {
   "name": "Lab9_solutions.ipynb",
   "provenance": []
  },
  "kernelspec": {
   "display_name": "Python 3 (ipykernel)",
   "language": "python",
   "name": "python3"
  },
  "language_info": {
   "codemirror_mode": {
    "name": "ipython",
    "version": 3
   },
   "file_extension": ".py",
   "mimetype": "text/x-python",
   "name": "python",
   "nbconvert_exporter": "python",
   "pygments_lexer": "ipython3",
   "version": "3.8.10"
  }
 },
 "nbformat": 4,
 "nbformat_minor": 5
}
