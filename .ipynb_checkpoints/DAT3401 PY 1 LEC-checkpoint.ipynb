{
 "cells": [
  {
   "cell_type": "code",
   "execution_count": 1,
   "id": "093a3aa3",
   "metadata": {},
   "outputs": [
    {
     "name": "stdout",
     "output_type": "stream",
     "text": [
      "Hello world\n"
     ]
    }
   ],
   "source": [
    "print(\"Hello world\")"
   ]
  },
  {
   "cell_type": "code",
   "execution_count": 3,
   "id": "848012d8",
   "metadata": {},
   "outputs": [],
   "source": [
    "#im hungry"
   ]
  },
  {
   "cell_type": "code",
   "execution_count": 4,
   "id": "050a4cd8",
   "metadata": {},
   "outputs": [
    {
     "data": {
      "text/plain": [
       "(1, 4)"
      ]
     },
     "execution_count": 4,
     "metadata": {},
     "output_type": "execute_result"
    }
   ],
   "source": [
    "divmod(10,6)"
   ]
  },
  {
   "cell_type": "code",
   "execution_count": 5,
   "id": "21b9488f",
   "metadata": {},
   "outputs": [
    {
     "data": {
      "text/plain": [
       "(3, 1)"
      ]
     },
     "execution_count": 5,
     "metadata": {},
     "output_type": "execute_result"
    }
   ],
   "source": [
    "divmod(10,3)"
   ]
  },
  {
   "cell_type": "code",
   "execution_count": 6,
   "id": "f210094a",
   "metadata": {},
   "outputs": [],
   "source": [
    "#wtf is divmod doing - first result in parenthesis is the 10/3 and then 10%3 "
   ]
  },
  {
   "cell_type": "markdown",
   "id": "84ebe95c",
   "metadata": {},
   "source": [
    "##ORDER OF OPERATIONS"
   ]
  },
  {
   "cell_type": "markdown",
   "id": "e85a0f55",
   "metadata": {},
   "source": [
    "PEMDAS: PARENTHESIS, EXPONENTS, MULTIPLY, DIVIDE, ADD, SUB\n"
   ]
  },
  {
   "cell_type": "code",
   "execution_count": 7,
   "id": "c418d8d2",
   "metadata": {},
   "outputs": [
    {
     "data": {
      "text/plain": [
       "18"
      ]
     },
     "execution_count": 7,
     "metadata": {},
     "output_type": "execute_result"
    }
   ],
   "source": [
    "2*(5-2)**2 #what is the result of this "
   ]
  },
  {
   "cell_type": "code",
   "execution_count": 8,
   "id": "05537d62",
   "metadata": {},
   "outputs": [
    {
     "data": {
      "text/plain": [
       "-32"
      ]
     },
     "execution_count": 8,
     "metadata": {},
     "output_type": "execute_result"
    }
   ],
   "source": [
    "-2**5 #what about this?"
   ]
  },
  {
   "cell_type": "code",
   "execution_count": 9,
   "id": "31ac8b93",
   "metadata": {},
   "outputs": [
    {
     "data": {
      "text/plain": [
       "-1024"
      ]
     },
     "execution_count": 9,
     "metadata": {},
     "output_type": "execute_result"
    }
   ],
   "source": [
    "-2**10"
   ]
  },
  {
   "cell_type": "markdown",
   "id": "dad38229",
   "metadata": {},
   "source": [
    "Other mathematical operators "
   ]
  },
  {
   "cell_type": "code",
   "execution_count": 10,
   "id": "fe65167a",
   "metadata": {},
   "outputs": [
    {
     "data": {
      "text/plain": [
       "'humzahumzahumzahumzahumza'"
      ]
     },
     "execution_count": 10,
     "metadata": {},
     "output_type": "execute_result"
    }
   ],
   "source": [
    "'humza'*5"
   ]
  },
  {
   "cell_type": "code",
   "execution_count": 11,
   "id": "63419b07",
   "metadata": {},
   "outputs": [],
   "source": [
    "#bruh python actually does this where it'll multiply the string over and over"
   ]
  },
  {
   "cell_type": "code",
   "execution_count": null,
   "id": "006c31c5",
   "metadata": {},
   "outputs": [],
   "source": []
  }
 ],
 "metadata": {
  "kernelspec": {
   "display_name": "Python 3 (ipykernel)",
   "language": "python",
   "name": "python3"
  },
  "language_info": {
   "codemirror_mode": {
    "name": "ipython",
    "version": 3
   },
   "file_extension": ".py",
   "mimetype": "text/x-python",
   "name": "python",
   "nbconvert_exporter": "python",
   "pygments_lexer": "ipython3",
   "version": "3.8.10"
  }
 },
 "nbformat": 4,
 "nbformat_minor": 5
}
