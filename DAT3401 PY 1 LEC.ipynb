{
 "cells": [
  {
   "cell_type": "code",
   "execution_count": 1,
   "id": "f9e6ac47",
   "metadata": {},
   "outputs": [
    {
     "name": "stdout",
     "output_type": "stream",
     "text": [
      "Hello world\n"
     ]
    }
   ],
   "source": [
    "print(\"Hello world\")"
   ]
  },
  {
   "cell_type": "code",
   "execution_count": 3,
   "id": "10258ad3",
   "metadata": {},
   "outputs": [],
   "source": [
    "#im hungry"
   ]
  },
  {
   "cell_type": "code",
   "execution_count": 4,
   "id": "147ed965",
   "metadata": {},
   "outputs": [
    {
     "data": {
      "text/plain": [
       "(1, 4)"
      ]
     },
     "execution_count": 4,
     "metadata": {},
     "output_type": "execute_result"
    }
   ],
   "source": [
    "divmod(10,6)"
   ]
  },
  {
   "cell_type": "code",
   "execution_count": 5,
   "id": "62819164",
   "metadata": {},
   "outputs": [
    {
     "data": {
      "text/plain": [
       "(3, 1)"
      ]
     },
     "execution_count": 5,
     "metadata": {},
     "output_type": "execute_result"
    }
   ],
   "source": [
    "divmod(10,3)"
   ]
  },
  {
   "cell_type": "code",
   "execution_count": 6,
   "id": "d8dcbb07",
   "metadata": {},
   "outputs": [],
   "source": [
    "#what is divmod doing - first result in parenthesis is the 10/3 and then 10%3 "
   ]
  },
  {
   "cell_type": "markdown",
   "id": "359cb2a4",
   "metadata": {},
   "source": [
    "##ORDER OF OPERATIONS"
   ]
  },
  {
   "cell_type": "markdown",
   "id": "a426c643",
   "metadata": {},
   "source": [
    "PEMDAS: PARENTHESIS, EXPONENTS, MULTIPLY, DIVIDE, ADD, SUB\n"
   ]
  },
  {
   "cell_type": "code",
   "execution_count": 7,
   "id": "161db0b5",
   "metadata": {},
   "outputs": [
    {
     "data": {
      "text/plain": [
       "18"
      ]
     },
     "execution_count": 7,
     "metadata": {},
     "output_type": "execute_result"
    }
   ],
   "source": [
    "2*(5-2)**2 #what is the result of this "
   ]
  },
  {
   "cell_type": "code",
   "execution_count": 8,
   "id": "8d702b5a",
   "metadata": {},
   "outputs": [
    {
     "data": {
      "text/plain": [
       "-32"
      ]
     },
     "execution_count": 8,
     "metadata": {},
     "output_type": "execute_result"
    }
   ],
   "source": [
    "-2**5 #what about this?"
   ]
  },
  {
   "cell_type": "code",
   "execution_count": 9,
   "id": "6b6368e5",
   "metadata": {},
   "outputs": [
    {
     "data": {
      "text/plain": [
       "-1024"
      ]
     },
     "execution_count": 9,
     "metadata": {},
     "output_type": "execute_result"
    }
   ],
   "source": [
    "-2**10"
   ]
  },
  {
   "cell_type": "markdown",
   "id": "f50a1457",
   "metadata": {},
   "source": [
    "Other mathematical operators "
   ]
  },
  {
   "cell_type": "code",
   "execution_count": 10,
   "id": "7a537920",
   "metadata": {},
   "outputs": [
    {
     "data": {
      "text/plain": [
       "'humzahumzahumzahumzahumza'"
      ]
     },
     "execution_count": 10,
     "metadata": {},
     "output_type": "execute_result"
    }
   ],
   "source": [
    "'humza'*5"
   ]
  },
  {
   "cell_type": "code",
   "execution_count": 11,
   "id": "ac3e25b7",
   "metadata": {},
   "outputs": [],
   "source": [
    "#bruh python actually does this where it'll multiply the string over and over"
   ]
  },
  {
   "cell_type": "code",
   "execution_count": 12,
   "id": "6cb8092b",
   "metadata": {},
   "outputs": [
    {
     "data": {
      "text/plain": [
       "'helloworld'"
      ]
     },
     "execution_count": 12,
     "metadata": {},
     "output_type": "execute_result"
    }
   ],
   "source": [
    "'hello'+'world'"
   ]
  },
  {
   "cell_type": "code",
   "execution_count": 13,
   "id": "4eb38a8f",
   "metadata": {},
   "outputs": [
    {
     "ename": "TypeError",
     "evalue": "unsupported operand type(s) for /: 'str' and 'int'",
     "output_type": "error",
     "traceback": [
      "\u001b[0;31m---------------------------------------------------------------------------\u001b[0m",
      "\u001b[0;31mTypeError\u001b[0m                                 Traceback (most recent call last)",
      "Cell \u001b[0;32mIn [13], line 1\u001b[0m\n\u001b[0;32m----> 1\u001b[0m \u001b[38;5;124;43m'\u001b[39;49m\u001b[38;5;124;43mhumza\u001b[39;49m\u001b[38;5;124;43m'\u001b[39;49m\u001b[38;5;241;43m/\u001b[39;49m\u001b[38;5;241;43m3\u001b[39;49m\n",
      "\u001b[0;31mTypeError\u001b[0m: unsupported operand type(s) for /: 'str' and 'int'"
     ]
    }
   ],
   "source": [
    "'humza'/3"
   ]
  },
  {
   "cell_type": "code",
   "execution_count": 14,
   "id": "8c71388b",
   "metadata": {},
   "outputs": [],
   "source": [
    "#you can't actually divide a string lol"
   ]
  },
  {
   "cell_type": "code",
   "execution_count": 15,
   "id": "18df733f",
   "metadata": {},
   "outputs": [
    {
     "ename": "TypeError",
     "evalue": "unsupported operand type(s) for -: 'str' and 'str'",
     "output_type": "error",
     "traceback": [
      "\u001b[0;31m---------------------------------------------------------------------------\u001b[0m",
      "\u001b[0;31mTypeError\u001b[0m                                 Traceback (most recent call last)",
      "Cell \u001b[0;32mIn [15], line 1\u001b[0m\n\u001b[0;32m----> 1\u001b[0m \u001b[38;5;124;43m'\u001b[39;49m\u001b[38;5;124;43mName\u001b[39;49m\u001b[38;5;124;43m'\u001b[39;49m\u001b[38;5;241;43m-\u001b[39;49m\u001b[38;5;124;43m'\u001b[39;49m\u001b[38;5;124;43mam\u001b[39;49m\u001b[38;5;124;43m'\u001b[39;49m\n",
      "\u001b[0;31mTypeError\u001b[0m: unsupported operand type(s) for -: 'str' and 'str'"
     ]
    }
   ],
   "source": [
    "'Name'-'am'"
   ]
  },
  {
   "cell_type": "code",
   "execution_count": 16,
   "id": "733e0b2c",
   "metadata": {},
   "outputs": [],
   "source": [
    "# precise string subtraction doesnt work"
   ]
  },
  {
   "cell_type": "code",
   "execution_count": 17,
   "id": "6cba79b9",
   "metadata": {},
   "outputs": [
    {
     "ename": "TypeError",
     "evalue": "can't multiply sequence by non-int of type 'str'",
     "output_type": "error",
     "traceback": [
      "\u001b[0;31m---------------------------------------------------------------------------\u001b[0m",
      "\u001b[0;31mTypeError\u001b[0m                                 Traceback (most recent call last)",
      "Cell \u001b[0;32mIn [17], line 1\u001b[0m\n\u001b[0;32m----> 1\u001b[0m \u001b[38;5;124;43m'\u001b[39;49m\u001b[38;5;124;43mJoe\u001b[39;49m\u001b[38;5;124;43m'\u001b[39;49m\u001b[38;5;241;43m*\u001b[39;49m\u001b[38;5;124;43m'\u001b[39;49m\u001b[38;5;124;43mMama\u001b[39;49m\u001b[38;5;124;43m'\u001b[39;49m\n",
      "\u001b[0;31mTypeError\u001b[0m: can't multiply sequence by non-int of type 'str'"
     ]
    }
   ],
   "source": [
    "'Joe'*'Mama' #u cant multiply strings together or by floats\n"
   ]
  },
  {
   "cell_type": "code",
   "execution_count": 18,
   "id": "4972093a",
   "metadata": {},
   "outputs": [
    {
     "data": {
      "text/plain": [
       "[1, 2, 3, 4, 1, 2, 3, 4]"
      ]
     },
     "execution_count": 18,
     "metadata": {},
     "output_type": "execute_result"
    }
   ],
   "source": [
    "[1,2,3,4]*2"
   ]
  },
  {
   "cell_type": "code",
   "execution_count": 19,
   "id": "d8f7dfaa",
   "metadata": {},
   "outputs": [],
   "source": [
    "#multiplying the list with an int repeats the list x many times\n"
   ]
  },
  {
   "cell_type": "code",
   "execution_count": 30,
   "id": "5ab98197",
   "metadata": {},
   "outputs": [
    {
     "data": {
      "text/plain": [
       "[1, 2, 3]"
      ]
     },
     "execution_count": 30,
     "metadata": {},
     "output_type": "execute_result"
    }
   ],
   "source": [
    "[1,2,3,4,5,6][:3] #you can get list elements out too using this command.."
   ]
  },
  {
   "cell_type": "code",
   "execution_count": null,
   "id": "5caa4f1b",
   "metadata": {},
   "outputs": [],
   "source": []
  },
  {
   "cell_type": "code",
   "execution_count": null,
   "id": "91e67a6c",
   "metadata": {},
   "outputs": [],
   "source": []
  },
  {
   "cell_type": "markdown",
   "id": "e732dc89",
   "metadata": {},
   "source": [
    "STRING OPERATIONS"
   ]
  },
  {
   "cell_type": "code",
   "execution_count": 24,
   "id": "4bc4ca10",
   "metadata": {},
   "outputs": [
    {
     "data": {
      "text/plain": [
       "'H'"
      ]
     },
     "execution_count": 24,
     "metadata": {},
     "output_type": "execute_result"
    }
   ],
   "source": [
    "\"Hello World\"[0]"
   ]
  },
  {
   "cell_type": "code",
   "execution_count": 21,
   "id": "17d44e49",
   "metadata": {},
   "outputs": [
    {
     "data": {
      "text/plain": [
       "'e'"
      ]
     },
     "execution_count": 21,
     "metadata": {},
     "output_type": "execute_result"
    }
   ],
   "source": [
    "\"Hello World\"[1]"
   ]
  },
  {
   "cell_type": "code",
   "execution_count": 23,
   "id": "21fb288b",
   "metadata": {},
   "outputs": [
    {
     "data": {
      "text/plain": [
       "'Hell'"
      ]
     },
     "execution_count": 23,
     "metadata": {},
     "output_type": "execute_result"
    }
   ],
   "source": [
    "\"Hello World\"[0:4]"
   ]
  },
  {
   "cell_type": "code",
   "execution_count": null,
   "id": "d1eaa600",
   "metadata": {},
   "outputs": [],
   "source": [
    "#see how you can get the indicies of each string?"
   ]
  },
  {
   "cell_type": "code",
   "execution_count": 26,
   "id": "cec5ee75",
   "metadata": {},
   "outputs": [
    {
     "data": {
      "text/plain": [
       "'Hell'"
      ]
     },
     "execution_count": 26,
     "metadata": {},
     "output_type": "execute_result"
    }
   ],
   "source": [
    "\"Hello World\"[:4] #does the same thing as line 23 - tells it to \"parse from the start of the string to the specified end\""
   ]
  },
  {
   "cell_type": "code",
   "execution_count": 27,
   "id": "7b4e64b9",
   "metadata": {},
   "outputs": [
    {
     "data": {
      "text/plain": [
       "'d'"
      ]
     },
     "execution_count": 27,
     "metadata": {},
     "output_type": "execute_result"
    }
   ],
   "source": [
    "\"Hello World\"[-1] # this command gets you the last character of your string input"
   ]
  },
  {
   "cell_type": "code",
   "execution_count": 28,
   "id": "58c0388d",
   "metadata": {},
   "outputs": [
    {
     "data": {
      "text/plain": [
       "' World'"
      ]
     },
     "execution_count": 28,
     "metadata": {},
     "output_type": "execute_result"
    }
   ],
   "source": [
    "\"Hello World\"[5:] #you do it the other way too"
   ]
  },
  {
   "cell_type": "code",
   "execution_count": 31,
   "id": "3a970da0",
   "metadata": {},
   "outputs": [
    {
     "data": {
      "text/plain": [
       "'dlroW oll'"
      ]
     },
     "execution_count": 31,
     "metadata": {},
     "output_type": "execute_result"
    }
   ],
   "source": [
    "\"Hello World\"[-1:1:-1]"
   ]
  },
  {
   "cell_type": "code",
   "execution_count": 32,
   "id": "65e25b34",
   "metadata": {},
   "outputs": [
    {
     "data": {
      "text/plain": [
       "'drWol'"
      ]
     },
     "execution_count": 32,
     "metadata": {},
     "output_type": "execute_result"
    }
   ],
   "source": [
    "\"Hello World\"[-1:1:-2]"
   ]
  },
  {
   "cell_type": "code",
   "execution_count": 37,
   "id": "de347b12",
   "metadata": {},
   "outputs": [
    {
     "data": {
      "text/plain": [
       "'dlroW o'"
      ]
     },
     "execution_count": 37,
     "metadata": {},
     "output_type": "execute_result"
    }
   ],
   "source": [
    "\"Hello World\"[-1:3:-1]"
   ]
  },
  {
   "cell_type": "markdown",
   "id": "7a559938",
   "metadata": {},
   "source": [
    "CLASS EXERCISE\n",
    "1; every other letter starting with the first letter\n",
    "2; every other letter starting with the second letter\n",
    "3; every other letter in reverse order staring from the last one\n",
    "4; every other letter in rev order starting from penultimate letter"
   ]
  },
  {
   "cell_type": "code",
   "execution_count": 38,
   "id": "e3031be3",
   "metadata": {},
   "outputs": [
    {
     "name": "stdout",
     "output_type": "stream",
     "text": [
      "Humza Humayun\n"
     ]
    }
   ],
   "source": [
    "print(\"Humza Humayun\")"
   ]
  },
  {
   "cell_type": "code",
   "execution_count": 43,
   "id": "f4d0bcb8",
   "metadata": {},
   "outputs": [
    {
     "data": {
      "text/plain": [
       "'HmaHmyn'"
      ]
     },
     "execution_count": 43,
     "metadata": {},
     "output_type": "execute_result"
    }
   ],
   "source": [
    "\"Humza Humayun\"[::2]"
   ]
  },
  {
   "cell_type": "code",
   "execution_count": 45,
   "id": "1066e584",
   "metadata": {},
   "outputs": [
    {
     "data": {
      "text/plain": [
       "'uz uau'"
      ]
     },
     "execution_count": 45,
     "metadata": {},
     "output_type": "execute_result"
    }
   ],
   "source": [
    "\"Humza Humayun\"[1::2]"
   ]
  },
  {
   "cell_type": "code",
   "execution_count": 49,
   "id": "5f3234ff",
   "metadata": {},
   "outputs": [
    {
     "data": {
      "text/plain": [
       "'nuyamuH az'"
      ]
     },
     "execution_count": 49,
     "metadata": {},
     "output_type": "execute_result"
    }
   ],
   "source": [
    "\"Humza Humayun\"[::-1]"
   ]
  },
  {
   "cell_type": "code",
   "execution_count": null,
   "id": "3a115ff6",
   "metadata": {},
   "outputs": [],
   "source": []
  }
 ],
 "metadata": {
  "kernelspec": {
   "display_name": "Python 3 (ipykernel)",
   "language": "python",
   "name": "python3"
  },
  "language_info": {
   "codemirror_mode": {
    "name": "ipython",
    "version": 3
   },
   "file_extension": ".py",
   "mimetype": "text/x-python",
   "name": "python",
   "nbconvert_exporter": "python",
   "pygments_lexer": "ipython3",
   "version": "3.8.10"
  }
 },
 "nbformat": 4,
 "nbformat_minor": 5
}
